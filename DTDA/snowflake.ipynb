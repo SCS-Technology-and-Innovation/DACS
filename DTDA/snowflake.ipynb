{
  "nbformat": 4,
  "nbformat_minor": 0,
  "metadata": {
    "colab": {
      "provenance": [],
      "authorship_tag": "ABX9TyPyJxv86PEg7OD+ytC/XNSo",
      "include_colab_link": true
    },
    "kernelspec": {
      "name": "python3",
      "display_name": "Python 3"
    },
    "language_info": {
      "name": "python"
    }
  },
  "cells": [
    {
      "cell_type": "markdown",
      "metadata": {
        "id": "view-in-github",
        "colab_type": "text"
      },
      "source": [
        "<a href=\"https://colab.research.google.com/github/SCS-Technology-and-Innovation/DACS/blob/main/DTDA/snowflake.ipynb\" target=\"_parent\"><img src=\"https://colab.research.google.com/assets/colab-badge.svg\" alt=\"Open In Colab\"/></a>"
      ]
    },
    {
      "cell_type": "markdown",
      "source": [
        "# The nature of things\n",
        "\n",
        "We will start our journey into how computational rules give rise to amazing structures and how nature itself is in many senses a computational apparatus by encountering some basic concepts of how to express rules and retain information.\n",
        "\n",
        "Our tool is a [turtle](https://docs.python.org/3/library/turtle.html). A digital one. "
      ],
      "metadata": {
        "id": "4c-d5ecZbMiJ"
      }
    },
    {
      "cell_type": "code",
      "source": [
        "import turtle # ask the Python environment to load a package that provides us a virtual turtle"
      ],
      "metadata": {
        "id": "e8DNtgbFbmyP"
      },
      "execution_count": null,
      "outputs": []
    },
    {
      "cell_type": "markdown",
      "source": [
        "Press the play symbol (a small triangle pointing right) at the left margin of the above code block to load the package. Unfortunately, the `turtle` package as such does not draw things for us in google colab (it would if we were to run this on our local computer), so we will have to install and load another version of it here in order to see things."
      ],
      "metadata": {
        "id": "FzJrlP27bs1u"
      }
    },
    {
      "cell_type": "code",
      "source": [
        "!pip3 install ColabTurtle"
      ],
      "metadata": {
        "colab": {
          "base_uri": "https://localhost:8080/"
        },
        "id": "KhVSlG-Icz-z",
        "outputId": "5892feff-b32f-4d08-bea8-c3d07050ccd7"
      },
      "execution_count": null,
      "outputs": [
        {
          "output_type": "stream",
          "name": "stdout",
          "text": [
            "Looking in indexes: https://pypi.org/simple, https://us-python.pkg.dev/colab-wheels/public/simple/\n",
            "Collecting ColabTurtle\n",
            "  Downloading ColabTurtle-2.1.0.tar.gz (6.8 kB)\n",
            "  Preparing metadata (setup.py) ... \u001b[?25l\u001b[?25hdone\n",
            "Building wheels for collected packages: ColabTurtle\n",
            "  Building wheel for ColabTurtle (setup.py) ... \u001b[?25l\u001b[?25hdone\n",
            "  Created wheel for ColabTurtle: filename=ColabTurtle-2.1.0-py3-none-any.whl size=7656 sha256=089a073e615809d9892c413f13470dc5445e50f5cd0eb2d8bc8a483cbd59246a\n",
            "  Stored in directory: /root/.cache/pip/wheels/a9/85/dc/29b6b43c4c6c0fe37192ccad65fe2adcef1e52dd24b0eb61fc\n",
            "Successfully built ColabTurtle\n",
            "Installing collected packages: ColabTurtle\n",
            "Successfully installed ColabTurtle-2.1.0\n"
          ]
        }
      ]
    },
    {
      "cell_type": "markdown",
      "source": [
        "The `pip` command downloads a new package but we still have to load it to use it. \n",
        "\n",
        "In general, we only download each new package only once but we load every time we want to use it."
      ],
      "metadata": {
        "id": "v0GcSauYc18R"
      }
    },
    {
      "cell_type": "code",
      "source": [
        "from ColabTurtle.Turtle import *"
      ],
      "metadata": {
        "id": "GSDkCp_7dbJF"
      },
      "execution_count": null,
      "outputs": []
    },
    {
      "cell_type": "markdown",
      "source": [
        "Let's set up a turtle."
      ],
      "metadata": {
        "id": "gJc433hFdqPU"
      }
    },
    {
      "cell_type": "code",
      "source": [
        "initializeTurtle()"
      ],
      "metadata": {
        "colab": {
          "base_uri": "https://localhost:8080/",
          "height": 521
        },
        "id": "Yy9S7edaduqz",
        "outputId": "0c3953ca-558a-4a17-aca7-0d3228e37c26"
      },
      "execution_count": null,
      "outputs": [
        {
          "output_type": "display_data",
          "data": {
            "text/plain": [
              "<IPython.core.display.HTML object>"
            ],
            "text/html": [
              "\n",
              "      <svg width=\"800\" height=\"500\">\n",
              "        <rect width=\"100%\" height=\"100%\" fill=\"black\"/>\n",
              "        \n",
              "        <g visibility=visible transform=\"rotate(360,400,250) translate(382, 232)\">\n",
              "<path style=\" stroke:none;fill-rule:evenodd;fill:white;fill-opacity:1;\" d=\"M 18.214844 0.632812 C 16.109375 1.800781 15.011719 4.074219 15.074219 7.132812 L 15.085938 7.652344 L 14.785156 7.496094 C 13.476562 6.824219 11.957031 6.671875 10.40625 7.066406 C 8.46875 7.550781 6.515625 9.15625 4.394531 11.992188 C 3.0625 13.777344 2.679688 14.636719 3.042969 15.027344 L 3.15625 15.152344 L 3.519531 15.152344 C 4.238281 15.152344 4.828125 14.886719 8.1875 13.039062 C 9.386719 12.378906 10.371094 11.839844 10.378906 11.839844 C 10.386719 11.839844 10.355469 11.929688 10.304688 12.035156 C 9.832031 13.09375 9.257812 14.820312 8.96875 16.078125 C 7.914062 20.652344 8.617188 24.53125 11.070312 27.660156 C 11.351562 28.015625 11.363281 27.914062 10.972656 28.382812 C 8.925781 30.84375 7.945312 33.28125 8.238281 35.1875 C 8.289062 35.527344 8.28125 35.523438 8.917969 35.523438 C 10.941406 35.523438 13.074219 34.207031 15.136719 31.6875 C 15.359375 31.417969 15.328125 31.425781 15.5625 31.574219 C 16.292969 32.042969 18.023438 32.964844 18.175781 32.964844 C 18.335938 32.964844 19.941406 32.210938 20.828125 31.71875 C 20.996094 31.625 21.136719 31.554688 21.136719 31.558594 C 21.203125 31.664062 21.898438 32.414062 22.222656 32.730469 C 23.835938 34.300781 25.5625 35.132812 27.582031 35.300781 C 27.90625 35.328125 27.9375 35.308594 28.007812 34.984375 C 28.382812 33.242188 27.625 30.925781 25.863281 28.425781 L 25.542969 27.96875 L 25.699219 27.785156 C 28.945312 23.960938 29.132812 18.699219 26.257812 11.96875 L 26.207031 11.84375 L 27.945312 12.703125 C 31.53125 14.476562 32.316406 14.800781 33.03125 14.800781 C 33.976562 14.800781 33.78125 13.9375 32.472656 12.292969 C 28.519531 7.355469 25.394531 5.925781 21.921875 7.472656 L 21.558594 7.636719 L 21.578125 7.542969 C 21.699219 6.992188 21.761719 5.742188 21.699219 5.164062 C 21.496094 3.296875 20.664062 1.964844 19.003906 0.855469 C 18.480469 0.503906 18.457031 0.5 18.214844 0.632812\"/>\n",
              "</g>\n",
              "      </svg>\n",
              "    "
            ]
          },
          "metadata": {}
        }
      ]
    },
    {
      "cell_type": "markdown",
      "source": [
        "Now we can give the turtle instructions regarding how far it should move forward and whether it should turn."
      ],
      "metadata": {
        "id": "DupsUGPTdgxt"
      }
    },
    {
      "cell_type": "code",
      "source": [
        "forward(50) # move 50 units forward\n",
        "left(45) # turn 45 degrees left\n",
        "forward(75) # move forward 75 units"
      ],
      "metadata": {
        "colab": {
          "base_uri": "https://localhost:8080/",
          "height": 521
        },
        "id": "fmBGiKy3b3GV",
        "outputId": "ff397f9e-546e-49cd-fe7f-435d3d85eddd"
      },
      "execution_count": null,
      "outputs": [
        {
          "output_type": "display_data",
          "data": {
            "text/plain": [
              "<IPython.core.display.HTML object>"
            ],
            "text/html": [
              "\n",
              "      <svg width=\"800\" height=\"500\">\n",
              "        <rect width=\"100%\" height=\"100%\" fill=\"black\"/>\n",
              "        <line x1=\"400\" y1=\"250\" x2=\"400.0\" y2=\"200.0\" stroke-linecap=\"round\" style=\"stroke:white;stroke-width:4\"/><line x1=\"400.0\" y1=\"200.0\" x2=\"346.967\" y2=\"146.967\" stroke-linecap=\"round\" style=\"stroke:white;stroke-width:4\"/>\n",
              "        <g visibility=visible transform=\"rotate(315,346.967,146.967) translate(328.967, 128.967)\">\n",
              "<path style=\" stroke:none;fill-rule:evenodd;fill:white;fill-opacity:1;\" d=\"M 18.214844 0.632812 C 16.109375 1.800781 15.011719 4.074219 15.074219 7.132812 L 15.085938 7.652344 L 14.785156 7.496094 C 13.476562 6.824219 11.957031 6.671875 10.40625 7.066406 C 8.46875 7.550781 6.515625 9.15625 4.394531 11.992188 C 3.0625 13.777344 2.679688 14.636719 3.042969 15.027344 L 3.15625 15.152344 L 3.519531 15.152344 C 4.238281 15.152344 4.828125 14.886719 8.1875 13.039062 C 9.386719 12.378906 10.371094 11.839844 10.378906 11.839844 C 10.386719 11.839844 10.355469 11.929688 10.304688 12.035156 C 9.832031 13.09375 9.257812 14.820312 8.96875 16.078125 C 7.914062 20.652344 8.617188 24.53125 11.070312 27.660156 C 11.351562 28.015625 11.363281 27.914062 10.972656 28.382812 C 8.925781 30.84375 7.945312 33.28125 8.238281 35.1875 C 8.289062 35.527344 8.28125 35.523438 8.917969 35.523438 C 10.941406 35.523438 13.074219 34.207031 15.136719 31.6875 C 15.359375 31.417969 15.328125 31.425781 15.5625 31.574219 C 16.292969 32.042969 18.023438 32.964844 18.175781 32.964844 C 18.335938 32.964844 19.941406 32.210938 20.828125 31.71875 C 20.996094 31.625 21.136719 31.554688 21.136719 31.558594 C 21.203125 31.664062 21.898438 32.414062 22.222656 32.730469 C 23.835938 34.300781 25.5625 35.132812 27.582031 35.300781 C 27.90625 35.328125 27.9375 35.308594 28.007812 34.984375 C 28.382812 33.242188 27.625 30.925781 25.863281 28.425781 L 25.542969 27.96875 L 25.699219 27.785156 C 28.945312 23.960938 29.132812 18.699219 26.257812 11.96875 L 26.207031 11.84375 L 27.945312 12.703125 C 31.53125 14.476562 32.316406 14.800781 33.03125 14.800781 C 33.976562 14.800781 33.78125 13.9375 32.472656 12.292969 C 28.519531 7.355469 25.394531 5.925781 21.921875 7.472656 L 21.558594 7.636719 L 21.578125 7.542969 C 21.699219 6.992188 21.761719 5.742188 21.699219 5.164062 C 21.496094 3.296875 20.664062 1.964844 19.003906 0.855469 C 18.480469 0.503906 18.457031 0.5 18.214844 0.632812\"/>\n",
              "</g>\n",
              "      </svg>\n",
              "    "
            ]
          },
          "metadata": {}
        }
      ]
    },
    {
      "cell_type": "markdown",
      "source": [
        "Nice. If we would want to make the whole movement bigger without having to edit the values 50 and 75 in the instructions, we could introduce a *variable* to define our own idea of what a *unit* of movement should be like."
      ],
      "metadata": {
        "id": "saAdNahMd985"
      }
    },
    {
      "cell_type": "code",
      "source": [
        "unit = 200\n",
        "turn = 60\n",
        "forward(unit)\n",
        "left(turn)\n",
        "forward(2 * unit)"
      ],
      "metadata": {
        "colab": {
          "base_uri": "https://localhost:8080/",
          "height": 521
        },
        "id": "MuGVuPPHeLHT",
        "outputId": "4d49596b-1009-4643-c2d7-b474abba6f2b"
      },
      "execution_count": null,
      "outputs": [
        {
          "output_type": "display_data",
          "data": {
            "text/plain": [
              "<IPython.core.display.HTML object>"
            ],
            "text/html": [
              "\n",
              "      <svg width=\"800\" height=\"500\">\n",
              "        <rect width=\"100%\" height=\"100%\" fill=\"black\"/>\n",
              "        <line x1=\"400\" y1=\"250\" x2=\"400.0\" y2=\"200.0\" stroke-linecap=\"round\" style=\"stroke:white;stroke-width:4\"/><line x1=\"400.0\" y1=\"200.0\" x2=\"346.967\" y2=\"146.967\" stroke-linecap=\"round\" style=\"stroke:white;stroke-width:4\"/><line x1=\"346.967\" y1=\"146.967\" x2=\"205.546\" y2=\"5.546\" stroke-linecap=\"round\" style=\"stroke:white;stroke-width:4\"/><line x1=\"205.546\" y1=\"5.546\" x2=\"-180.824\" y2=\"109.074\" stroke-linecap=\"round\" style=\"stroke:white;stroke-width:4\"/>\n",
              "        <g visibility=visible transform=\"rotate(255,-180.824,109.074) translate(-198.824, 91.074)\">\n",
              "<path style=\" stroke:none;fill-rule:evenodd;fill:white;fill-opacity:1;\" d=\"M 18.214844 0.632812 C 16.109375 1.800781 15.011719 4.074219 15.074219 7.132812 L 15.085938 7.652344 L 14.785156 7.496094 C 13.476562 6.824219 11.957031 6.671875 10.40625 7.066406 C 8.46875 7.550781 6.515625 9.15625 4.394531 11.992188 C 3.0625 13.777344 2.679688 14.636719 3.042969 15.027344 L 3.15625 15.152344 L 3.519531 15.152344 C 4.238281 15.152344 4.828125 14.886719 8.1875 13.039062 C 9.386719 12.378906 10.371094 11.839844 10.378906 11.839844 C 10.386719 11.839844 10.355469 11.929688 10.304688 12.035156 C 9.832031 13.09375 9.257812 14.820312 8.96875 16.078125 C 7.914062 20.652344 8.617188 24.53125 11.070312 27.660156 C 11.351562 28.015625 11.363281 27.914062 10.972656 28.382812 C 8.925781 30.84375 7.945312 33.28125 8.238281 35.1875 C 8.289062 35.527344 8.28125 35.523438 8.917969 35.523438 C 10.941406 35.523438 13.074219 34.207031 15.136719 31.6875 C 15.359375 31.417969 15.328125 31.425781 15.5625 31.574219 C 16.292969 32.042969 18.023438 32.964844 18.175781 32.964844 C 18.335938 32.964844 19.941406 32.210938 20.828125 31.71875 C 20.996094 31.625 21.136719 31.554688 21.136719 31.558594 C 21.203125 31.664062 21.898438 32.414062 22.222656 32.730469 C 23.835938 34.300781 25.5625 35.132812 27.582031 35.300781 C 27.90625 35.328125 27.9375 35.308594 28.007812 34.984375 C 28.382812 33.242188 27.625 30.925781 25.863281 28.425781 L 25.542969 27.96875 L 25.699219 27.785156 C 28.945312 23.960938 29.132812 18.699219 26.257812 11.96875 L 26.207031 11.84375 L 27.945312 12.703125 C 31.53125 14.476562 32.316406 14.800781 33.03125 14.800781 C 33.976562 14.800781 33.78125 13.9375 32.472656 12.292969 C 28.519531 7.355469 25.394531 5.925781 21.921875 7.472656 L 21.558594 7.636719 L 21.578125 7.542969 C 21.699219 6.992188 21.761719 5.742188 21.699219 5.164062 C 21.496094 3.296875 20.664062 1.964844 19.003906 0.855469 C 18.480469 0.503906 18.457031 0.5 18.214844 0.632812\"/>\n",
              "</g>\n",
              "      </svg>\n",
              "    "
            ]
          },
          "metadata": {}
        }
      ]
    },
    {
      "cell_type": "markdown",
      "source": [
        "Note how the turtle continues from where it left off and actually crawled off the display area. If we want it to start over, we can initialize it again to reset it."
      ],
      "metadata": {
        "id": "e85O7Jt8ebWy"
      }
    },
    {
      "cell_type": "code",
      "source": [
        "initializeTurtle()\n",
        "unit = 60\n",
        "turn = 90\n",
        "forward(unit)\n",
        "left(turn)\n",
        "forward(unit)\n",
        "left(-turn)\n",
        "forward(unit)\n",
        "right(turn)\n",
        "forward(unit)\n",
        "right(-turn)"
      ],
      "metadata": {
        "colab": {
          "base_uri": "https://localhost:8080/",
          "height": 521
        },
        "outputId": "9560c024-2af1-4b64-b94e-e9323730a7a0",
        "id": "UQCAoirSeR1E"
      },
      "execution_count": null,
      "outputs": [
        {
          "output_type": "display_data",
          "data": {
            "text/plain": [
              "<IPython.core.display.HTML object>"
            ],
            "text/html": [
              "\n",
              "      <svg width=\"800\" height=\"500\">\n",
              "        <rect width=\"100%\" height=\"100%\" fill=\"black\"/>\n",
              "        <line x1=\"400\" y1=\"250\" x2=\"400.0\" y2=\"190.0\" stroke-linecap=\"round\" style=\"stroke:white;stroke-width:4\"/><line x1=\"400.0\" y1=\"190.0\" x2=\"340.0\" y2=\"190.0\" stroke-linecap=\"round\" style=\"stroke:white;stroke-width:4\"/><line x1=\"340.0\" y1=\"190.0\" x2=\"340.0\" y2=\"130.0\" stroke-linecap=\"round\" style=\"stroke:white;stroke-width:4\"/><line x1=\"340.0\" y1=\"130.0\" x2=\"400.0\" y2=\"130.0\" stroke-linecap=\"round\" style=\"stroke:white;stroke-width:4\"/>\n",
              "        <g visibility=visible transform=\"rotate(360,400.0,130.0) translate(382.0, 112.0)\">\n",
              "<path style=\" stroke:none;fill-rule:evenodd;fill:white;fill-opacity:1;\" d=\"M 18.214844 0.632812 C 16.109375 1.800781 15.011719 4.074219 15.074219 7.132812 L 15.085938 7.652344 L 14.785156 7.496094 C 13.476562 6.824219 11.957031 6.671875 10.40625 7.066406 C 8.46875 7.550781 6.515625 9.15625 4.394531 11.992188 C 3.0625 13.777344 2.679688 14.636719 3.042969 15.027344 L 3.15625 15.152344 L 3.519531 15.152344 C 4.238281 15.152344 4.828125 14.886719 8.1875 13.039062 C 9.386719 12.378906 10.371094 11.839844 10.378906 11.839844 C 10.386719 11.839844 10.355469 11.929688 10.304688 12.035156 C 9.832031 13.09375 9.257812 14.820312 8.96875 16.078125 C 7.914062 20.652344 8.617188 24.53125 11.070312 27.660156 C 11.351562 28.015625 11.363281 27.914062 10.972656 28.382812 C 8.925781 30.84375 7.945312 33.28125 8.238281 35.1875 C 8.289062 35.527344 8.28125 35.523438 8.917969 35.523438 C 10.941406 35.523438 13.074219 34.207031 15.136719 31.6875 C 15.359375 31.417969 15.328125 31.425781 15.5625 31.574219 C 16.292969 32.042969 18.023438 32.964844 18.175781 32.964844 C 18.335938 32.964844 19.941406 32.210938 20.828125 31.71875 C 20.996094 31.625 21.136719 31.554688 21.136719 31.558594 C 21.203125 31.664062 21.898438 32.414062 22.222656 32.730469 C 23.835938 34.300781 25.5625 35.132812 27.582031 35.300781 C 27.90625 35.328125 27.9375 35.308594 28.007812 34.984375 C 28.382812 33.242188 27.625 30.925781 25.863281 28.425781 L 25.542969 27.96875 L 25.699219 27.785156 C 28.945312 23.960938 29.132812 18.699219 26.257812 11.96875 L 26.207031 11.84375 L 27.945312 12.703125 C 31.53125 14.476562 32.316406 14.800781 33.03125 14.800781 C 33.976562 14.800781 33.78125 13.9375 32.472656 12.292969 C 28.519531 7.355469 25.394531 5.925781 21.921875 7.472656 L 21.558594 7.636719 L 21.578125 7.542969 C 21.699219 6.992188 21.761719 5.742188 21.699219 5.164062 C 21.496094 3.296875 20.664062 1.964844 19.003906 0.855469 C 18.480469 0.503906 18.457031 0.5 18.214844 0.632812\"/>\n",
              "</g>\n",
              "      </svg>\n",
              "    "
            ]
          },
          "metadata": {}
        }
      ]
    },
    {
      "cell_type": "markdown",
      "source": [
        "Note how turning left and requesting a negative angle actually turns right and vice versa? \n",
        "\n",
        "Okay, now the cool stuff. Let's make the turtle draw a snowflake shape, specifically a mathematical curve called the *Koch snowflake*.\n",
        "\n",
        "First we just draw a triangle with unit-length sides (we choose the unit). Since a triangle is a three-sided thing, we need to repeat the \"move then turn\" process a total of three times. \n",
        "\n",
        "In a *equilateral* triangle (all three sides being the same length), all the angles of the corners are also necessarily equal. The angles of the three corners in any triangle always add up to 180 degrees (pi radians) total, so in this case we will have to make the inside of each turn a third of that, sixty degrees, in each corner. \n",
        "\n",
        "In order to get the inside angle to 60, the turtle has to turn 120 degrees (the complement of the angle)."
      ],
      "metadata": {
        "id": "yenVaqdee8g-"
      }
    },
    {
      "cell_type": "code",
      "source": [
        "initializeTurtle()\n",
        "unit = 150 # whatever size we want\n",
        "turn = 120 # equilateral triangle\n",
        "\n",
        "for step in range(3):\n",
        "  forward(unit)\n",
        "  left(turn)"
      ],
      "metadata": {
        "colab": {
          "base_uri": "https://localhost:8080/",
          "height": 521
        },
        "id": "J47LH9ZsfbxG",
        "outputId": "5653c065-f689-47b9-8c94-baba3bc34332"
      },
      "execution_count": null,
      "outputs": [
        {
          "output_type": "display_data",
          "data": {
            "text/plain": [
              "<IPython.core.display.HTML object>"
            ],
            "text/html": [
              "\n",
              "      <svg width=\"800\" height=\"500\">\n",
              "        <rect width=\"100%\" height=\"100%\" fill=\"black\"/>\n",
              "        <line x1=\"400\" y1=\"250\" x2=\"400.0\" y2=\"100.0\" stroke-linecap=\"round\" style=\"stroke:white;stroke-width:4\"/><line x1=\"400.0\" y1=\"100.0\" x2=\"270.096\" y2=\"175.0\" stroke-linecap=\"round\" style=\"stroke:white;stroke-width:4\"/><line x1=\"270.096\" y1=\"175.0\" x2=\"400.0\" y2=\"250.0\" stroke-linecap=\"round\" style=\"stroke:white;stroke-width:4\"/>\n",
              "        <g visibility=visible transform=\"rotate(360,400.0,250.0) translate(382.0, 232.0)\">\n",
              "<path style=\" stroke:none;fill-rule:evenodd;fill:white;fill-opacity:1;\" d=\"M 18.214844 0.632812 C 16.109375 1.800781 15.011719 4.074219 15.074219 7.132812 L 15.085938 7.652344 L 14.785156 7.496094 C 13.476562 6.824219 11.957031 6.671875 10.40625 7.066406 C 8.46875 7.550781 6.515625 9.15625 4.394531 11.992188 C 3.0625 13.777344 2.679688 14.636719 3.042969 15.027344 L 3.15625 15.152344 L 3.519531 15.152344 C 4.238281 15.152344 4.828125 14.886719 8.1875 13.039062 C 9.386719 12.378906 10.371094 11.839844 10.378906 11.839844 C 10.386719 11.839844 10.355469 11.929688 10.304688 12.035156 C 9.832031 13.09375 9.257812 14.820312 8.96875 16.078125 C 7.914062 20.652344 8.617188 24.53125 11.070312 27.660156 C 11.351562 28.015625 11.363281 27.914062 10.972656 28.382812 C 8.925781 30.84375 7.945312 33.28125 8.238281 35.1875 C 8.289062 35.527344 8.28125 35.523438 8.917969 35.523438 C 10.941406 35.523438 13.074219 34.207031 15.136719 31.6875 C 15.359375 31.417969 15.328125 31.425781 15.5625 31.574219 C 16.292969 32.042969 18.023438 32.964844 18.175781 32.964844 C 18.335938 32.964844 19.941406 32.210938 20.828125 31.71875 C 20.996094 31.625 21.136719 31.554688 21.136719 31.558594 C 21.203125 31.664062 21.898438 32.414062 22.222656 32.730469 C 23.835938 34.300781 25.5625 35.132812 27.582031 35.300781 C 27.90625 35.328125 27.9375 35.308594 28.007812 34.984375 C 28.382812 33.242188 27.625 30.925781 25.863281 28.425781 L 25.542969 27.96875 L 25.699219 27.785156 C 28.945312 23.960938 29.132812 18.699219 26.257812 11.96875 L 26.207031 11.84375 L 27.945312 12.703125 C 31.53125 14.476562 32.316406 14.800781 33.03125 14.800781 C 33.976562 14.800781 33.78125 13.9375 32.472656 12.292969 C 28.519531 7.355469 25.394531 5.925781 21.921875 7.472656 L 21.558594 7.636719 L 21.578125 7.542969 C 21.699219 6.992188 21.761719 5.742188 21.699219 5.164062 C 21.496094 3.296875 20.664062 1.964844 19.003906 0.855469 C 18.480469 0.503906 18.457031 0.5 18.214844 0.632812\"/>\n",
              "</g>\n",
              "      </svg>\n",
              "    "
            ]
          },
          "metadata": {}
        }
      ]
    },
    {
      "cell_type": "markdown",
      "source": [
        "The next step of the Koch curve is *recursive*: the same rule will be applied over and over to whatever results from it.\n",
        "\n",
        "Our triangle presently consists in three line segments. We will divide each of those into three subsegments, and bend the center subsegment into essentially an \"open\" equilateral triangle. \n",
        "\n",
        "Let's do this on just one line segment first to comprehend the logic properly: we have to turn up from the line to raise a \"peak\" and then come back down."
      ],
      "metadata": {
        "id": "LYpIQLiRgqcC"
      }
    },
    {
      "cell_type": "code",
      "source": [
        "unit = 50\n",
        "initializeTurtle()\n",
        "forward(unit)\n",
        "right(60)\n",
        "forward(unit)\n",
        "left(120)\n",
        "forward(unit)\n",
        "right(60)\n",
        "forward(unit)"
      ],
      "metadata": {
        "colab": {
          "base_uri": "https://localhost:8080/",
          "height": 521
        },
        "id": "3VwWBz4ShD_O",
        "outputId": "c2edcfaa-cba3-4699-a9f9-3618c3b54324"
      },
      "execution_count": null,
      "outputs": [
        {
          "output_type": "display_data",
          "data": {
            "text/plain": [
              "<IPython.core.display.HTML object>"
            ],
            "text/html": [
              "\n",
              "      <svg width=\"800\" height=\"500\">\n",
              "        <rect width=\"100%\" height=\"100%\" fill=\"black\"/>\n",
              "        <line x1=\"400\" y1=\"250\" x2=\"400.0\" y2=\"200.0\" stroke-linecap=\"round\" style=\"stroke:white;stroke-width:4\"/><line x1=\"400.0\" y1=\"200.0\" x2=\"443.301\" y2=\"175.0\" stroke-linecap=\"round\" style=\"stroke:white;stroke-width:4\"/><line x1=\"443.301\" y1=\"175.0\" x2=\"400.0\" y2=\"150.0\" stroke-linecap=\"round\" style=\"stroke:white;stroke-width:4\"/><line x1=\"400.0\" y1=\"150.0\" x2=\"400.0\" y2=\"100.0\" stroke-linecap=\"round\" style=\"stroke:white;stroke-width:4\"/>\n",
              "        <g visibility=visible transform=\"rotate(360,400.0,100.0) translate(382.0, 82.0)\">\n",
              "<path style=\" stroke:none;fill-rule:evenodd;fill:white;fill-opacity:1;\" d=\"M 18.214844 0.632812 C 16.109375 1.800781 15.011719 4.074219 15.074219 7.132812 L 15.085938 7.652344 L 14.785156 7.496094 C 13.476562 6.824219 11.957031 6.671875 10.40625 7.066406 C 8.46875 7.550781 6.515625 9.15625 4.394531 11.992188 C 3.0625 13.777344 2.679688 14.636719 3.042969 15.027344 L 3.15625 15.152344 L 3.519531 15.152344 C 4.238281 15.152344 4.828125 14.886719 8.1875 13.039062 C 9.386719 12.378906 10.371094 11.839844 10.378906 11.839844 C 10.386719 11.839844 10.355469 11.929688 10.304688 12.035156 C 9.832031 13.09375 9.257812 14.820312 8.96875 16.078125 C 7.914062 20.652344 8.617188 24.53125 11.070312 27.660156 C 11.351562 28.015625 11.363281 27.914062 10.972656 28.382812 C 8.925781 30.84375 7.945312 33.28125 8.238281 35.1875 C 8.289062 35.527344 8.28125 35.523438 8.917969 35.523438 C 10.941406 35.523438 13.074219 34.207031 15.136719 31.6875 C 15.359375 31.417969 15.328125 31.425781 15.5625 31.574219 C 16.292969 32.042969 18.023438 32.964844 18.175781 32.964844 C 18.335938 32.964844 19.941406 32.210938 20.828125 31.71875 C 20.996094 31.625 21.136719 31.554688 21.136719 31.558594 C 21.203125 31.664062 21.898438 32.414062 22.222656 32.730469 C 23.835938 34.300781 25.5625 35.132812 27.582031 35.300781 C 27.90625 35.328125 27.9375 35.308594 28.007812 34.984375 C 28.382812 33.242188 27.625 30.925781 25.863281 28.425781 L 25.542969 27.96875 L 25.699219 27.785156 C 28.945312 23.960938 29.132812 18.699219 26.257812 11.96875 L 26.207031 11.84375 L 27.945312 12.703125 C 31.53125 14.476562 32.316406 14.800781 33.03125 14.800781 C 33.976562 14.800781 33.78125 13.9375 32.472656 12.292969 C 28.519531 7.355469 25.394531 5.925781 21.921875 7.472656 L 21.558594 7.636719 L 21.578125 7.542969 C 21.699219 6.992188 21.761719 5.742188 21.699219 5.164062 C 21.496094 3.296875 20.664062 1.964844 19.003906 0.855469 C 18.480469 0.503906 18.457031 0.5 18.214844 0.632812\"/>\n",
              "</g>\n",
              "      </svg>\n",
              "    "
            ]
          },
          "metadata": {}
        }
      ]
    },
    {
      "cell_type": "markdown",
      "source": [
        "We could simplify the logic of right-left-right by recurring to that \"left is just negative right\" trick. "
      ],
      "metadata": {
        "id": "gYbVD5yBh2ZA"
      }
    },
    {
      "cell_type": "code",
      "source": [
        "unit = 50\n",
        "initializeTurtle()\n",
        "forward(unit)\n",
        "right(60)\n",
        "forward(unit)\n",
        "right(-120)\n",
        "forward(unit)\n",
        "right(60)\n",
        "forward(unit)"
      ],
      "metadata": {
        "colab": {
          "base_uri": "https://localhost:8080/",
          "height": 521
        },
        "id": "gZO1yYkph_wi",
        "outputId": "2218e370-6319-413a-c855-4633fa934528"
      },
      "execution_count": null,
      "outputs": [
        {
          "output_type": "display_data",
          "data": {
            "text/plain": [
              "<IPython.core.display.HTML object>"
            ],
            "text/html": [
              "\n",
              "      <svg width=\"800\" height=\"500\">\n",
              "        <rect width=\"100%\" height=\"100%\" fill=\"black\"/>\n",
              "        <line x1=\"400\" y1=\"250\" x2=\"400.0\" y2=\"200.0\" stroke-linecap=\"round\" style=\"stroke:white;stroke-width:4\"/><line x1=\"400.0\" y1=\"200.0\" x2=\"443.301\" y2=\"175.0\" stroke-linecap=\"round\" style=\"stroke:white;stroke-width:4\"/><line x1=\"443.301\" y1=\"175.0\" x2=\"400.0\" y2=\"150.0\" stroke-linecap=\"round\" style=\"stroke:white;stroke-width:4\"/><line x1=\"400.0\" y1=\"150.0\" x2=\"400.0\" y2=\"100.0\" stroke-linecap=\"round\" style=\"stroke:white;stroke-width:4\"/>\n",
              "        <g visibility=visible transform=\"rotate(360,400.0,100.0) translate(382.0, 82.0)\">\n",
              "<path style=\" stroke:none;fill-rule:evenodd;fill:white;fill-opacity:1;\" d=\"M 18.214844 0.632812 C 16.109375 1.800781 15.011719 4.074219 15.074219 7.132812 L 15.085938 7.652344 L 14.785156 7.496094 C 13.476562 6.824219 11.957031 6.671875 10.40625 7.066406 C 8.46875 7.550781 6.515625 9.15625 4.394531 11.992188 C 3.0625 13.777344 2.679688 14.636719 3.042969 15.027344 L 3.15625 15.152344 L 3.519531 15.152344 C 4.238281 15.152344 4.828125 14.886719 8.1875 13.039062 C 9.386719 12.378906 10.371094 11.839844 10.378906 11.839844 C 10.386719 11.839844 10.355469 11.929688 10.304688 12.035156 C 9.832031 13.09375 9.257812 14.820312 8.96875 16.078125 C 7.914062 20.652344 8.617188 24.53125 11.070312 27.660156 C 11.351562 28.015625 11.363281 27.914062 10.972656 28.382812 C 8.925781 30.84375 7.945312 33.28125 8.238281 35.1875 C 8.289062 35.527344 8.28125 35.523438 8.917969 35.523438 C 10.941406 35.523438 13.074219 34.207031 15.136719 31.6875 C 15.359375 31.417969 15.328125 31.425781 15.5625 31.574219 C 16.292969 32.042969 18.023438 32.964844 18.175781 32.964844 C 18.335938 32.964844 19.941406 32.210938 20.828125 31.71875 C 20.996094 31.625 21.136719 31.554688 21.136719 31.558594 C 21.203125 31.664062 21.898438 32.414062 22.222656 32.730469 C 23.835938 34.300781 25.5625 35.132812 27.582031 35.300781 C 27.90625 35.328125 27.9375 35.308594 28.007812 34.984375 C 28.382812 33.242188 27.625 30.925781 25.863281 28.425781 L 25.542969 27.96875 L 25.699219 27.785156 C 28.945312 23.960938 29.132812 18.699219 26.257812 11.96875 L 26.207031 11.84375 L 27.945312 12.703125 C 31.53125 14.476562 32.316406 14.800781 33.03125 14.800781 C 33.976562 14.800781 33.78125 13.9375 32.472656 12.292969 C 28.519531 7.355469 25.394531 5.925781 21.921875 7.472656 L 21.558594 7.636719 L 21.578125 7.542969 C 21.699219 6.992188 21.761719 5.742188 21.699219 5.164062 C 21.496094 3.296875 20.664062 1.964844 19.003906 0.855469 C 18.480469 0.503906 18.457031 0.5 18.214844 0.632812\"/>\n",
              "</g>\n",
              "      </svg>\n",
              "    "
            ]
          },
          "metadata": {}
        }
      ]
    },
    {
      "cell_type": "markdown",
      "source": [
        "Now since it's all left turns, we can use that `for` structure we used before to repeat the three-stage process for drawing a triangle."
      ],
      "metadata": {
        "id": "oqOfiqdwiDIu"
      }
    },
    {
      "cell_type": "code",
      "source": [
        "unit = 50\n",
        "initializeTurtle()\n",
        "for turn in [ 60, -120, 60 ]: # make three moves followed by left turns\n",
        "  forward(unit)\n",
        "  right(turn)\n",
        "forward(unit) # make the fourth move"
      ],
      "metadata": {
        "colab": {
          "base_uri": "https://localhost:8080/",
          "height": 521
        },
        "id": "2nqk0tFTiKr3",
        "outputId": "1e4ae301-1e78-4501-a5d8-4781775a3177"
      },
      "execution_count": null,
      "outputs": [
        {
          "output_type": "display_data",
          "data": {
            "text/plain": [
              "<IPython.core.display.HTML object>"
            ],
            "text/html": [
              "\n",
              "      <svg width=\"800\" height=\"500\">\n",
              "        <rect width=\"100%\" height=\"100%\" fill=\"black\"/>\n",
              "        <line x1=\"400\" y1=\"250\" x2=\"400.0\" y2=\"200.0\" stroke-linecap=\"round\" style=\"stroke:white;stroke-width:4\"/><line x1=\"400.0\" y1=\"200.0\" x2=\"443.301\" y2=\"175.0\" stroke-linecap=\"round\" style=\"stroke:white;stroke-width:4\"/><line x1=\"443.301\" y1=\"175.0\" x2=\"400.0\" y2=\"150.0\" stroke-linecap=\"round\" style=\"stroke:white;stroke-width:4\"/><line x1=\"400.0\" y1=\"150.0\" x2=\"400.0\" y2=\"100.0\" stroke-linecap=\"round\" style=\"stroke:white;stroke-width:4\"/>\n",
              "        <g visibility=visible transform=\"rotate(360,400.0,100.0) translate(382.0, 82.0)\">\n",
              "<path style=\" stroke:none;fill-rule:evenodd;fill:white;fill-opacity:1;\" d=\"M 18.214844 0.632812 C 16.109375 1.800781 15.011719 4.074219 15.074219 7.132812 L 15.085938 7.652344 L 14.785156 7.496094 C 13.476562 6.824219 11.957031 6.671875 10.40625 7.066406 C 8.46875 7.550781 6.515625 9.15625 4.394531 11.992188 C 3.0625 13.777344 2.679688 14.636719 3.042969 15.027344 L 3.15625 15.152344 L 3.519531 15.152344 C 4.238281 15.152344 4.828125 14.886719 8.1875 13.039062 C 9.386719 12.378906 10.371094 11.839844 10.378906 11.839844 C 10.386719 11.839844 10.355469 11.929688 10.304688 12.035156 C 9.832031 13.09375 9.257812 14.820312 8.96875 16.078125 C 7.914062 20.652344 8.617188 24.53125 11.070312 27.660156 C 11.351562 28.015625 11.363281 27.914062 10.972656 28.382812 C 8.925781 30.84375 7.945312 33.28125 8.238281 35.1875 C 8.289062 35.527344 8.28125 35.523438 8.917969 35.523438 C 10.941406 35.523438 13.074219 34.207031 15.136719 31.6875 C 15.359375 31.417969 15.328125 31.425781 15.5625 31.574219 C 16.292969 32.042969 18.023438 32.964844 18.175781 32.964844 C 18.335938 32.964844 19.941406 32.210938 20.828125 31.71875 C 20.996094 31.625 21.136719 31.554688 21.136719 31.558594 C 21.203125 31.664062 21.898438 32.414062 22.222656 32.730469 C 23.835938 34.300781 25.5625 35.132812 27.582031 35.300781 C 27.90625 35.328125 27.9375 35.308594 28.007812 34.984375 C 28.382812 33.242188 27.625 30.925781 25.863281 28.425781 L 25.542969 27.96875 L 25.699219 27.785156 C 28.945312 23.960938 29.132812 18.699219 26.257812 11.96875 L 26.207031 11.84375 L 27.945312 12.703125 C 31.53125 14.476562 32.316406 14.800781 33.03125 14.800781 C 33.976562 14.800781 33.78125 13.9375 32.472656 12.292969 C 28.519531 7.355469 25.394531 5.925781 21.921875 7.472656 L 21.558594 7.636719 L 21.578125 7.542969 C 21.699219 6.992188 21.761719 5.742188 21.699219 5.164062 C 21.496094 3.296875 20.664062 1.964844 19.003906 0.855469 C 18.480469 0.503906 18.457031 0.5 18.214844 0.632812\"/>\n",
              "</g>\n",
              "      </svg>\n",
              "    "
            ]
          },
          "metadata": {}
        }
      ]
    },
    {
      "cell_type": "markdown",
      "source": [
        "To make the fourth-move logic simpler, we could just do a fourth turn of zero degrees and make the loop iterate four times. "
      ],
      "metadata": {
        "id": "tFnaw6vbmRIu"
      }
    },
    {
      "cell_type": "code",
      "source": [
        "unit = 50\n",
        "initializeTurtle()\n",
        "for turn in [ 60, -120, 60, 0 ]: # make four moves \n",
        "  forward(unit)\n",
        "  right(turn)"
      ],
      "metadata": {
        "colab": {
          "base_uri": "https://localhost:8080/",
          "height": 521
        },
        "id": "Fr-UyD-MmXyD",
        "outputId": "41cd6716-752e-46aa-b42d-a70f7def63bb"
      },
      "execution_count": null,
      "outputs": [
        {
          "output_type": "display_data",
          "data": {
            "text/plain": [
              "<IPython.core.display.HTML object>"
            ],
            "text/html": [
              "\n",
              "      <svg width=\"800\" height=\"500\">\n",
              "        <rect width=\"100%\" height=\"100%\" fill=\"black\"/>\n",
              "        <line x1=\"400\" y1=\"250\" x2=\"400.0\" y2=\"200.0\" stroke-linecap=\"round\" style=\"stroke:white;stroke-width:4\"/><line x1=\"400.0\" y1=\"200.0\" x2=\"443.301\" y2=\"175.0\" stroke-linecap=\"round\" style=\"stroke:white;stroke-width:4\"/><line x1=\"443.301\" y1=\"175.0\" x2=\"400.0\" y2=\"150.0\" stroke-linecap=\"round\" style=\"stroke:white;stroke-width:4\"/><line x1=\"400.0\" y1=\"150.0\" x2=\"400.0\" y2=\"100.0\" stroke-linecap=\"round\" style=\"stroke:white;stroke-width:4\"/>\n",
              "        <g visibility=visible transform=\"rotate(360,400.0,100.0) translate(382.0, 82.0)\">\n",
              "<path style=\" stroke:none;fill-rule:evenodd;fill:white;fill-opacity:1;\" d=\"M 18.214844 0.632812 C 16.109375 1.800781 15.011719 4.074219 15.074219 7.132812 L 15.085938 7.652344 L 14.785156 7.496094 C 13.476562 6.824219 11.957031 6.671875 10.40625 7.066406 C 8.46875 7.550781 6.515625 9.15625 4.394531 11.992188 C 3.0625 13.777344 2.679688 14.636719 3.042969 15.027344 L 3.15625 15.152344 L 3.519531 15.152344 C 4.238281 15.152344 4.828125 14.886719 8.1875 13.039062 C 9.386719 12.378906 10.371094 11.839844 10.378906 11.839844 C 10.386719 11.839844 10.355469 11.929688 10.304688 12.035156 C 9.832031 13.09375 9.257812 14.820312 8.96875 16.078125 C 7.914062 20.652344 8.617188 24.53125 11.070312 27.660156 C 11.351562 28.015625 11.363281 27.914062 10.972656 28.382812 C 8.925781 30.84375 7.945312 33.28125 8.238281 35.1875 C 8.289062 35.527344 8.28125 35.523438 8.917969 35.523438 C 10.941406 35.523438 13.074219 34.207031 15.136719 31.6875 C 15.359375 31.417969 15.328125 31.425781 15.5625 31.574219 C 16.292969 32.042969 18.023438 32.964844 18.175781 32.964844 C 18.335938 32.964844 19.941406 32.210938 20.828125 31.71875 C 20.996094 31.625 21.136719 31.554688 21.136719 31.558594 C 21.203125 31.664062 21.898438 32.414062 22.222656 32.730469 C 23.835938 34.300781 25.5625 35.132812 27.582031 35.300781 C 27.90625 35.328125 27.9375 35.308594 28.007812 34.984375 C 28.382812 33.242188 27.625 30.925781 25.863281 28.425781 L 25.542969 27.96875 L 25.699219 27.785156 C 28.945312 23.960938 29.132812 18.699219 26.257812 11.96875 L 26.207031 11.84375 L 27.945312 12.703125 C 31.53125 14.476562 32.316406 14.800781 33.03125 14.800781 C 33.976562 14.800781 33.78125 13.9375 32.472656 12.292969 C 28.519531 7.355469 25.394531 5.925781 21.921875 7.472656 L 21.558594 7.636719 L 21.578125 7.542969 C 21.699219 6.992188 21.761719 5.742188 21.699219 5.164062 C 21.496094 3.296875 20.664062 1.964844 19.003906 0.855469 C 18.480469 0.503906 18.457031 0.5 18.214844 0.632812\"/>\n",
              "</g>\n",
              "      </svg>\n",
              "    "
            ]
          },
          "metadata": {}
        }
      ]
    },
    {
      "cell_type": "markdown",
      "source": [
        "Now, to put this onto the triangle so that each of the three sides does this, it is a `for` inside a `for`, making it a double loop. "
      ],
      "metadata": {
        "id": "H6QNgyosia33"
      }
    },
    {
      "cell_type": "code",
      "source": [
        "initializeTurtle()\n",
        "unit = 50 # smaller now\n",
        "corner = 120 # equilateral triangle\n",
        "\n",
        "for step in range(3):\n",
        "  # the turning version replaces the simple side of the triangle\n",
        "  for turn in [ 60, -120, 60, 0 ]: # make three moves followed by left turns\n",
        "    forward(unit)\n",
        "    right(turn)\n",
        "  left(corner)"
      ],
      "metadata": {
        "colab": {
          "base_uri": "https://localhost:8080/",
          "height": 521
        },
        "id": "Wc1rUavbimCi",
        "outputId": "ff42d9af-a3b7-46b9-ecda-f52a4f80641a"
      },
      "execution_count": null,
      "outputs": [
        {
          "output_type": "display_data",
          "data": {
            "text/plain": [
              "<IPython.core.display.HTML object>"
            ],
            "text/html": [
              "\n",
              "      <svg width=\"800\" height=\"500\">\n",
              "        <rect width=\"100%\" height=\"100%\" fill=\"black\"/>\n",
              "        <line x1=\"400\" y1=\"250\" x2=\"400.0\" y2=\"200.0\" stroke-linecap=\"round\" style=\"stroke:white;stroke-width:4\"/><line x1=\"400.0\" y1=\"200.0\" x2=\"443.301\" y2=\"175.0\" stroke-linecap=\"round\" style=\"stroke:white;stroke-width:4\"/><line x1=\"443.301\" y1=\"175.0\" x2=\"400.0\" y2=\"150.0\" stroke-linecap=\"round\" style=\"stroke:white;stroke-width:4\"/><line x1=\"400.0\" y1=\"150.0\" x2=\"400.0\" y2=\"100.0\" stroke-linecap=\"round\" style=\"stroke:white;stroke-width:4\"/><line x1=\"400.0\" y1=\"100.0\" x2=\"356.699\" y2=\"125.0\" stroke-linecap=\"round\" style=\"stroke:white;stroke-width:4\"/><line x1=\"356.699\" y1=\"125.0\" x2=\"313.398\" y2=\"100.0\" stroke-linecap=\"round\" style=\"stroke:white;stroke-width:4\"/><line x1=\"313.398\" y1=\"100.0\" x2=\"313.398\" y2=\"150.0\" stroke-linecap=\"round\" style=\"stroke:white;stroke-width:4\"/><line x1=\"313.398\" y1=\"150.0\" x2=\"270.097\" y2=\"175.0\" stroke-linecap=\"round\" style=\"stroke:white;stroke-width:4\"/><line x1=\"270.097\" y1=\"175.0\" x2=\"313.398\" y2=\"200.0\" stroke-linecap=\"round\" style=\"stroke:white;stroke-width:4\"/><line x1=\"313.398\" y1=\"200.0\" x2=\"313.398\" y2=\"250.0\" stroke-linecap=\"round\" style=\"stroke:white;stroke-width:4\"/><line x1=\"313.398\" y1=\"250.0\" x2=\"356.699\" y2=\"225.0\" stroke-linecap=\"round\" style=\"stroke:white;stroke-width:4\"/><line x1=\"356.699\" y1=\"225.0\" x2=\"400.0\" y2=\"250.0\" stroke-linecap=\"round\" style=\"stroke:white;stroke-width:4\"/>\n",
              "        <g visibility=visible transform=\"rotate(360,400.0,250.0) translate(382.0, 232.0)\">\n",
              "<path style=\" stroke:none;fill-rule:evenodd;fill:white;fill-opacity:1;\" d=\"M 18.214844 0.632812 C 16.109375 1.800781 15.011719 4.074219 15.074219 7.132812 L 15.085938 7.652344 L 14.785156 7.496094 C 13.476562 6.824219 11.957031 6.671875 10.40625 7.066406 C 8.46875 7.550781 6.515625 9.15625 4.394531 11.992188 C 3.0625 13.777344 2.679688 14.636719 3.042969 15.027344 L 3.15625 15.152344 L 3.519531 15.152344 C 4.238281 15.152344 4.828125 14.886719 8.1875 13.039062 C 9.386719 12.378906 10.371094 11.839844 10.378906 11.839844 C 10.386719 11.839844 10.355469 11.929688 10.304688 12.035156 C 9.832031 13.09375 9.257812 14.820312 8.96875 16.078125 C 7.914062 20.652344 8.617188 24.53125 11.070312 27.660156 C 11.351562 28.015625 11.363281 27.914062 10.972656 28.382812 C 8.925781 30.84375 7.945312 33.28125 8.238281 35.1875 C 8.289062 35.527344 8.28125 35.523438 8.917969 35.523438 C 10.941406 35.523438 13.074219 34.207031 15.136719 31.6875 C 15.359375 31.417969 15.328125 31.425781 15.5625 31.574219 C 16.292969 32.042969 18.023438 32.964844 18.175781 32.964844 C 18.335938 32.964844 19.941406 32.210938 20.828125 31.71875 C 20.996094 31.625 21.136719 31.554688 21.136719 31.558594 C 21.203125 31.664062 21.898438 32.414062 22.222656 32.730469 C 23.835938 34.300781 25.5625 35.132812 27.582031 35.300781 C 27.90625 35.328125 27.9375 35.308594 28.007812 34.984375 C 28.382812 33.242188 27.625 30.925781 25.863281 28.425781 L 25.542969 27.96875 L 25.699219 27.785156 C 28.945312 23.960938 29.132812 18.699219 26.257812 11.96875 L 26.207031 11.84375 L 27.945312 12.703125 C 31.53125 14.476562 32.316406 14.800781 33.03125 14.800781 C 33.976562 14.800781 33.78125 13.9375 32.472656 12.292969 C 28.519531 7.355469 25.394531 5.925781 21.921875 7.472656 L 21.558594 7.636719 L 21.578125 7.542969 C 21.699219 6.992188 21.761719 5.742188 21.699219 5.164062 C 21.496094 3.296875 20.664062 1.964844 19.003906 0.855469 C 18.480469 0.503906 18.457031 0.5 18.214844 0.632812\"/>\n",
              "</g>\n",
              "      </svg>\n",
              "    "
            ]
          },
          "metadata": {}
        }
      ]
    },
    {
      "cell_type": "markdown",
      "source": [
        "That's a neat star, yes, but not yet a snowflake. We will get to that in a bit, but let's learn some elegance first. \n",
        "\n",
        "Instead of putting a loop inside a loop, let's just instruct the computer to repeat the logic by creating a *subroutine*."
      ],
      "metadata": {
        "id": "pg-kOqUBjRFz"
      }
    },
    {
      "cell_type": "code",
      "source": [
        "def middlelift(unit):\n",
        "    for turn in [ 60, -120, 60, 0]: # make three moves followed by left turns\n",
        "      forward(unit)\n",
        "      right(turn)"
      ],
      "metadata": {
        "id": "mUsvDQ5ujnl1"
      },
      "execution_count": null,
      "outputs": []
    },
    {
      "cell_type": "markdown",
      "source": [
        "We can now call this thing inside the outer `for`."
      ],
      "metadata": {
        "id": "axuu7BszkzUY"
      }
    },
    {
      "cell_type": "code",
      "source": [
        "initializeTurtle()\n",
        "unit = 50 # smaller now\n",
        "corner = 120 # equilateral triangle\n",
        "\n",
        "for step in range(3):\n",
        "  middlelift(unit) # more elegant, yes\n",
        "  left(corner)"
      ],
      "metadata": {
        "colab": {
          "base_uri": "https://localhost:8080/",
          "height": 521
        },
        "id": "rKNdFV7lk7e_",
        "outputId": "41f13482-afa0-4dc0-e849-e69cb9dc9fde"
      },
      "execution_count": null,
      "outputs": [
        {
          "output_type": "display_data",
          "data": {
            "text/plain": [
              "<IPython.core.display.HTML object>"
            ],
            "text/html": [
              "\n",
              "      <svg width=\"800\" height=\"500\">\n",
              "        <rect width=\"100%\" height=\"100%\" fill=\"black\"/>\n",
              "        <line x1=\"400\" y1=\"250\" x2=\"400.0\" y2=\"200.0\" stroke-linecap=\"round\" style=\"stroke:white;stroke-width:4\"/><line x1=\"400.0\" y1=\"200.0\" x2=\"443.301\" y2=\"175.0\" stroke-linecap=\"round\" style=\"stroke:white;stroke-width:4\"/><line x1=\"443.301\" y1=\"175.0\" x2=\"400.0\" y2=\"150.0\" stroke-linecap=\"round\" style=\"stroke:white;stroke-width:4\"/><line x1=\"400.0\" y1=\"150.0\" x2=\"400.0\" y2=\"100.0\" stroke-linecap=\"round\" style=\"stroke:white;stroke-width:4\"/><line x1=\"400.0\" y1=\"100.0\" x2=\"356.699\" y2=\"125.0\" stroke-linecap=\"round\" style=\"stroke:white;stroke-width:4\"/><line x1=\"356.699\" y1=\"125.0\" x2=\"313.398\" y2=\"100.0\" stroke-linecap=\"round\" style=\"stroke:white;stroke-width:4\"/><line x1=\"313.398\" y1=\"100.0\" x2=\"313.398\" y2=\"150.0\" stroke-linecap=\"round\" style=\"stroke:white;stroke-width:4\"/><line x1=\"313.398\" y1=\"150.0\" x2=\"270.097\" y2=\"175.0\" stroke-linecap=\"round\" style=\"stroke:white;stroke-width:4\"/><line x1=\"270.097\" y1=\"175.0\" x2=\"313.398\" y2=\"200.0\" stroke-linecap=\"round\" style=\"stroke:white;stroke-width:4\"/><line x1=\"313.398\" y1=\"200.0\" x2=\"313.398\" y2=\"250.0\" stroke-linecap=\"round\" style=\"stroke:white;stroke-width:4\"/><line x1=\"313.398\" y1=\"250.0\" x2=\"356.699\" y2=\"225.0\" stroke-linecap=\"round\" style=\"stroke:white;stroke-width:4\"/><line x1=\"356.699\" y1=\"225.0\" x2=\"400.0\" y2=\"250.0\" stroke-linecap=\"round\" style=\"stroke:white;stroke-width:4\"/>\n",
              "        <g visibility=visible transform=\"rotate(360,400.0,250.0) translate(382.0, 232.0)\">\n",
              "<path style=\" stroke:none;fill-rule:evenodd;fill:white;fill-opacity:1;\" d=\"M 18.214844 0.632812 C 16.109375 1.800781 15.011719 4.074219 15.074219 7.132812 L 15.085938 7.652344 L 14.785156 7.496094 C 13.476562 6.824219 11.957031 6.671875 10.40625 7.066406 C 8.46875 7.550781 6.515625 9.15625 4.394531 11.992188 C 3.0625 13.777344 2.679688 14.636719 3.042969 15.027344 L 3.15625 15.152344 L 3.519531 15.152344 C 4.238281 15.152344 4.828125 14.886719 8.1875 13.039062 C 9.386719 12.378906 10.371094 11.839844 10.378906 11.839844 C 10.386719 11.839844 10.355469 11.929688 10.304688 12.035156 C 9.832031 13.09375 9.257812 14.820312 8.96875 16.078125 C 7.914062 20.652344 8.617188 24.53125 11.070312 27.660156 C 11.351562 28.015625 11.363281 27.914062 10.972656 28.382812 C 8.925781 30.84375 7.945312 33.28125 8.238281 35.1875 C 8.289062 35.527344 8.28125 35.523438 8.917969 35.523438 C 10.941406 35.523438 13.074219 34.207031 15.136719 31.6875 C 15.359375 31.417969 15.328125 31.425781 15.5625 31.574219 C 16.292969 32.042969 18.023438 32.964844 18.175781 32.964844 C 18.335938 32.964844 19.941406 32.210938 20.828125 31.71875 C 20.996094 31.625 21.136719 31.554688 21.136719 31.558594 C 21.203125 31.664062 21.898438 32.414062 22.222656 32.730469 C 23.835938 34.300781 25.5625 35.132812 27.582031 35.300781 C 27.90625 35.328125 27.9375 35.308594 28.007812 34.984375 C 28.382812 33.242188 27.625 30.925781 25.863281 28.425781 L 25.542969 27.96875 L 25.699219 27.785156 C 28.945312 23.960938 29.132812 18.699219 26.257812 11.96875 L 26.207031 11.84375 L 27.945312 12.703125 C 31.53125 14.476562 32.316406 14.800781 33.03125 14.800781 C 33.976562 14.800781 33.78125 13.9375 32.472656 12.292969 C 28.519531 7.355469 25.394531 5.925781 21.921875 7.472656 L 21.558594 7.636719 L 21.578125 7.542969 C 21.699219 6.992188 21.761719 5.742188 21.699219 5.164062 C 21.496094 3.296875 20.664062 1.964844 19.003906 0.855469 C 18.480469 0.503906 18.457031 0.5 18.214844 0.632812\"/>\n",
              "</g>\n",
              "      </svg>\n",
              "    "
            ]
          },
          "metadata": {}
        }
      ]
    },
    {
      "cell_type": "markdown",
      "source": [
        "Still a star. Gotta make a snowflake.\n",
        "\n",
        "This brings us to the aforementioned recursion: we have to repeat that \"lifting\" on every single one of these twelve line segments: lift the middle third into a little peak.\n",
        "\n",
        "We need to tell our new subroutine to do such repetition."
      ],
      "metadata": {
        "id": "xrJeGiGWk4r4"
      }
    },
    {
      "cell_type": "code",
      "source": [
        "def koch(unit, repeat):\n",
        "  if repeat > 0: # need to repeat more\n",
        "    for turn in [ 60, -120, 60, 0 ]: # make three moves followed by left turns\n",
        "      koch(unit / 3, repeat - 1)\n",
        "      right(turn)\n",
        "  else:\n",
        "    forward(unit) # done breaking things into subsegments"
      ],
      "metadata": {
        "id": "qRACxcZ9lXRz"
      },
      "execution_count": null,
      "outputs": []
    },
    {
      "cell_type": "markdown",
      "source": [
        "So what happens now when we call this one instead. For now, we just expect it to be our star."
      ],
      "metadata": {
        "id": "aLxeUprLkmZ4"
      }
    },
    {
      "cell_type": "code",
      "source": [
        "initializeTurtle()\n",
        "unit = 150 \n",
        "corner = 120 # equilateral triangle\n",
        "start = 1 # starting depth\n",
        "\n",
        "for step in range(3): # triangle\n",
        "  koch(unit, start) # recursive process\n",
        "  left(corner)"
      ],
      "metadata": {
        "colab": {
          "base_uri": "https://localhost:8080/",
          "height": 521
        },
        "id": "7ueyFTMOlpPi",
        "outputId": "bdcf32fd-715c-4d80-ed81-d08cf2149029"
      },
      "execution_count": null,
      "outputs": [
        {
          "output_type": "display_data",
          "data": {
            "text/plain": [
              "<IPython.core.display.HTML object>"
            ],
            "text/html": [
              "\n",
              "      <svg width=\"800\" height=\"500\">\n",
              "        <rect width=\"100%\" height=\"100%\" fill=\"black\"/>\n",
              "        <line x1=\"400\" y1=\"250\" x2=\"400.0\" y2=\"200.0\" stroke-linecap=\"round\" style=\"stroke:white;stroke-width:4\"/><line x1=\"400.0\" y1=\"200.0\" x2=\"443.301\" y2=\"175.0\" stroke-linecap=\"round\" style=\"stroke:white;stroke-width:4\"/><line x1=\"443.301\" y1=\"175.0\" x2=\"400.0\" y2=\"150.0\" stroke-linecap=\"round\" style=\"stroke:white;stroke-width:4\"/><line x1=\"400.0\" y1=\"150.0\" x2=\"400.0\" y2=\"100.0\" stroke-linecap=\"round\" style=\"stroke:white;stroke-width:4\"/><line x1=\"400.0\" y1=\"100.0\" x2=\"356.699\" y2=\"125.0\" stroke-linecap=\"round\" style=\"stroke:white;stroke-width:4\"/><line x1=\"356.699\" y1=\"125.0\" x2=\"313.398\" y2=\"100.0\" stroke-linecap=\"round\" style=\"stroke:white;stroke-width:4\"/><line x1=\"313.398\" y1=\"100.0\" x2=\"313.398\" y2=\"150.0\" stroke-linecap=\"round\" style=\"stroke:white;stroke-width:4\"/><line x1=\"313.398\" y1=\"150.0\" x2=\"270.097\" y2=\"175.0\" stroke-linecap=\"round\" style=\"stroke:white;stroke-width:4\"/><line x1=\"270.097\" y1=\"175.0\" x2=\"313.398\" y2=\"200.0\" stroke-linecap=\"round\" style=\"stroke:white;stroke-width:4\"/><line x1=\"313.398\" y1=\"200.0\" x2=\"313.398\" y2=\"250.0\" stroke-linecap=\"round\" style=\"stroke:white;stroke-width:4\"/><line x1=\"313.398\" y1=\"250.0\" x2=\"356.699\" y2=\"225.0\" stroke-linecap=\"round\" style=\"stroke:white;stroke-width:4\"/><line x1=\"356.699\" y1=\"225.0\" x2=\"400.0\" y2=\"250.0\" stroke-linecap=\"round\" style=\"stroke:white;stroke-width:4\"/>\n",
              "        <g visibility=visible transform=\"rotate(360,400.0,250.0) translate(382.0, 232.0)\">\n",
              "<path style=\" stroke:none;fill-rule:evenodd;fill:white;fill-opacity:1;\" d=\"M 18.214844 0.632812 C 16.109375 1.800781 15.011719 4.074219 15.074219 7.132812 L 15.085938 7.652344 L 14.785156 7.496094 C 13.476562 6.824219 11.957031 6.671875 10.40625 7.066406 C 8.46875 7.550781 6.515625 9.15625 4.394531 11.992188 C 3.0625 13.777344 2.679688 14.636719 3.042969 15.027344 L 3.15625 15.152344 L 3.519531 15.152344 C 4.238281 15.152344 4.828125 14.886719 8.1875 13.039062 C 9.386719 12.378906 10.371094 11.839844 10.378906 11.839844 C 10.386719 11.839844 10.355469 11.929688 10.304688 12.035156 C 9.832031 13.09375 9.257812 14.820312 8.96875 16.078125 C 7.914062 20.652344 8.617188 24.53125 11.070312 27.660156 C 11.351562 28.015625 11.363281 27.914062 10.972656 28.382812 C 8.925781 30.84375 7.945312 33.28125 8.238281 35.1875 C 8.289062 35.527344 8.28125 35.523438 8.917969 35.523438 C 10.941406 35.523438 13.074219 34.207031 15.136719 31.6875 C 15.359375 31.417969 15.328125 31.425781 15.5625 31.574219 C 16.292969 32.042969 18.023438 32.964844 18.175781 32.964844 C 18.335938 32.964844 19.941406 32.210938 20.828125 31.71875 C 20.996094 31.625 21.136719 31.554688 21.136719 31.558594 C 21.203125 31.664062 21.898438 32.414062 22.222656 32.730469 C 23.835938 34.300781 25.5625 35.132812 27.582031 35.300781 C 27.90625 35.328125 27.9375 35.308594 28.007812 34.984375 C 28.382812 33.242188 27.625 30.925781 25.863281 28.425781 L 25.542969 27.96875 L 25.699219 27.785156 C 28.945312 23.960938 29.132812 18.699219 26.257812 11.96875 L 26.207031 11.84375 L 27.945312 12.703125 C 31.53125 14.476562 32.316406 14.800781 33.03125 14.800781 C 33.976562 14.800781 33.78125 13.9375 32.472656 12.292969 C 28.519531 7.355469 25.394531 5.925781 21.921875 7.472656 L 21.558594 7.636719 L 21.578125 7.542969 C 21.699219 6.992188 21.761719 5.742188 21.699219 5.164062 C 21.496094 3.296875 20.664062 1.964844 19.003906 0.855469 C 18.480469 0.503906 18.457031 0.5 18.214844 0.632812\"/>\n",
              "</g>\n",
              "      </svg>\n",
              "    "
            ]
          },
          "metadata": {}
        }
      ]
    },
    {
      "cell_type": "markdown",
      "source": [
        "If the depth is set to zero to begin with, we get the triangle since the subsegment stuff never happens."
      ],
      "metadata": {
        "id": "epgOGr_RkWhY"
      }
    },
    {
      "cell_type": "code",
      "source": [
        "initializeTurtle()\n",
        "unit = 150 \n",
        "start = 0\n",
        "corner = 120 # equilateral triangle\n",
        "\n",
        "for step in range(3): # triangle\n",
        "  koch(unit, start) # recursive process\n",
        "  left(corner)"
      ],
      "metadata": {
        "colab": {
          "base_uri": "https://localhost:8080/",
          "height": 521
        },
        "id": "7jxVdTKWngwf",
        "outputId": "442eb110-8d7f-4ead-b130-cc980c0b79b0"
      },
      "execution_count": null,
      "outputs": [
        {
          "output_type": "display_data",
          "data": {
            "text/plain": [
              "<IPython.core.display.HTML object>"
            ],
            "text/html": [
              "\n",
              "      <svg width=\"800\" height=\"500\">\n",
              "        <rect width=\"100%\" height=\"100%\" fill=\"black\"/>\n",
              "        <line x1=\"400\" y1=\"250\" x2=\"400.0\" y2=\"100.0\" stroke-linecap=\"round\" style=\"stroke:white;stroke-width:4\"/><line x1=\"400.0\" y1=\"100.0\" x2=\"270.096\" y2=\"175.0\" stroke-linecap=\"round\" style=\"stroke:white;stroke-width:4\"/><line x1=\"270.096\" y1=\"175.0\" x2=\"400.0\" y2=\"250.0\" stroke-linecap=\"round\" style=\"stroke:white;stroke-width:4\"/>\n",
              "        <g visibility=visible transform=\"rotate(360,400.0,250.0) translate(382.0, 232.0)\">\n",
              "<path style=\" stroke:none;fill-rule:evenodd;fill:white;fill-opacity:1;\" d=\"M 18.214844 0.632812 C 16.109375 1.800781 15.011719 4.074219 15.074219 7.132812 L 15.085938 7.652344 L 14.785156 7.496094 C 13.476562 6.824219 11.957031 6.671875 10.40625 7.066406 C 8.46875 7.550781 6.515625 9.15625 4.394531 11.992188 C 3.0625 13.777344 2.679688 14.636719 3.042969 15.027344 L 3.15625 15.152344 L 3.519531 15.152344 C 4.238281 15.152344 4.828125 14.886719 8.1875 13.039062 C 9.386719 12.378906 10.371094 11.839844 10.378906 11.839844 C 10.386719 11.839844 10.355469 11.929688 10.304688 12.035156 C 9.832031 13.09375 9.257812 14.820312 8.96875 16.078125 C 7.914062 20.652344 8.617188 24.53125 11.070312 27.660156 C 11.351562 28.015625 11.363281 27.914062 10.972656 28.382812 C 8.925781 30.84375 7.945312 33.28125 8.238281 35.1875 C 8.289062 35.527344 8.28125 35.523438 8.917969 35.523438 C 10.941406 35.523438 13.074219 34.207031 15.136719 31.6875 C 15.359375 31.417969 15.328125 31.425781 15.5625 31.574219 C 16.292969 32.042969 18.023438 32.964844 18.175781 32.964844 C 18.335938 32.964844 19.941406 32.210938 20.828125 31.71875 C 20.996094 31.625 21.136719 31.554688 21.136719 31.558594 C 21.203125 31.664062 21.898438 32.414062 22.222656 32.730469 C 23.835938 34.300781 25.5625 35.132812 27.582031 35.300781 C 27.90625 35.328125 27.9375 35.308594 28.007812 34.984375 C 28.382812 33.242188 27.625 30.925781 25.863281 28.425781 L 25.542969 27.96875 L 25.699219 27.785156 C 28.945312 23.960938 29.132812 18.699219 26.257812 11.96875 L 26.207031 11.84375 L 27.945312 12.703125 C 31.53125 14.476562 32.316406 14.800781 33.03125 14.800781 C 33.976562 14.800781 33.78125 13.9375 32.472656 12.292969 C 28.519531 7.355469 25.394531 5.925781 21.921875 7.472656 L 21.558594 7.636719 L 21.578125 7.542969 C 21.699219 6.992188 21.761719 5.742188 21.699219 5.164062 C 21.496094 3.296875 20.664062 1.964844 19.003906 0.855469 C 18.480469 0.503906 18.457031 0.5 18.214844 0.632812\"/>\n",
              "</g>\n",
              "      </svg>\n",
              "    "
            ]
          },
          "metadata": {}
        }
      ]
    },
    {
      "cell_type": "markdown",
      "source": [
        "So now we should be able to ask for two levels of repetition, too. "
      ],
      "metadata": {
        "id": "hW9f-EGZtrQc"
      }
    },
    {
      "cell_type": "code",
      "source": [
        "initializeTurtle()\n",
        "unit = 150 \n",
        "start = 2 # more detail\n",
        "corner = 120 \n",
        "\n",
        "for step in range(3): \n",
        "  koch(unit, start) \n",
        "  left(corner)"
      ],
      "metadata": {
        "colab": {
          "base_uri": "https://localhost:8080/",
          "height": 521
        },
        "id": "kcMVokhwtt4L",
        "outputId": "30dbd15d-18de-4640-d672-4a9a04447643"
      },
      "execution_count": null,
      "outputs": [
        {
          "output_type": "display_data",
          "data": {
            "text/plain": [
              "<IPython.core.display.HTML object>"
            ],
            "text/html": [
              "\n",
              "      <svg width=\"800\" height=\"500\">\n",
              "        <rect width=\"100%\" height=\"100%\" fill=\"black\"/>\n",
              "        <line x1=\"400\" y1=\"250\" x2=\"400.0\" y2=\"233.333\" stroke-linecap=\"round\" style=\"stroke:white;stroke-width:4\"/><line x1=\"400.0\" y1=\"233.333\" x2=\"414.434\" y2=\"225.0\" stroke-linecap=\"round\" style=\"stroke:white;stroke-width:4\"/><line x1=\"414.434\" y1=\"225.0\" x2=\"400.0\" y2=\"216.667\" stroke-linecap=\"round\" style=\"stroke:white;stroke-width:4\"/><line x1=\"400.0\" y1=\"216.667\" x2=\"400.0\" y2=\"200.0\" stroke-linecap=\"round\" style=\"stroke:white;stroke-width:4\"/><line x1=\"400.0\" y1=\"200.0\" x2=\"414.434\" y2=\"191.667\" stroke-linecap=\"round\" style=\"stroke:white;stroke-width:4\"/><line x1=\"414.434\" y1=\"191.667\" x2=\"428.868\" y2=\"200.0\" stroke-linecap=\"round\" style=\"stroke:white;stroke-width:4\"/><line x1=\"428.868\" y1=\"200.0\" x2=\"428.868\" y2=\"183.333\" stroke-linecap=\"round\" style=\"stroke:white;stroke-width:4\"/><line x1=\"428.868\" y1=\"183.333\" x2=\"443.302\" y2=\"175.0\" stroke-linecap=\"round\" style=\"stroke:white;stroke-width:4\"/><line x1=\"443.302\" y1=\"175.0\" x2=\"428.868\" y2=\"166.667\" stroke-linecap=\"round\" style=\"stroke:white;stroke-width:4\"/><line x1=\"428.868\" y1=\"166.667\" x2=\"428.868\" y2=\"150.0\" stroke-linecap=\"round\" style=\"stroke:white;stroke-width:4\"/><line x1=\"428.868\" y1=\"150.0\" x2=\"414.434\" y2=\"158.333\" stroke-linecap=\"round\" style=\"stroke:white;stroke-width:4\"/><line x1=\"414.434\" y1=\"158.333\" x2=\"400.0\" y2=\"150.0\" stroke-linecap=\"round\" style=\"stroke:white;stroke-width:4\"/><line x1=\"400.0\" y1=\"150.0\" x2=\"400.0\" y2=\"133.333\" stroke-linecap=\"round\" style=\"stroke:white;stroke-width:4\"/><line x1=\"400.0\" y1=\"133.333\" x2=\"414.434\" y2=\"125.0\" stroke-linecap=\"round\" style=\"stroke:white;stroke-width:4\"/><line x1=\"414.434\" y1=\"125.0\" x2=\"400.0\" y2=\"116.667\" stroke-linecap=\"round\" style=\"stroke:white;stroke-width:4\"/><line x1=\"400.0\" y1=\"116.667\" x2=\"400.0\" y2=\"100.0\" stroke-linecap=\"round\" style=\"stroke:white;stroke-width:4\"/><line x1=\"400.0\" y1=\"100.0\" x2=\"385.566\" y2=\"108.333\" stroke-linecap=\"round\" style=\"stroke:white;stroke-width:4\"/><line x1=\"385.566\" y1=\"108.333\" x2=\"371.132\" y2=\"100.0\" stroke-linecap=\"round\" style=\"stroke:white;stroke-width:4\"/><line x1=\"371.132\" y1=\"100.0\" x2=\"371.132\" y2=\"116.667\" stroke-linecap=\"round\" style=\"stroke:white;stroke-width:4\"/><line x1=\"371.132\" y1=\"116.667\" x2=\"356.698\" y2=\"125.0\" stroke-linecap=\"round\" style=\"stroke:white;stroke-width:4\"/><line x1=\"356.698\" y1=\"125.0\" x2=\"342.264\" y2=\"116.667\" stroke-linecap=\"round\" style=\"stroke:white;stroke-width:4\"/><line x1=\"342.264\" y1=\"116.667\" x2=\"342.264\" y2=\"100.0\" stroke-linecap=\"round\" style=\"stroke:white;stroke-width:4\"/><line x1=\"342.264\" y1=\"100.0\" x2=\"327.83\" y2=\"108.333\" stroke-linecap=\"round\" style=\"stroke:white;stroke-width:4\"/><line x1=\"327.83\" y1=\"108.333\" x2=\"313.396\" y2=\"100.0\" stroke-linecap=\"round\" style=\"stroke:white;stroke-width:4\"/><line x1=\"313.396\" y1=\"100.0\" x2=\"313.396\" y2=\"116.667\" stroke-linecap=\"round\" style=\"stroke:white;stroke-width:4\"/><line x1=\"313.396\" y1=\"116.667\" x2=\"298.962\" y2=\"125.0\" stroke-linecap=\"round\" style=\"stroke:white;stroke-width:4\"/><line x1=\"298.962\" y1=\"125.0\" x2=\"313.396\" y2=\"133.333\" stroke-linecap=\"round\" style=\"stroke:white;stroke-width:4\"/><line x1=\"313.396\" y1=\"133.333\" x2=\"313.396\" y2=\"150.0\" stroke-linecap=\"round\" style=\"stroke:white;stroke-width:4\"/><line x1=\"313.396\" y1=\"150.0\" x2=\"298.962\" y2=\"158.333\" stroke-linecap=\"round\" style=\"stroke:white;stroke-width:4\"/><line x1=\"298.962\" y1=\"158.333\" x2=\"284.528\" y2=\"150.0\" stroke-linecap=\"round\" style=\"stroke:white;stroke-width:4\"/><line x1=\"284.528\" y1=\"150.0\" x2=\"284.528\" y2=\"166.667\" stroke-linecap=\"round\" style=\"stroke:white;stroke-width:4\"/><line x1=\"284.528\" y1=\"166.667\" x2=\"270.094\" y2=\"175.0\" stroke-linecap=\"round\" style=\"stroke:white;stroke-width:4\"/><line x1=\"270.094\" y1=\"175.0\" x2=\"284.528\" y2=\"183.333\" stroke-linecap=\"round\" style=\"stroke:white;stroke-width:4\"/><line x1=\"284.528\" y1=\"183.333\" x2=\"284.528\" y2=\"200.0\" stroke-linecap=\"round\" style=\"stroke:white;stroke-width:4\"/><line x1=\"284.528\" y1=\"200.0\" x2=\"298.962\" y2=\"191.667\" stroke-linecap=\"round\" style=\"stroke:white;stroke-width:4\"/><line x1=\"298.962\" y1=\"191.667\" x2=\"313.396\" y2=\"200.0\" stroke-linecap=\"round\" style=\"stroke:white;stroke-width:4\"/><line x1=\"313.396\" y1=\"200.0\" x2=\"313.396\" y2=\"216.667\" stroke-linecap=\"round\" style=\"stroke:white;stroke-width:4\"/><line x1=\"313.396\" y1=\"216.667\" x2=\"298.962\" y2=\"225.0\" stroke-linecap=\"round\" style=\"stroke:white;stroke-width:4\"/><line x1=\"298.962\" y1=\"225.0\" x2=\"313.396\" y2=\"233.333\" stroke-linecap=\"round\" style=\"stroke:white;stroke-width:4\"/><line x1=\"313.396\" y1=\"233.333\" x2=\"313.396\" y2=\"250.0\" stroke-linecap=\"round\" style=\"stroke:white;stroke-width:4\"/><line x1=\"313.396\" y1=\"250.0\" x2=\"327.83\" y2=\"241.667\" stroke-linecap=\"round\" style=\"stroke:white;stroke-width:4\"/><line x1=\"327.83\" y1=\"241.667\" x2=\"342.264\" y2=\"250.0\" stroke-linecap=\"round\" style=\"stroke:white;stroke-width:4\"/><line x1=\"342.264\" y1=\"250.0\" x2=\"342.264\" y2=\"233.333\" stroke-linecap=\"round\" style=\"stroke:white;stroke-width:4\"/><line x1=\"342.264\" y1=\"233.333\" x2=\"356.698\" y2=\"225.0\" stroke-linecap=\"round\" style=\"stroke:white;stroke-width:4\"/><line x1=\"356.698\" y1=\"225.0\" x2=\"371.132\" y2=\"233.333\" stroke-linecap=\"round\" style=\"stroke:white;stroke-width:4\"/><line x1=\"371.132\" y1=\"233.333\" x2=\"371.132\" y2=\"250.0\" stroke-linecap=\"round\" style=\"stroke:white;stroke-width:4\"/><line x1=\"371.132\" y1=\"250.0\" x2=\"385.566\" y2=\"241.667\" stroke-linecap=\"round\" style=\"stroke:white;stroke-width:4\"/><line x1=\"385.566\" y1=\"241.667\" x2=\"400.0\" y2=\"250.0\" stroke-linecap=\"round\" style=\"stroke:white;stroke-width:4\"/>\n",
              "        <g visibility=visible transform=\"rotate(360,400.0,250.0) translate(382.0, 232.0)\">\n",
              "<path style=\" stroke:none;fill-rule:evenodd;fill:white;fill-opacity:1;\" d=\"M 18.214844 0.632812 C 16.109375 1.800781 15.011719 4.074219 15.074219 7.132812 L 15.085938 7.652344 L 14.785156 7.496094 C 13.476562 6.824219 11.957031 6.671875 10.40625 7.066406 C 8.46875 7.550781 6.515625 9.15625 4.394531 11.992188 C 3.0625 13.777344 2.679688 14.636719 3.042969 15.027344 L 3.15625 15.152344 L 3.519531 15.152344 C 4.238281 15.152344 4.828125 14.886719 8.1875 13.039062 C 9.386719 12.378906 10.371094 11.839844 10.378906 11.839844 C 10.386719 11.839844 10.355469 11.929688 10.304688 12.035156 C 9.832031 13.09375 9.257812 14.820312 8.96875 16.078125 C 7.914062 20.652344 8.617188 24.53125 11.070312 27.660156 C 11.351562 28.015625 11.363281 27.914062 10.972656 28.382812 C 8.925781 30.84375 7.945312 33.28125 8.238281 35.1875 C 8.289062 35.527344 8.28125 35.523438 8.917969 35.523438 C 10.941406 35.523438 13.074219 34.207031 15.136719 31.6875 C 15.359375 31.417969 15.328125 31.425781 15.5625 31.574219 C 16.292969 32.042969 18.023438 32.964844 18.175781 32.964844 C 18.335938 32.964844 19.941406 32.210938 20.828125 31.71875 C 20.996094 31.625 21.136719 31.554688 21.136719 31.558594 C 21.203125 31.664062 21.898438 32.414062 22.222656 32.730469 C 23.835938 34.300781 25.5625 35.132812 27.582031 35.300781 C 27.90625 35.328125 27.9375 35.308594 28.007812 34.984375 C 28.382812 33.242188 27.625 30.925781 25.863281 28.425781 L 25.542969 27.96875 L 25.699219 27.785156 C 28.945312 23.960938 29.132812 18.699219 26.257812 11.96875 L 26.207031 11.84375 L 27.945312 12.703125 C 31.53125 14.476562 32.316406 14.800781 33.03125 14.800781 C 33.976562 14.800781 33.78125 13.9375 32.472656 12.292969 C 28.519531 7.355469 25.394531 5.925781 21.921875 7.472656 L 21.558594 7.636719 L 21.578125 7.542969 C 21.699219 6.992188 21.761719 5.742188 21.699219 5.164062 C 21.496094 3.296875 20.664062 1.964844 19.003906 0.855469 C 18.480469 0.503906 18.457031 0.5 18.214844 0.632812\"/>\n",
              "</g>\n",
              "      </svg>\n",
              "    "
            ]
          },
          "metadata": {}
        }
      ]
    },
    {
      "cell_type": "markdown",
      "source": [
        "That is a little slow and the line is a little thick. Let's make the turtle move faster when the recursion is deeper and also to use a thinner line."
      ],
      "metadata": {
        "id": "J17ViEJWt467"
      }
    },
    {
      "cell_type": "code",
      "source": [
        "initializeTurtle()\n",
        "unit = 150 \n",
        "width(1) # how many pixels wide should the trail of the turtle be\n",
        "start = 3\n",
        "speed(max(13 - start, 13)) # move faster when we have more recursion depth\n",
        "corner = 120 \n",
        "\n",
        "for step in range(3): \n",
        "  koch(unit, start) \n",
        "  left(corner)"
      ],
      "metadata": {
        "colab": {
          "base_uri": "https://localhost:8080/",
          "height": 521
        },
        "id": "k_YC16IXuDQE",
        "outputId": "c9850dc5-1489-4a78-cf86-58a4a21cab27"
      },
      "execution_count": null,
      "outputs": [
        {
          "output_type": "display_data",
          "data": {
            "text/plain": [
              "<IPython.core.display.HTML object>"
            ],
            "text/html": [
              "\n",
              "      <svg width=\"800\" height=\"500\">\n",
              "        <rect width=\"100%\" height=\"100%\" fill=\"black\"/>\n",
              "        <line x1=\"400\" y1=\"250\" x2=\"400.0\" y2=\"244.444\" stroke-linecap=\"round\" style=\"stroke:white;stroke-width:1\"/><line x1=\"400.0\" y1=\"244.444\" x2=\"404.811\" y2=\"241.666\" stroke-linecap=\"round\" style=\"stroke:white;stroke-width:1\"/><line x1=\"404.811\" y1=\"241.666\" x2=\"400.0\" y2=\"238.888\" stroke-linecap=\"round\" style=\"stroke:white;stroke-width:1\"/><line x1=\"400.0\" y1=\"238.888\" x2=\"400.0\" y2=\"233.332\" stroke-linecap=\"round\" style=\"stroke:white;stroke-width:1\"/><line x1=\"400.0\" y1=\"233.332\" x2=\"404.811\" y2=\"230.554\" stroke-linecap=\"round\" style=\"stroke:white;stroke-width:1\"/><line x1=\"404.811\" y1=\"230.554\" x2=\"409.622\" y2=\"233.332\" stroke-linecap=\"round\" style=\"stroke:white;stroke-width:1\"/><line x1=\"409.622\" y1=\"233.332\" x2=\"409.622\" y2=\"227.776\" stroke-linecap=\"round\" style=\"stroke:white;stroke-width:1\"/><line x1=\"409.622\" y1=\"227.776\" x2=\"414.433\" y2=\"224.998\" stroke-linecap=\"round\" style=\"stroke:white;stroke-width:1\"/><line x1=\"414.433\" y1=\"224.998\" x2=\"409.622\" y2=\"222.22\" stroke-linecap=\"round\" style=\"stroke:white;stroke-width:1\"/><line x1=\"409.622\" y1=\"222.22\" x2=\"409.622\" y2=\"216.664\" stroke-linecap=\"round\" style=\"stroke:white;stroke-width:1\"/><line x1=\"409.622\" y1=\"216.664\" x2=\"404.811\" y2=\"219.442\" stroke-linecap=\"round\" style=\"stroke:white;stroke-width:1\"/><line x1=\"404.811\" y1=\"219.442\" x2=\"400.0\" y2=\"216.664\" stroke-linecap=\"round\" style=\"stroke:white;stroke-width:1\"/><line x1=\"400.0\" y1=\"216.664\" x2=\"400.0\" y2=\"211.108\" stroke-linecap=\"round\" style=\"stroke:white;stroke-width:1\"/><line x1=\"400.0\" y1=\"211.108\" x2=\"404.811\" y2=\"208.33\" stroke-linecap=\"round\" style=\"stroke:white;stroke-width:1\"/><line x1=\"404.811\" y1=\"208.33\" x2=\"400.0\" y2=\"205.552\" stroke-linecap=\"round\" style=\"stroke:white;stroke-width:1\"/><line x1=\"400.0\" y1=\"205.552\" x2=\"400.0\" y2=\"199.996\" stroke-linecap=\"round\" style=\"stroke:white;stroke-width:1\"/><line x1=\"400.0\" y1=\"199.996\" x2=\"404.811\" y2=\"197.218\" stroke-linecap=\"round\" style=\"stroke:white;stroke-width:1\"/><line x1=\"404.811\" y1=\"197.218\" x2=\"409.622\" y2=\"199.996\" stroke-linecap=\"round\" style=\"stroke:white;stroke-width:1\"/><line x1=\"409.622\" y1=\"199.996\" x2=\"409.622\" y2=\"194.44\" stroke-linecap=\"round\" style=\"stroke:white;stroke-width:1\"/><line x1=\"409.622\" y1=\"194.44\" x2=\"414.433\" y2=\"191.662\" stroke-linecap=\"round\" style=\"stroke:white;stroke-width:1\"/><line x1=\"414.433\" y1=\"191.662\" x2=\"419.244\" y2=\"194.44\" stroke-linecap=\"round\" style=\"stroke:white;stroke-width:1\"/><line x1=\"419.244\" y1=\"194.44\" x2=\"419.244\" y2=\"199.996\" stroke-linecap=\"round\" style=\"stroke:white;stroke-width:1\"/><line x1=\"419.244\" y1=\"199.996\" x2=\"424.055\" y2=\"197.218\" stroke-linecap=\"round\" style=\"stroke:white;stroke-width:1\"/><line x1=\"424.055\" y1=\"197.218\" x2=\"428.866\" y2=\"199.996\" stroke-linecap=\"round\" style=\"stroke:white;stroke-width:1\"/><line x1=\"428.866\" y1=\"199.996\" x2=\"428.866\" y2=\"194.44\" stroke-linecap=\"round\" style=\"stroke:white;stroke-width:1\"/><line x1=\"428.866\" y1=\"194.44\" x2=\"433.677\" y2=\"191.662\" stroke-linecap=\"round\" style=\"stroke:white;stroke-width:1\"/><line x1=\"433.677\" y1=\"191.662\" x2=\"428.866\" y2=\"188.884\" stroke-linecap=\"round\" style=\"stroke:white;stroke-width:1\"/><line x1=\"428.866\" y1=\"188.884\" x2=\"428.866\" y2=\"183.328\" stroke-linecap=\"round\" style=\"stroke:white;stroke-width:1\"/><line x1=\"428.866\" y1=\"183.328\" x2=\"433.677\" y2=\"180.55\" stroke-linecap=\"round\" style=\"stroke:white;stroke-width:1\"/><line x1=\"433.677\" y1=\"180.55\" x2=\"438.488\" y2=\"183.328\" stroke-linecap=\"round\" style=\"stroke:white;stroke-width:1\"/><line x1=\"438.488\" y1=\"183.328\" x2=\"438.488\" y2=\"177.772\" stroke-linecap=\"round\" style=\"stroke:white;stroke-width:1\"/><line x1=\"438.488\" y1=\"177.772\" x2=\"443.299\" y2=\"174.994\" stroke-linecap=\"round\" style=\"stroke:white;stroke-width:1\"/><line x1=\"443.299\" y1=\"174.994\" x2=\"438.488\" y2=\"172.216\" stroke-linecap=\"round\" style=\"stroke:white;stroke-width:1\"/><line x1=\"438.488\" y1=\"172.216\" x2=\"438.488\" y2=\"166.66\" stroke-linecap=\"round\" style=\"stroke:white;stroke-width:1\"/><line x1=\"438.488\" y1=\"166.66\" x2=\"433.677\" y2=\"169.438\" stroke-linecap=\"round\" style=\"stroke:white;stroke-width:1\"/><line x1=\"433.677\" y1=\"169.438\" x2=\"428.866\" y2=\"166.66\" stroke-linecap=\"round\" style=\"stroke:white;stroke-width:1\"/><line x1=\"428.866\" y1=\"166.66\" x2=\"428.866\" y2=\"161.104\" stroke-linecap=\"round\" style=\"stroke:white;stroke-width:1\"/><line x1=\"428.866\" y1=\"161.104\" x2=\"433.677\" y2=\"158.326\" stroke-linecap=\"round\" style=\"stroke:white;stroke-width:1\"/><line x1=\"433.677\" y1=\"158.326\" x2=\"428.866\" y2=\"155.548\" stroke-linecap=\"round\" style=\"stroke:white;stroke-width:1\"/><line x1=\"428.866\" y1=\"155.548\" x2=\"428.866\" y2=\"149.992\" stroke-linecap=\"round\" style=\"stroke:white;stroke-width:1\"/><line x1=\"428.866\" y1=\"149.992\" x2=\"424.055\" y2=\"152.77\" stroke-linecap=\"round\" style=\"stroke:white;stroke-width:1\"/><line x1=\"424.055\" y1=\"152.77\" x2=\"419.244\" y2=\"149.992\" stroke-linecap=\"round\" style=\"stroke:white;stroke-width:1\"/><line x1=\"419.244\" y1=\"149.992\" x2=\"419.244\" y2=\"155.548\" stroke-linecap=\"round\" style=\"stroke:white;stroke-width:1\"/><line x1=\"419.244\" y1=\"155.548\" x2=\"414.433\" y2=\"158.326\" stroke-linecap=\"round\" style=\"stroke:white;stroke-width:1\"/><line x1=\"414.433\" y1=\"158.326\" x2=\"409.622\" y2=\"155.548\" stroke-linecap=\"round\" style=\"stroke:white;stroke-width:1\"/><line x1=\"409.622\" y1=\"155.548\" x2=\"409.622\" y2=\"149.992\" stroke-linecap=\"round\" style=\"stroke:white;stroke-width:1\"/><line x1=\"409.622\" y1=\"149.992\" x2=\"404.811\" y2=\"152.77\" stroke-linecap=\"round\" style=\"stroke:white;stroke-width:1\"/><line x1=\"404.811\" y1=\"152.77\" x2=\"400.0\" y2=\"149.992\" stroke-linecap=\"round\" style=\"stroke:white;stroke-width:1\"/><line x1=\"400.0\" y1=\"149.992\" x2=\"400.0\" y2=\"144.436\" stroke-linecap=\"round\" style=\"stroke:white;stroke-width:1\"/><line x1=\"400.0\" y1=\"144.436\" x2=\"404.811\" y2=\"141.658\" stroke-linecap=\"round\" style=\"stroke:white;stroke-width:1\"/><line x1=\"404.811\" y1=\"141.658\" x2=\"400.0\" y2=\"138.88\" stroke-linecap=\"round\" style=\"stroke:white;stroke-width:1\"/><line x1=\"400.0\" y1=\"138.88\" x2=\"400.0\" y2=\"133.324\" stroke-linecap=\"round\" style=\"stroke:white;stroke-width:1\"/><line x1=\"400.0\" y1=\"133.324\" x2=\"404.811\" y2=\"130.546\" stroke-linecap=\"round\" style=\"stroke:white;stroke-width:1\"/><line x1=\"404.811\" y1=\"130.546\" x2=\"409.622\" y2=\"133.324\" stroke-linecap=\"round\" style=\"stroke:white;stroke-width:1\"/><line x1=\"409.622\" y1=\"133.324\" x2=\"409.622\" y2=\"127.768\" stroke-linecap=\"round\" style=\"stroke:white;stroke-width:1\"/><line x1=\"409.622\" y1=\"127.768\" x2=\"414.433\" y2=\"124.99\" stroke-linecap=\"round\" style=\"stroke:white;stroke-width:1\"/><line x1=\"414.433\" y1=\"124.99\" x2=\"409.622\" y2=\"122.212\" stroke-linecap=\"round\" style=\"stroke:white;stroke-width:1\"/><line x1=\"409.622\" y1=\"122.212\" x2=\"409.622\" y2=\"116.656\" stroke-linecap=\"round\" style=\"stroke:white;stroke-width:1\"/><line x1=\"409.622\" y1=\"116.656\" x2=\"404.811\" y2=\"119.434\" stroke-linecap=\"round\" style=\"stroke:white;stroke-width:1\"/><line x1=\"404.811\" y1=\"119.434\" x2=\"400.0\" y2=\"116.656\" stroke-linecap=\"round\" style=\"stroke:white;stroke-width:1\"/><line x1=\"400.0\" y1=\"116.656\" x2=\"400.0\" y2=\"111.1\" stroke-linecap=\"round\" style=\"stroke:white;stroke-width:1\"/><line x1=\"400.0\" y1=\"111.1\" x2=\"404.811\" y2=\"108.322\" stroke-linecap=\"round\" style=\"stroke:white;stroke-width:1\"/><line x1=\"404.811\" y1=\"108.322\" x2=\"400.0\" y2=\"105.544\" stroke-linecap=\"round\" style=\"stroke:white;stroke-width:1\"/><line x1=\"400.0\" y1=\"105.544\" x2=\"400.0\" y2=\"99.988\" stroke-linecap=\"round\" style=\"stroke:white;stroke-width:1\"/><line x1=\"400.0\" y1=\"99.988\" x2=\"395.189\" y2=\"102.766\" stroke-linecap=\"round\" style=\"stroke:white;stroke-width:1\"/><line x1=\"395.189\" y1=\"102.766\" x2=\"390.378\" y2=\"99.988\" stroke-linecap=\"round\" style=\"stroke:white;stroke-width:1\"/><line x1=\"390.378\" y1=\"99.988\" x2=\"390.378\" y2=\"105.544\" stroke-linecap=\"round\" style=\"stroke:white;stroke-width:1\"/><line x1=\"390.378\" y1=\"105.544\" x2=\"385.567\" y2=\"108.322\" stroke-linecap=\"round\" style=\"stroke:white;stroke-width:1\"/><line x1=\"385.567\" y1=\"108.322\" x2=\"380.756\" y2=\"105.544\" stroke-linecap=\"round\" style=\"stroke:white;stroke-width:1\"/><line x1=\"380.756\" y1=\"105.544\" x2=\"380.756\" y2=\"99.988\" stroke-linecap=\"round\" style=\"stroke:white;stroke-width:1\"/><line x1=\"380.756\" y1=\"99.988\" x2=\"375.945\" y2=\"102.766\" stroke-linecap=\"round\" style=\"stroke:white;stroke-width:1\"/><line x1=\"375.945\" y1=\"102.766\" x2=\"371.134\" y2=\"99.988\" stroke-linecap=\"round\" style=\"stroke:white;stroke-width:1\"/><line x1=\"371.134\" y1=\"99.988\" x2=\"371.134\" y2=\"105.544\" stroke-linecap=\"round\" style=\"stroke:white;stroke-width:1\"/><line x1=\"371.134\" y1=\"105.544\" x2=\"366.323\" y2=\"108.322\" stroke-linecap=\"round\" style=\"stroke:white;stroke-width:1\"/><line x1=\"366.323\" y1=\"108.322\" x2=\"371.134\" y2=\"111.1\" stroke-linecap=\"round\" style=\"stroke:white;stroke-width:1\"/><line x1=\"371.134\" y1=\"111.1\" x2=\"371.134\" y2=\"116.656\" stroke-linecap=\"round\" style=\"stroke:white;stroke-width:1\"/><line x1=\"371.134\" y1=\"116.656\" x2=\"366.323\" y2=\"119.434\" stroke-linecap=\"round\" style=\"stroke:white;stroke-width:1\"/><line x1=\"366.323\" y1=\"119.434\" x2=\"361.512\" y2=\"116.656\" stroke-linecap=\"round\" style=\"stroke:white;stroke-width:1\"/><line x1=\"361.512\" y1=\"116.656\" x2=\"361.512\" y2=\"122.212\" stroke-linecap=\"round\" style=\"stroke:white;stroke-width:1\"/><line x1=\"361.512\" y1=\"122.212\" x2=\"356.701\" y2=\"124.99\" stroke-linecap=\"round\" style=\"stroke:white;stroke-width:1\"/><line x1=\"356.701\" y1=\"124.99\" x2=\"351.89\" y2=\"122.212\" stroke-linecap=\"round\" style=\"stroke:white;stroke-width:1\"/><line x1=\"351.89\" y1=\"122.212\" x2=\"351.89\" y2=\"116.656\" stroke-linecap=\"round\" style=\"stroke:white;stroke-width:1\"/><line x1=\"351.89\" y1=\"116.656\" x2=\"347.079\" y2=\"119.434\" stroke-linecap=\"round\" style=\"stroke:white;stroke-width:1\"/><line x1=\"347.079\" y1=\"119.434\" x2=\"342.268\" y2=\"116.656\" stroke-linecap=\"round\" style=\"stroke:white;stroke-width:1\"/><line x1=\"342.268\" y1=\"116.656\" x2=\"342.268\" y2=\"111.1\" stroke-linecap=\"round\" style=\"stroke:white;stroke-width:1\"/><line x1=\"342.268\" y1=\"111.1\" x2=\"347.079\" y2=\"108.322\" stroke-linecap=\"round\" style=\"stroke:white;stroke-width:1\"/><line x1=\"347.079\" y1=\"108.322\" x2=\"342.268\" y2=\"105.544\" stroke-linecap=\"round\" style=\"stroke:white;stroke-width:1\"/><line x1=\"342.268\" y1=\"105.544\" x2=\"342.268\" y2=\"99.988\" stroke-linecap=\"round\" style=\"stroke:white;stroke-width:1\"/><line x1=\"342.268\" y1=\"99.988\" x2=\"337.457\" y2=\"102.766\" stroke-linecap=\"round\" style=\"stroke:white;stroke-width:1\"/><line x1=\"337.457\" y1=\"102.766\" x2=\"332.646\" y2=\"99.988\" stroke-linecap=\"round\" style=\"stroke:white;stroke-width:1\"/><line x1=\"332.646\" y1=\"99.988\" x2=\"332.646\" y2=\"105.544\" stroke-linecap=\"round\" style=\"stroke:white;stroke-width:1\"/><line x1=\"332.646\" y1=\"105.544\" x2=\"327.835\" y2=\"108.322\" stroke-linecap=\"round\" style=\"stroke:white;stroke-width:1\"/><line x1=\"327.835\" y1=\"108.322\" x2=\"323.024\" y2=\"105.544\" stroke-linecap=\"round\" style=\"stroke:white;stroke-width:1\"/><line x1=\"323.024\" y1=\"105.544\" x2=\"323.024\" y2=\"99.988\" stroke-linecap=\"round\" style=\"stroke:white;stroke-width:1\"/><line x1=\"323.024\" y1=\"99.988\" x2=\"318.213\" y2=\"102.766\" stroke-linecap=\"round\" style=\"stroke:white;stroke-width:1\"/><line x1=\"318.213\" y1=\"102.766\" x2=\"313.402\" y2=\"99.988\" stroke-linecap=\"round\" style=\"stroke:white;stroke-width:1\"/><line x1=\"313.402\" y1=\"99.988\" x2=\"313.402\" y2=\"105.544\" stroke-linecap=\"round\" style=\"stroke:white;stroke-width:1\"/><line x1=\"313.402\" y1=\"105.544\" x2=\"308.591\" y2=\"108.322\" stroke-linecap=\"round\" style=\"stroke:white;stroke-width:1\"/><line x1=\"308.591\" y1=\"108.322\" x2=\"313.402\" y2=\"111.1\" stroke-linecap=\"round\" style=\"stroke:white;stroke-width:1\"/><line x1=\"313.402\" y1=\"111.1\" x2=\"313.402\" y2=\"116.656\" stroke-linecap=\"round\" style=\"stroke:white;stroke-width:1\"/><line x1=\"313.402\" y1=\"116.656\" x2=\"308.591\" y2=\"119.434\" stroke-linecap=\"round\" style=\"stroke:white;stroke-width:1\"/><line x1=\"308.591\" y1=\"119.434\" x2=\"303.78\" y2=\"116.656\" stroke-linecap=\"round\" style=\"stroke:white;stroke-width:1\"/><line x1=\"303.78\" y1=\"116.656\" x2=\"303.78\" y2=\"122.212\" stroke-linecap=\"round\" style=\"stroke:white;stroke-width:1\"/><line x1=\"303.78\" y1=\"122.212\" x2=\"298.969\" y2=\"124.99\" stroke-linecap=\"round\" style=\"stroke:white;stroke-width:1\"/><line x1=\"298.969\" y1=\"124.99\" x2=\"303.78\" y2=\"127.768\" stroke-linecap=\"round\" style=\"stroke:white;stroke-width:1\"/><line x1=\"303.78\" y1=\"127.768\" x2=\"303.78\" y2=\"133.324\" stroke-linecap=\"round\" style=\"stroke:white;stroke-width:1\"/><line x1=\"303.78\" y1=\"133.324\" x2=\"308.591\" y2=\"130.546\" stroke-linecap=\"round\" style=\"stroke:white;stroke-width:1\"/><line x1=\"308.591\" y1=\"130.546\" x2=\"313.402\" y2=\"133.324\" stroke-linecap=\"round\" style=\"stroke:white;stroke-width:1\"/><line x1=\"313.402\" y1=\"133.324\" x2=\"313.402\" y2=\"138.88\" stroke-linecap=\"round\" style=\"stroke:white;stroke-width:1\"/><line x1=\"313.402\" y1=\"138.88\" x2=\"308.591\" y2=\"141.658\" stroke-linecap=\"round\" style=\"stroke:white;stroke-width:1\"/><line x1=\"308.591\" y1=\"141.658\" x2=\"313.402\" y2=\"144.436\" stroke-linecap=\"round\" style=\"stroke:white;stroke-width:1\"/><line x1=\"313.402\" y1=\"144.436\" x2=\"313.402\" y2=\"149.992\" stroke-linecap=\"round\" style=\"stroke:white;stroke-width:1\"/><line x1=\"313.402\" y1=\"149.992\" x2=\"308.591\" y2=\"152.77\" stroke-linecap=\"round\" style=\"stroke:white;stroke-width:1\"/><line x1=\"308.591\" y1=\"152.77\" x2=\"303.78\" y2=\"149.992\" stroke-linecap=\"round\" style=\"stroke:white;stroke-width:1\"/><line x1=\"303.78\" y1=\"149.992\" x2=\"303.78\" y2=\"155.548\" stroke-linecap=\"round\" style=\"stroke:white;stroke-width:1\"/><line x1=\"303.78\" y1=\"155.548\" x2=\"298.969\" y2=\"158.326\" stroke-linecap=\"round\" style=\"stroke:white;stroke-width:1\"/><line x1=\"298.969\" y1=\"158.326\" x2=\"294.158\" y2=\"155.548\" stroke-linecap=\"round\" style=\"stroke:white;stroke-width:1\"/><line x1=\"294.158\" y1=\"155.548\" x2=\"294.158\" y2=\"149.992\" stroke-linecap=\"round\" style=\"stroke:white;stroke-width:1\"/><line x1=\"294.158\" y1=\"149.992\" x2=\"289.347\" y2=\"152.77\" stroke-linecap=\"round\" style=\"stroke:white;stroke-width:1\"/><line x1=\"289.347\" y1=\"152.77\" x2=\"284.536\" y2=\"149.992\" stroke-linecap=\"round\" style=\"stroke:white;stroke-width:1\"/><line x1=\"284.536\" y1=\"149.992\" x2=\"284.536\" y2=\"155.548\" stroke-linecap=\"round\" style=\"stroke:white;stroke-width:1\"/><line x1=\"284.536\" y1=\"155.548\" x2=\"279.725\" y2=\"158.326\" stroke-linecap=\"round\" style=\"stroke:white;stroke-width:1\"/><line x1=\"279.725\" y1=\"158.326\" x2=\"284.536\" y2=\"161.104\" stroke-linecap=\"round\" style=\"stroke:white;stroke-width:1\"/><line x1=\"284.536\" y1=\"161.104\" x2=\"284.536\" y2=\"166.66\" stroke-linecap=\"round\" style=\"stroke:white;stroke-width:1\"/><line x1=\"284.536\" y1=\"166.66\" x2=\"279.725\" y2=\"169.438\" stroke-linecap=\"round\" style=\"stroke:white;stroke-width:1\"/><line x1=\"279.725\" y1=\"169.438\" x2=\"274.914\" y2=\"166.66\" stroke-linecap=\"round\" style=\"stroke:white;stroke-width:1\"/><line x1=\"274.914\" y1=\"166.66\" x2=\"274.914\" y2=\"172.216\" stroke-linecap=\"round\" style=\"stroke:white;stroke-width:1\"/><line x1=\"274.914\" y1=\"172.216\" x2=\"270.103\" y2=\"174.994\" stroke-linecap=\"round\" style=\"stroke:white;stroke-width:1\"/><line x1=\"270.103\" y1=\"174.994\" x2=\"274.914\" y2=\"177.772\" stroke-linecap=\"round\" style=\"stroke:white;stroke-width:1\"/><line x1=\"274.914\" y1=\"177.772\" x2=\"274.914\" y2=\"183.328\" stroke-linecap=\"round\" style=\"stroke:white;stroke-width:1\"/><line x1=\"274.914\" y1=\"183.328\" x2=\"279.725\" y2=\"180.55\" stroke-linecap=\"round\" style=\"stroke:white;stroke-width:1\"/><line x1=\"279.725\" y1=\"180.55\" x2=\"284.536\" y2=\"183.328\" stroke-linecap=\"round\" style=\"stroke:white;stroke-width:1\"/><line x1=\"284.536\" y1=\"183.328\" x2=\"284.536\" y2=\"188.884\" stroke-linecap=\"round\" style=\"stroke:white;stroke-width:1\"/><line x1=\"284.536\" y1=\"188.884\" x2=\"279.725\" y2=\"191.662\" stroke-linecap=\"round\" style=\"stroke:white;stroke-width:1\"/><line x1=\"279.725\" y1=\"191.662\" x2=\"284.536\" y2=\"194.44\" stroke-linecap=\"round\" style=\"stroke:white;stroke-width:1\"/><line x1=\"284.536\" y1=\"194.44\" x2=\"284.536\" y2=\"199.996\" stroke-linecap=\"round\" style=\"stroke:white;stroke-width:1\"/><line x1=\"284.536\" y1=\"199.996\" x2=\"289.347\" y2=\"197.218\" stroke-linecap=\"round\" style=\"stroke:white;stroke-width:1\"/><line x1=\"289.347\" y1=\"197.218\" x2=\"294.158\" y2=\"199.996\" stroke-linecap=\"round\" style=\"stroke:white;stroke-width:1\"/><line x1=\"294.158\" y1=\"199.996\" x2=\"294.158\" y2=\"194.44\" stroke-linecap=\"round\" style=\"stroke:white;stroke-width:1\"/><line x1=\"294.158\" y1=\"194.44\" x2=\"298.969\" y2=\"191.662\" stroke-linecap=\"round\" style=\"stroke:white;stroke-width:1\"/><line x1=\"298.969\" y1=\"191.662\" x2=\"303.78\" y2=\"194.44\" stroke-linecap=\"round\" style=\"stroke:white;stroke-width:1\"/><line x1=\"303.78\" y1=\"194.44\" x2=\"303.78\" y2=\"199.996\" stroke-linecap=\"round\" style=\"stroke:white;stroke-width:1\"/><line x1=\"303.78\" y1=\"199.996\" x2=\"308.591\" y2=\"197.218\" stroke-linecap=\"round\" style=\"stroke:white;stroke-width:1\"/><line x1=\"308.591\" y1=\"197.218\" x2=\"313.402\" y2=\"199.996\" stroke-linecap=\"round\" style=\"stroke:white;stroke-width:1\"/><line x1=\"313.402\" y1=\"199.996\" x2=\"313.402\" y2=\"205.552\" stroke-linecap=\"round\" style=\"stroke:white;stroke-width:1\"/><line x1=\"313.402\" y1=\"205.552\" x2=\"308.591\" y2=\"208.33\" stroke-linecap=\"round\" style=\"stroke:white;stroke-width:1\"/><line x1=\"308.591\" y1=\"208.33\" x2=\"313.402\" y2=\"211.108\" stroke-linecap=\"round\" style=\"stroke:white;stroke-width:1\"/><line x1=\"313.402\" y1=\"211.108\" x2=\"313.402\" y2=\"216.664\" stroke-linecap=\"round\" style=\"stroke:white;stroke-width:1\"/><line x1=\"313.402\" y1=\"216.664\" x2=\"308.591\" y2=\"219.442\" stroke-linecap=\"round\" style=\"stroke:white;stroke-width:1\"/><line x1=\"308.591\" y1=\"219.442\" x2=\"303.78\" y2=\"216.664\" stroke-linecap=\"round\" style=\"stroke:white;stroke-width:1\"/><line x1=\"303.78\" y1=\"216.664\" x2=\"303.78\" y2=\"222.22\" stroke-linecap=\"round\" style=\"stroke:white;stroke-width:1\"/><line x1=\"303.78\" y1=\"222.22\" x2=\"298.969\" y2=\"224.998\" stroke-linecap=\"round\" style=\"stroke:white;stroke-width:1\"/><line x1=\"298.969\" y1=\"224.998\" x2=\"303.78\" y2=\"227.776\" stroke-linecap=\"round\" style=\"stroke:white;stroke-width:1\"/><line x1=\"303.78\" y1=\"227.776\" x2=\"303.78\" y2=\"233.332\" stroke-linecap=\"round\" style=\"stroke:white;stroke-width:1\"/><line x1=\"303.78\" y1=\"233.332\" x2=\"308.591\" y2=\"230.554\" stroke-linecap=\"round\" style=\"stroke:white;stroke-width:1\"/><line x1=\"308.591\" y1=\"230.554\" x2=\"313.402\" y2=\"233.332\" stroke-linecap=\"round\" style=\"stroke:white;stroke-width:1\"/><line x1=\"313.402\" y1=\"233.332\" x2=\"313.402\" y2=\"238.888\" stroke-linecap=\"round\" style=\"stroke:white;stroke-width:1\"/><line x1=\"313.402\" y1=\"238.888\" x2=\"308.591\" y2=\"241.666\" stroke-linecap=\"round\" style=\"stroke:white;stroke-width:1\"/><line x1=\"308.591\" y1=\"241.666\" x2=\"313.402\" y2=\"244.444\" stroke-linecap=\"round\" style=\"stroke:white;stroke-width:1\"/><line x1=\"313.402\" y1=\"244.444\" x2=\"313.402\" y2=\"250.0\" stroke-linecap=\"round\" style=\"stroke:white;stroke-width:1\"/><line x1=\"313.402\" y1=\"250.0\" x2=\"318.213\" y2=\"247.222\" stroke-linecap=\"round\" style=\"stroke:white;stroke-width:1\"/><line x1=\"318.213\" y1=\"247.222\" x2=\"323.024\" y2=\"250.0\" stroke-linecap=\"round\" style=\"stroke:white;stroke-width:1\"/><line x1=\"323.024\" y1=\"250.0\" x2=\"323.024\" y2=\"244.444\" stroke-linecap=\"round\" style=\"stroke:white;stroke-width:1\"/><line x1=\"323.024\" y1=\"244.444\" x2=\"327.835\" y2=\"241.666\" stroke-linecap=\"round\" style=\"stroke:white;stroke-width:1\"/><line x1=\"327.835\" y1=\"241.666\" x2=\"332.646\" y2=\"244.444\" stroke-linecap=\"round\" style=\"stroke:white;stroke-width:1\"/><line x1=\"332.646\" y1=\"244.444\" x2=\"332.646\" y2=\"250.0\" stroke-linecap=\"round\" style=\"stroke:white;stroke-width:1\"/><line x1=\"332.646\" y1=\"250.0\" x2=\"337.457\" y2=\"247.222\" stroke-linecap=\"round\" style=\"stroke:white;stroke-width:1\"/><line x1=\"337.457\" y1=\"247.222\" x2=\"342.268\" y2=\"250.0\" stroke-linecap=\"round\" style=\"stroke:white;stroke-width:1\"/><line x1=\"342.268\" y1=\"250.0\" x2=\"342.268\" y2=\"244.444\" stroke-linecap=\"round\" style=\"stroke:white;stroke-width:1\"/><line x1=\"342.268\" y1=\"244.444\" x2=\"347.079\" y2=\"241.666\" stroke-linecap=\"round\" style=\"stroke:white;stroke-width:1\"/><line x1=\"347.079\" y1=\"241.666\" x2=\"342.268\" y2=\"238.888\" stroke-linecap=\"round\" style=\"stroke:white;stroke-width:1\"/><line x1=\"342.268\" y1=\"238.888\" x2=\"342.268\" y2=\"233.332\" stroke-linecap=\"round\" style=\"stroke:white;stroke-width:1\"/><line x1=\"342.268\" y1=\"233.332\" x2=\"347.079\" y2=\"230.554\" stroke-linecap=\"round\" style=\"stroke:white;stroke-width:1\"/><line x1=\"347.079\" y1=\"230.554\" x2=\"351.89\" y2=\"233.332\" stroke-linecap=\"round\" style=\"stroke:white;stroke-width:1\"/><line x1=\"351.89\" y1=\"233.332\" x2=\"351.89\" y2=\"227.776\" stroke-linecap=\"round\" style=\"stroke:white;stroke-width:1\"/><line x1=\"351.89\" y1=\"227.776\" x2=\"356.701\" y2=\"224.998\" stroke-linecap=\"round\" style=\"stroke:white;stroke-width:1\"/><line x1=\"356.701\" y1=\"224.998\" x2=\"361.512\" y2=\"227.776\" stroke-linecap=\"round\" style=\"stroke:white;stroke-width:1\"/><line x1=\"361.512\" y1=\"227.776\" x2=\"361.512\" y2=\"233.332\" stroke-linecap=\"round\" style=\"stroke:white;stroke-width:1\"/><line x1=\"361.512\" y1=\"233.332\" x2=\"366.323\" y2=\"230.554\" stroke-linecap=\"round\" style=\"stroke:white;stroke-width:1\"/><line x1=\"366.323\" y1=\"230.554\" x2=\"371.134\" y2=\"233.332\" stroke-linecap=\"round\" style=\"stroke:white;stroke-width:1\"/><line x1=\"371.134\" y1=\"233.332\" x2=\"371.134\" y2=\"238.888\" stroke-linecap=\"round\" style=\"stroke:white;stroke-width:1\"/><line x1=\"371.134\" y1=\"238.888\" x2=\"366.323\" y2=\"241.666\" stroke-linecap=\"round\" style=\"stroke:white;stroke-width:1\"/><line x1=\"366.323\" y1=\"241.666\" x2=\"371.134\" y2=\"244.444\" stroke-linecap=\"round\" style=\"stroke:white;stroke-width:1\"/><line x1=\"371.134\" y1=\"244.444\" x2=\"371.134\" y2=\"250.0\" stroke-linecap=\"round\" style=\"stroke:white;stroke-width:1\"/><line x1=\"371.134\" y1=\"250.0\" x2=\"375.945\" y2=\"247.222\" stroke-linecap=\"round\" style=\"stroke:white;stroke-width:1\"/><line x1=\"375.945\" y1=\"247.222\" x2=\"380.756\" y2=\"250.0\" stroke-linecap=\"round\" style=\"stroke:white;stroke-width:1\"/><line x1=\"380.756\" y1=\"250.0\" x2=\"380.756\" y2=\"244.444\" stroke-linecap=\"round\" style=\"stroke:white;stroke-width:1\"/><line x1=\"380.756\" y1=\"244.444\" x2=\"385.567\" y2=\"241.666\" stroke-linecap=\"round\" style=\"stroke:white;stroke-width:1\"/><line x1=\"385.567\" y1=\"241.666\" x2=\"390.378\" y2=\"244.444\" stroke-linecap=\"round\" style=\"stroke:white;stroke-width:1\"/><line x1=\"390.378\" y1=\"244.444\" x2=\"390.378\" y2=\"250.0\" stroke-linecap=\"round\" style=\"stroke:white;stroke-width:1\"/><line x1=\"390.378\" y1=\"250.0\" x2=\"395.189\" y2=\"247.222\" stroke-linecap=\"round\" style=\"stroke:white;stroke-width:1\"/><line x1=\"395.189\" y1=\"247.222\" x2=\"400.0\" y2=\"250.0\" stroke-linecap=\"round\" style=\"stroke:white;stroke-width:1\"/>\n",
              "        <g visibility=visible transform=\"rotate(360,400.0,250.0) translate(382.0, 232.0)\">\n",
              "<path style=\" stroke:none;fill-rule:evenodd;fill:white;fill-opacity:1;\" d=\"M 18.214844 0.632812 C 16.109375 1.800781 15.011719 4.074219 15.074219 7.132812 L 15.085938 7.652344 L 14.785156 7.496094 C 13.476562 6.824219 11.957031 6.671875 10.40625 7.066406 C 8.46875 7.550781 6.515625 9.15625 4.394531 11.992188 C 3.0625 13.777344 2.679688 14.636719 3.042969 15.027344 L 3.15625 15.152344 L 3.519531 15.152344 C 4.238281 15.152344 4.828125 14.886719 8.1875 13.039062 C 9.386719 12.378906 10.371094 11.839844 10.378906 11.839844 C 10.386719 11.839844 10.355469 11.929688 10.304688 12.035156 C 9.832031 13.09375 9.257812 14.820312 8.96875 16.078125 C 7.914062 20.652344 8.617188 24.53125 11.070312 27.660156 C 11.351562 28.015625 11.363281 27.914062 10.972656 28.382812 C 8.925781 30.84375 7.945312 33.28125 8.238281 35.1875 C 8.289062 35.527344 8.28125 35.523438 8.917969 35.523438 C 10.941406 35.523438 13.074219 34.207031 15.136719 31.6875 C 15.359375 31.417969 15.328125 31.425781 15.5625 31.574219 C 16.292969 32.042969 18.023438 32.964844 18.175781 32.964844 C 18.335938 32.964844 19.941406 32.210938 20.828125 31.71875 C 20.996094 31.625 21.136719 31.554688 21.136719 31.558594 C 21.203125 31.664062 21.898438 32.414062 22.222656 32.730469 C 23.835938 34.300781 25.5625 35.132812 27.582031 35.300781 C 27.90625 35.328125 27.9375 35.308594 28.007812 34.984375 C 28.382812 33.242188 27.625 30.925781 25.863281 28.425781 L 25.542969 27.96875 L 25.699219 27.785156 C 28.945312 23.960938 29.132812 18.699219 26.257812 11.96875 L 26.207031 11.84375 L 27.945312 12.703125 C 31.53125 14.476562 32.316406 14.800781 33.03125 14.800781 C 33.976562 14.800781 33.78125 13.9375 32.472656 12.292969 C 28.519531 7.355469 25.394531 5.925781 21.921875 7.472656 L 21.558594 7.636719 L 21.578125 7.542969 C 21.699219 6.992188 21.761719 5.742188 21.699219 5.164062 C 21.496094 3.296875 20.664062 1.964844 19.003906 0.855469 C 18.480469 0.503906 18.457031 0.5 18.214844 0.632812\"/>\n",
              "</g>\n",
              "      </svg>\n",
              "    "
            ]
          },
          "metadata": {}
        }
      ]
    },
    {
      "cell_type": "markdown",
      "source": [
        "If we want to see tons of detail, we might not want to wait and watch the turtle move but instead just admire the end result. That can be achieved as well by hiding the turtle itself."
      ],
      "metadata": {
        "id": "lmg_ncFKvErz"
      }
    },
    {
      "cell_type": "code",
      "source": [
        "initializeTurtle()\n",
        "unit = 200 \n",
        "width(1) \n",
        "start = 4 # bigger numbers would still make this very slow\n",
        "corner = 120 \n",
        "\n",
        "penup()\n",
        "right(120) # go toward the bottom right a bit without drawing\n",
        "forward(unit // 3)\n",
        "right(-120) # point back up\n",
        "pendown() # draw again\n",
        "hideturtle() # hide the turtle\n",
        "speed(13) # the fastest possible\n",
        "\n",
        "# make the snowflake\n",
        "for step in range(3): \n",
        "  koch(unit, start) \n",
        "  left(corner)"
      ],
      "metadata": {
        "colab": {
          "base_uri": "https://localhost:8080/",
          "height": 521
        },
        "id": "5adkk9z1vXBB",
        "outputId": "05bd7247-a624-4e86-a1a3-a159c18c789e"
      },
      "execution_count": null,
      "outputs": [
        {
          "output_type": "display_data",
          "data": {
            "text/plain": [
              "<IPython.core.display.HTML object>"
            ],
            "text/html": [
              "\n",
              "      <svg width=\"800\" height=\"500\">\n",
              "        <rect width=\"100%\" height=\"100%\" fill=\"black\"/>\n",
              "        <line x1=\"457.158\" y1=\"283.0\" x2=\"457.158\" y2=\"280.531\" stroke-linecap=\"round\" style=\"stroke:white;stroke-width:1\"/><line x1=\"457.158\" y1=\"280.531\" x2=\"459.296\" y2=\"279.296\" stroke-linecap=\"round\" style=\"stroke:white;stroke-width:1\"/><line x1=\"459.296\" y1=\"279.296\" x2=\"457.158\" y2=\"278.061\" stroke-linecap=\"round\" style=\"stroke:white;stroke-width:1\"/><line x1=\"457.158\" y1=\"278.061\" x2=\"457.158\" y2=\"275.592\" stroke-linecap=\"round\" style=\"stroke:white;stroke-width:1\"/><line x1=\"457.158\" y1=\"275.592\" x2=\"459.296\" y2=\"274.357\" stroke-linecap=\"round\" style=\"stroke:white;stroke-width:1\"/><line x1=\"459.296\" y1=\"274.357\" x2=\"461.434\" y2=\"275.592\" stroke-linecap=\"round\" style=\"stroke:white;stroke-width:1\"/><line x1=\"461.434\" y1=\"275.592\" x2=\"461.434\" y2=\"273.123\" stroke-linecap=\"round\" style=\"stroke:white;stroke-width:1\"/><line x1=\"461.434\" y1=\"273.123\" x2=\"463.572\" y2=\"271.888\" stroke-linecap=\"round\" style=\"stroke:white;stroke-width:1\"/><line x1=\"463.572\" y1=\"271.888\" x2=\"461.434\" y2=\"270.653\" stroke-linecap=\"round\" style=\"stroke:white;stroke-width:1\"/><line x1=\"461.434\" y1=\"270.653\" x2=\"461.434\" y2=\"268.184\" stroke-linecap=\"round\" style=\"stroke:white;stroke-width:1\"/><line x1=\"461.434\" y1=\"268.184\" x2=\"459.296\" y2=\"269.419\" stroke-linecap=\"round\" style=\"stroke:white;stroke-width:1\"/><line x1=\"459.296\" y1=\"269.419\" x2=\"457.158\" y2=\"268.184\" stroke-linecap=\"round\" style=\"stroke:white;stroke-width:1\"/><line x1=\"457.158\" y1=\"268.184\" x2=\"457.158\" y2=\"265.715\" stroke-linecap=\"round\" style=\"stroke:white;stroke-width:1\"/><line x1=\"457.158\" y1=\"265.715\" x2=\"459.296\" y2=\"264.48\" stroke-linecap=\"round\" style=\"stroke:white;stroke-width:1\"/><line x1=\"459.296\" y1=\"264.48\" x2=\"457.158\" y2=\"263.245\" stroke-linecap=\"round\" style=\"stroke:white;stroke-width:1\"/><line x1=\"457.158\" y1=\"263.245\" x2=\"457.158\" y2=\"260.776\" stroke-linecap=\"round\" style=\"stroke:white;stroke-width:1\"/><line x1=\"457.158\" y1=\"260.776\" x2=\"459.296\" y2=\"259.541\" stroke-linecap=\"round\" style=\"stroke:white;stroke-width:1\"/><line x1=\"459.296\" y1=\"259.541\" x2=\"461.434\" y2=\"260.776\" stroke-linecap=\"round\" style=\"stroke:white;stroke-width:1\"/><line x1=\"461.434\" y1=\"260.776\" x2=\"461.434\" y2=\"258.307\" stroke-linecap=\"round\" style=\"stroke:white;stroke-width:1\"/><line x1=\"461.434\" y1=\"258.307\" x2=\"463.572\" y2=\"257.072\" stroke-linecap=\"round\" style=\"stroke:white;stroke-width:1\"/><line x1=\"463.572\" y1=\"257.072\" x2=\"465.71\" y2=\"258.307\" stroke-linecap=\"round\" style=\"stroke:white;stroke-width:1\"/><line x1=\"465.71\" y1=\"258.307\" x2=\"465.71\" y2=\"260.776\" stroke-linecap=\"round\" style=\"stroke:white;stroke-width:1\"/><line x1=\"465.71\" y1=\"260.776\" x2=\"467.848\" y2=\"259.541\" stroke-linecap=\"round\" style=\"stroke:white;stroke-width:1\"/><line x1=\"467.848\" y1=\"259.541\" x2=\"469.986\" y2=\"260.776\" stroke-linecap=\"round\" style=\"stroke:white;stroke-width:1\"/><line x1=\"469.986\" y1=\"260.776\" x2=\"469.986\" y2=\"258.307\" stroke-linecap=\"round\" style=\"stroke:white;stroke-width:1\"/><line x1=\"469.986\" y1=\"258.307\" x2=\"472.124\" y2=\"257.072\" stroke-linecap=\"round\" style=\"stroke:white;stroke-width:1\"/><line x1=\"472.124\" y1=\"257.072\" x2=\"469.986\" y2=\"255.837\" stroke-linecap=\"round\" style=\"stroke:white;stroke-width:1\"/><line x1=\"469.986\" y1=\"255.837\" x2=\"469.986\" y2=\"253.368\" stroke-linecap=\"round\" style=\"stroke:white;stroke-width:1\"/><line x1=\"469.986\" y1=\"253.368\" x2=\"472.124\" y2=\"252.133\" stroke-linecap=\"round\" style=\"stroke:white;stroke-width:1\"/><line x1=\"472.124\" y1=\"252.133\" x2=\"474.262\" y2=\"253.368\" stroke-linecap=\"round\" style=\"stroke:white;stroke-width:1\"/><line x1=\"474.262\" y1=\"253.368\" x2=\"474.262\" y2=\"250.899\" stroke-linecap=\"round\" style=\"stroke:white;stroke-width:1\"/><line x1=\"474.262\" y1=\"250.899\" x2=\"476.4\" y2=\"249.664\" stroke-linecap=\"round\" style=\"stroke:white;stroke-width:1\"/><line x1=\"476.4\" y1=\"249.664\" x2=\"474.262\" y2=\"248.429\" stroke-linecap=\"round\" style=\"stroke:white;stroke-width:1\"/><line x1=\"474.262\" y1=\"248.429\" x2=\"474.262\" y2=\"245.96\" stroke-linecap=\"round\" style=\"stroke:white;stroke-width:1\"/><line x1=\"474.262\" y1=\"245.96\" x2=\"472.124\" y2=\"247.195\" stroke-linecap=\"round\" style=\"stroke:white;stroke-width:1\"/><line x1=\"472.124\" y1=\"247.195\" x2=\"469.986\" y2=\"245.96\" stroke-linecap=\"round\" style=\"stroke:white;stroke-width:1\"/><line x1=\"469.986\" y1=\"245.96\" x2=\"469.986\" y2=\"243.491\" stroke-linecap=\"round\" style=\"stroke:white;stroke-width:1\"/><line x1=\"469.986\" y1=\"243.491\" x2=\"472.124\" y2=\"242.256\" stroke-linecap=\"round\" style=\"stroke:white;stroke-width:1\"/><line x1=\"472.124\" y1=\"242.256\" x2=\"469.986\" y2=\"241.021\" stroke-linecap=\"round\" style=\"stroke:white;stroke-width:1\"/><line x1=\"469.986\" y1=\"241.021\" x2=\"469.986\" y2=\"238.552\" stroke-linecap=\"round\" style=\"stroke:white;stroke-width:1\"/><line x1=\"469.986\" y1=\"238.552\" x2=\"467.848\" y2=\"239.787\" stroke-linecap=\"round\" style=\"stroke:white;stroke-width:1\"/><line x1=\"467.848\" y1=\"239.787\" x2=\"465.71\" y2=\"238.552\" stroke-linecap=\"round\" style=\"stroke:white;stroke-width:1\"/><line x1=\"465.71\" y1=\"238.552\" x2=\"465.71\" y2=\"241.021\" stroke-linecap=\"round\" style=\"stroke:white;stroke-width:1\"/><line x1=\"465.71\" y1=\"241.021\" x2=\"463.572\" y2=\"242.256\" stroke-linecap=\"round\" style=\"stroke:white;stroke-width:1\"/><line x1=\"463.572\" y1=\"242.256\" x2=\"461.434\" y2=\"241.021\" stroke-linecap=\"round\" style=\"stroke:white;stroke-width:1\"/><line x1=\"461.434\" y1=\"241.021\" x2=\"461.434\" y2=\"238.552\" stroke-linecap=\"round\" style=\"stroke:white;stroke-width:1\"/><line x1=\"461.434\" y1=\"238.552\" x2=\"459.296\" y2=\"239.787\" stroke-linecap=\"round\" style=\"stroke:white;stroke-width:1\"/><line x1=\"459.296\" y1=\"239.787\" x2=\"457.158\" y2=\"238.552\" stroke-linecap=\"round\" style=\"stroke:white;stroke-width:1\"/><line x1=\"457.158\" y1=\"238.552\" x2=\"457.158\" y2=\"236.083\" stroke-linecap=\"round\" style=\"stroke:white;stroke-width:1\"/><line x1=\"457.158\" y1=\"236.083\" x2=\"459.296\" y2=\"234.848\" stroke-linecap=\"round\" style=\"stroke:white;stroke-width:1\"/><line x1=\"459.296\" y1=\"234.848\" x2=\"457.158\" y2=\"233.613\" stroke-linecap=\"round\" style=\"stroke:white;stroke-width:1\"/><line x1=\"457.158\" y1=\"233.613\" x2=\"457.158\" y2=\"231.144\" stroke-linecap=\"round\" style=\"stroke:white;stroke-width:1\"/><line x1=\"457.158\" y1=\"231.144\" x2=\"459.296\" y2=\"229.909\" stroke-linecap=\"round\" style=\"stroke:white;stroke-width:1\"/><line x1=\"459.296\" y1=\"229.909\" x2=\"461.434\" y2=\"231.144\" stroke-linecap=\"round\" style=\"stroke:white;stroke-width:1\"/><line x1=\"461.434\" y1=\"231.144\" x2=\"461.434\" y2=\"228.675\" stroke-linecap=\"round\" style=\"stroke:white;stroke-width:1\"/><line x1=\"461.434\" y1=\"228.675\" x2=\"463.572\" y2=\"227.44\" stroke-linecap=\"round\" style=\"stroke:white;stroke-width:1\"/><line x1=\"463.572\" y1=\"227.44\" x2=\"461.434\" y2=\"226.205\" stroke-linecap=\"round\" style=\"stroke:white;stroke-width:1\"/><line x1=\"461.434\" y1=\"226.205\" x2=\"461.434\" y2=\"223.736\" stroke-linecap=\"round\" style=\"stroke:white;stroke-width:1\"/><line x1=\"461.434\" y1=\"223.736\" x2=\"459.296\" y2=\"224.971\" stroke-linecap=\"round\" style=\"stroke:white;stroke-width:1\"/><line x1=\"459.296\" y1=\"224.971\" x2=\"457.158\" y2=\"223.736\" stroke-linecap=\"round\" style=\"stroke:white;stroke-width:1\"/><line x1=\"457.158\" y1=\"223.736\" x2=\"457.158\" y2=\"221.267\" stroke-linecap=\"round\" style=\"stroke:white;stroke-width:1\"/><line x1=\"457.158\" y1=\"221.267\" x2=\"459.296\" y2=\"220.032\" stroke-linecap=\"round\" style=\"stroke:white;stroke-width:1\"/><line x1=\"459.296\" y1=\"220.032\" x2=\"457.158\" y2=\"218.797\" stroke-linecap=\"round\" style=\"stroke:white;stroke-width:1\"/><line x1=\"457.158\" y1=\"218.797\" x2=\"457.158\" y2=\"216.328\" stroke-linecap=\"round\" style=\"stroke:white;stroke-width:1\"/><line x1=\"457.158\" y1=\"216.328\" x2=\"459.296\" y2=\"215.093\" stroke-linecap=\"round\" style=\"stroke:white;stroke-width:1\"/><line x1=\"459.296\" y1=\"215.093\" x2=\"461.434\" y2=\"216.328\" stroke-linecap=\"round\" style=\"stroke:white;stroke-width:1\"/><line x1=\"461.434\" y1=\"216.328\" x2=\"461.434\" y2=\"213.859\" stroke-linecap=\"round\" style=\"stroke:white;stroke-width:1\"/><line x1=\"461.434\" y1=\"213.859\" x2=\"463.572\" y2=\"212.624\" stroke-linecap=\"round\" style=\"stroke:white;stroke-width:1\"/><line x1=\"463.572\" y1=\"212.624\" x2=\"465.71\" y2=\"213.859\" stroke-linecap=\"round\" style=\"stroke:white;stroke-width:1\"/><line x1=\"465.71\" y1=\"213.859\" x2=\"465.71\" y2=\"216.328\" stroke-linecap=\"round\" style=\"stroke:white;stroke-width:1\"/><line x1=\"465.71\" y1=\"216.328\" x2=\"467.848\" y2=\"215.093\" stroke-linecap=\"round\" style=\"stroke:white;stroke-width:1\"/><line x1=\"467.848\" y1=\"215.093\" x2=\"469.986\" y2=\"216.328\" stroke-linecap=\"round\" style=\"stroke:white;stroke-width:1\"/><line x1=\"469.986\" y1=\"216.328\" x2=\"469.986\" y2=\"213.859\" stroke-linecap=\"round\" style=\"stroke:white;stroke-width:1\"/><line x1=\"469.986\" y1=\"213.859\" x2=\"472.124\" y2=\"212.624\" stroke-linecap=\"round\" style=\"stroke:white;stroke-width:1\"/><line x1=\"472.124\" y1=\"212.624\" x2=\"469.986\" y2=\"211.389\" stroke-linecap=\"round\" style=\"stroke:white;stroke-width:1\"/><line x1=\"469.986\" y1=\"211.389\" x2=\"469.986\" y2=\"208.92\" stroke-linecap=\"round\" style=\"stroke:white;stroke-width:1\"/><line x1=\"469.986\" y1=\"208.92\" x2=\"472.124\" y2=\"207.685\" stroke-linecap=\"round\" style=\"stroke:white;stroke-width:1\"/><line x1=\"472.124\" y1=\"207.685\" x2=\"474.262\" y2=\"208.92\" stroke-linecap=\"round\" style=\"stroke:white;stroke-width:1\"/><line x1=\"474.262\" y1=\"208.92\" x2=\"474.262\" y2=\"206.451\" stroke-linecap=\"round\" style=\"stroke:white;stroke-width:1\"/><line x1=\"474.262\" y1=\"206.451\" x2=\"476.4\" y2=\"205.216\" stroke-linecap=\"round\" style=\"stroke:white;stroke-width:1\"/><line x1=\"476.4\" y1=\"205.216\" x2=\"478.538\" y2=\"206.451\" stroke-linecap=\"round\" style=\"stroke:white;stroke-width:1\"/><line x1=\"478.538\" y1=\"206.451\" x2=\"478.538\" y2=\"208.92\" stroke-linecap=\"round\" style=\"stroke:white;stroke-width:1\"/><line x1=\"478.538\" y1=\"208.92\" x2=\"480.676\" y2=\"207.685\" stroke-linecap=\"round\" style=\"stroke:white;stroke-width:1\"/><line x1=\"480.676\" y1=\"207.685\" x2=\"482.814\" y2=\"208.92\" stroke-linecap=\"round\" style=\"stroke:white;stroke-width:1\"/><line x1=\"482.814\" y1=\"208.92\" x2=\"482.814\" y2=\"211.389\" stroke-linecap=\"round\" style=\"stroke:white;stroke-width:1\"/><line x1=\"482.814\" y1=\"211.389\" x2=\"480.676\" y2=\"212.624\" stroke-linecap=\"round\" style=\"stroke:white;stroke-width:1\"/><line x1=\"480.676\" y1=\"212.624\" x2=\"482.814\" y2=\"213.859\" stroke-linecap=\"round\" style=\"stroke:white;stroke-width:1\"/><line x1=\"482.814\" y1=\"213.859\" x2=\"482.814\" y2=\"216.328\" stroke-linecap=\"round\" style=\"stroke:white;stroke-width:1\"/><line x1=\"482.814\" y1=\"216.328\" x2=\"484.952\" y2=\"215.093\" stroke-linecap=\"round\" style=\"stroke:white;stroke-width:1\"/><line x1=\"484.952\" y1=\"215.093\" x2=\"487.09\" y2=\"216.328\" stroke-linecap=\"round\" style=\"stroke:white;stroke-width:1\"/><line x1=\"487.09\" y1=\"216.328\" x2=\"487.09\" y2=\"213.859\" stroke-linecap=\"round\" style=\"stroke:white;stroke-width:1\"/><line x1=\"487.09\" y1=\"213.859\" x2=\"489.228\" y2=\"212.624\" stroke-linecap=\"round\" style=\"stroke:white;stroke-width:1\"/><line x1=\"489.228\" y1=\"212.624\" x2=\"491.366\" y2=\"213.859\" stroke-linecap=\"round\" style=\"stroke:white;stroke-width:1\"/><line x1=\"491.366\" y1=\"213.859\" x2=\"491.366\" y2=\"216.328\" stroke-linecap=\"round\" style=\"stroke:white;stroke-width:1\"/><line x1=\"491.366\" y1=\"216.328\" x2=\"493.504\" y2=\"215.093\" stroke-linecap=\"round\" style=\"stroke:white;stroke-width:1\"/><line x1=\"493.504\" y1=\"215.093\" x2=\"495.642\" y2=\"216.328\" stroke-linecap=\"round\" style=\"stroke:white;stroke-width:1\"/><line x1=\"495.642\" y1=\"216.328\" x2=\"495.642\" y2=\"213.859\" stroke-linecap=\"round\" style=\"stroke:white;stroke-width:1\"/><line x1=\"495.642\" y1=\"213.859\" x2=\"497.78\" y2=\"212.624\" stroke-linecap=\"round\" style=\"stroke:white;stroke-width:1\"/><line x1=\"497.78\" y1=\"212.624\" x2=\"495.642\" y2=\"211.389\" stroke-linecap=\"round\" style=\"stroke:white;stroke-width:1\"/><line x1=\"495.642\" y1=\"211.389\" x2=\"495.642\" y2=\"208.92\" stroke-linecap=\"round\" style=\"stroke:white;stroke-width:1\"/><line x1=\"495.642\" y1=\"208.92\" x2=\"497.78\" y2=\"207.685\" stroke-linecap=\"round\" style=\"stroke:white;stroke-width:1\"/><line x1=\"497.78\" y1=\"207.685\" x2=\"499.918\" y2=\"208.92\" stroke-linecap=\"round\" style=\"stroke:white;stroke-width:1\"/><line x1=\"499.918\" y1=\"208.92\" x2=\"499.918\" y2=\"206.451\" stroke-linecap=\"round\" style=\"stroke:white;stroke-width:1\"/><line x1=\"499.918\" y1=\"206.451\" x2=\"502.056\" y2=\"205.216\" stroke-linecap=\"round\" style=\"stroke:white;stroke-width:1\"/><line x1=\"502.056\" y1=\"205.216\" x2=\"499.918\" y2=\"203.981\" stroke-linecap=\"round\" style=\"stroke:white;stroke-width:1\"/><line x1=\"499.918\" y1=\"203.981\" x2=\"499.918\" y2=\"201.512\" stroke-linecap=\"round\" style=\"stroke:white;stroke-width:1\"/><line x1=\"499.918\" y1=\"201.512\" x2=\"497.78\" y2=\"202.747\" stroke-linecap=\"round\" style=\"stroke:white;stroke-width:1\"/><line x1=\"497.78\" y1=\"202.747\" x2=\"495.642\" y2=\"201.512\" stroke-linecap=\"round\" style=\"stroke:white;stroke-width:1\"/><line x1=\"495.642\" y1=\"201.512\" x2=\"495.642\" y2=\"199.043\" stroke-linecap=\"round\" style=\"stroke:white;stroke-width:1\"/><line x1=\"495.642\" y1=\"199.043\" x2=\"497.78\" y2=\"197.808\" stroke-linecap=\"round\" style=\"stroke:white;stroke-width:1\"/><line x1=\"497.78\" y1=\"197.808\" x2=\"495.642\" y2=\"196.573\" stroke-linecap=\"round\" style=\"stroke:white;stroke-width:1\"/><line x1=\"495.642\" y1=\"196.573\" x2=\"495.642\" y2=\"194.104\" stroke-linecap=\"round\" style=\"stroke:white;stroke-width:1\"/><line x1=\"495.642\" y1=\"194.104\" x2=\"497.78\" y2=\"192.869\" stroke-linecap=\"round\" style=\"stroke:white;stroke-width:1\"/><line x1=\"497.78\" y1=\"192.869\" x2=\"499.918\" y2=\"194.104\" stroke-linecap=\"round\" style=\"stroke:white;stroke-width:1\"/><line x1=\"499.918\" y1=\"194.104\" x2=\"499.918\" y2=\"191.635\" stroke-linecap=\"round\" style=\"stroke:white;stroke-width:1\"/><line x1=\"499.918\" y1=\"191.635\" x2=\"502.056\" y2=\"190.4\" stroke-linecap=\"round\" style=\"stroke:white;stroke-width:1\"/><line x1=\"502.056\" y1=\"190.4\" x2=\"504.194\" y2=\"191.635\" stroke-linecap=\"round\" style=\"stroke:white;stroke-width:1\"/><line x1=\"504.194\" y1=\"191.635\" x2=\"504.194\" y2=\"194.104\" stroke-linecap=\"round\" style=\"stroke:white;stroke-width:1\"/><line x1=\"504.194\" y1=\"194.104\" x2=\"506.332\" y2=\"192.869\" stroke-linecap=\"round\" style=\"stroke:white;stroke-width:1\"/><line x1=\"506.332\" y1=\"192.869\" x2=\"508.47\" y2=\"194.104\" stroke-linecap=\"round\" style=\"stroke:white;stroke-width:1\"/><line x1=\"508.47\" y1=\"194.104\" x2=\"508.47\" y2=\"191.635\" stroke-linecap=\"round\" style=\"stroke:white;stroke-width:1\"/><line x1=\"508.47\" y1=\"191.635\" x2=\"510.608\" y2=\"190.4\" stroke-linecap=\"round\" style=\"stroke:white;stroke-width:1\"/><line x1=\"510.608\" y1=\"190.4\" x2=\"508.47\" y2=\"189.165\" stroke-linecap=\"round\" style=\"stroke:white;stroke-width:1\"/><line x1=\"508.47\" y1=\"189.165\" x2=\"508.47\" y2=\"186.696\" stroke-linecap=\"round\" style=\"stroke:white;stroke-width:1\"/><line x1=\"508.47\" y1=\"186.696\" x2=\"510.608\" y2=\"185.461\" stroke-linecap=\"round\" style=\"stroke:white;stroke-width:1\"/><line x1=\"510.608\" y1=\"185.461\" x2=\"512.746\" y2=\"186.696\" stroke-linecap=\"round\" style=\"stroke:white;stroke-width:1\"/><line x1=\"512.746\" y1=\"186.696\" x2=\"512.746\" y2=\"184.227\" stroke-linecap=\"round\" style=\"stroke:white;stroke-width:1\"/><line x1=\"512.746\" y1=\"184.227\" x2=\"514.884\" y2=\"182.992\" stroke-linecap=\"round\" style=\"stroke:white;stroke-width:1\"/><line x1=\"514.884\" y1=\"182.992\" x2=\"512.746\" y2=\"181.757\" stroke-linecap=\"round\" style=\"stroke:white;stroke-width:1\"/><line x1=\"512.746\" y1=\"181.757\" x2=\"512.746\" y2=\"179.288\" stroke-linecap=\"round\" style=\"stroke:white;stroke-width:1\"/><line x1=\"512.746\" y1=\"179.288\" x2=\"510.608\" y2=\"180.523\" stroke-linecap=\"round\" style=\"stroke:white;stroke-width:1\"/><line x1=\"510.608\" y1=\"180.523\" x2=\"508.47\" y2=\"179.288\" stroke-linecap=\"round\" style=\"stroke:white;stroke-width:1\"/><line x1=\"508.47\" y1=\"179.288\" x2=\"508.47\" y2=\"176.819\" stroke-linecap=\"round\" style=\"stroke:white;stroke-width:1\"/><line x1=\"508.47\" y1=\"176.819\" x2=\"510.608\" y2=\"175.584\" stroke-linecap=\"round\" style=\"stroke:white;stroke-width:1\"/><line x1=\"510.608\" y1=\"175.584\" x2=\"508.47\" y2=\"174.349\" stroke-linecap=\"round\" style=\"stroke:white;stroke-width:1\"/><line x1=\"508.47\" y1=\"174.349\" x2=\"508.47\" y2=\"171.88\" stroke-linecap=\"round\" style=\"stroke:white;stroke-width:1\"/><line x1=\"508.47\" y1=\"171.88\" x2=\"506.332\" y2=\"173.115\" stroke-linecap=\"round\" style=\"stroke:white;stroke-width:1\"/><line x1=\"506.332\" y1=\"173.115\" x2=\"504.194\" y2=\"171.88\" stroke-linecap=\"round\" style=\"stroke:white;stroke-width:1\"/><line x1=\"504.194\" y1=\"171.88\" x2=\"504.194\" y2=\"174.349\" stroke-linecap=\"round\" style=\"stroke:white;stroke-width:1\"/><line x1=\"504.194\" y1=\"174.349\" x2=\"502.056\" y2=\"175.584\" stroke-linecap=\"round\" style=\"stroke:white;stroke-width:1\"/><line x1=\"502.056\" y1=\"175.584\" x2=\"499.918\" y2=\"174.349\" stroke-linecap=\"round\" style=\"stroke:white;stroke-width:1\"/><line x1=\"499.918\" y1=\"174.349\" x2=\"499.918\" y2=\"171.88\" stroke-linecap=\"round\" style=\"stroke:white;stroke-width:1\"/><line x1=\"499.918\" y1=\"171.88\" x2=\"497.78\" y2=\"173.115\" stroke-linecap=\"round\" style=\"stroke:white;stroke-width:1\"/><line x1=\"497.78\" y1=\"173.115\" x2=\"495.642\" y2=\"171.88\" stroke-linecap=\"round\" style=\"stroke:white;stroke-width:1\"/><line x1=\"495.642\" y1=\"171.88\" x2=\"495.642\" y2=\"169.411\" stroke-linecap=\"round\" style=\"stroke:white;stroke-width:1\"/><line x1=\"495.642\" y1=\"169.411\" x2=\"497.78\" y2=\"168.176\" stroke-linecap=\"round\" style=\"stroke:white;stroke-width:1\"/><line x1=\"497.78\" y1=\"168.176\" x2=\"495.642\" y2=\"166.941\" stroke-linecap=\"round\" style=\"stroke:white;stroke-width:1\"/><line x1=\"495.642\" y1=\"166.941\" x2=\"495.642\" y2=\"164.472\" stroke-linecap=\"round\" style=\"stroke:white;stroke-width:1\"/><line x1=\"495.642\" y1=\"164.472\" x2=\"497.78\" y2=\"163.237\" stroke-linecap=\"round\" style=\"stroke:white;stroke-width:1\"/><line x1=\"497.78\" y1=\"163.237\" x2=\"499.918\" y2=\"164.472\" stroke-linecap=\"round\" style=\"stroke:white;stroke-width:1\"/><line x1=\"499.918\" y1=\"164.472\" x2=\"499.918\" y2=\"162.003\" stroke-linecap=\"round\" style=\"stroke:white;stroke-width:1\"/><line x1=\"499.918\" y1=\"162.003\" x2=\"502.056\" y2=\"160.768\" stroke-linecap=\"round\" style=\"stroke:white;stroke-width:1\"/><line x1=\"502.056\" y1=\"160.768\" x2=\"499.918\" y2=\"159.533\" stroke-linecap=\"round\" style=\"stroke:white;stroke-width:1\"/><line x1=\"499.918\" y1=\"159.533\" x2=\"499.918\" y2=\"157.064\" stroke-linecap=\"round\" style=\"stroke:white;stroke-width:1\"/><line x1=\"499.918\" y1=\"157.064\" x2=\"497.78\" y2=\"158.299\" stroke-linecap=\"round\" style=\"stroke:white;stroke-width:1\"/><line x1=\"497.78\" y1=\"158.299\" x2=\"495.642\" y2=\"157.064\" stroke-linecap=\"round\" style=\"stroke:white;stroke-width:1\"/><line x1=\"495.642\" y1=\"157.064\" x2=\"495.642\" y2=\"154.595\" stroke-linecap=\"round\" style=\"stroke:white;stroke-width:1\"/><line x1=\"495.642\" y1=\"154.595\" x2=\"497.78\" y2=\"153.36\" stroke-linecap=\"round\" style=\"stroke:white;stroke-width:1\"/><line x1=\"497.78\" y1=\"153.36\" x2=\"495.642\" y2=\"152.125\" stroke-linecap=\"round\" style=\"stroke:white;stroke-width:1\"/><line x1=\"495.642\" y1=\"152.125\" x2=\"495.642\" y2=\"149.656\" stroke-linecap=\"round\" style=\"stroke:white;stroke-width:1\"/><line x1=\"495.642\" y1=\"149.656\" x2=\"493.504\" y2=\"150.891\" stroke-linecap=\"round\" style=\"stroke:white;stroke-width:1\"/><line x1=\"493.504\" y1=\"150.891\" x2=\"491.366\" y2=\"149.656\" stroke-linecap=\"round\" style=\"stroke:white;stroke-width:1\"/><line x1=\"491.366\" y1=\"149.656\" x2=\"491.366\" y2=\"152.125\" stroke-linecap=\"round\" style=\"stroke:white;stroke-width:1\"/><line x1=\"491.366\" y1=\"152.125\" x2=\"489.228\" y2=\"153.36\" stroke-linecap=\"round\" style=\"stroke:white;stroke-width:1\"/><line x1=\"489.228\" y1=\"153.36\" x2=\"487.09\" y2=\"152.125\" stroke-linecap=\"round\" style=\"stroke:white;stroke-width:1\"/><line x1=\"487.09\" y1=\"152.125\" x2=\"487.09\" y2=\"149.656\" stroke-linecap=\"round\" style=\"stroke:white;stroke-width:1\"/><line x1=\"487.09\" y1=\"149.656\" x2=\"484.952\" y2=\"150.891\" stroke-linecap=\"round\" style=\"stroke:white;stroke-width:1\"/><line x1=\"484.952\" y1=\"150.891\" x2=\"482.814\" y2=\"149.656\" stroke-linecap=\"round\" style=\"stroke:white;stroke-width:1\"/><line x1=\"482.814\" y1=\"149.656\" x2=\"482.814\" y2=\"152.125\" stroke-linecap=\"round\" style=\"stroke:white;stroke-width:1\"/><line x1=\"482.814\" y1=\"152.125\" x2=\"480.676\" y2=\"153.36\" stroke-linecap=\"round\" style=\"stroke:white;stroke-width:1\"/><line x1=\"480.676\" y1=\"153.36\" x2=\"482.814\" y2=\"154.595\" stroke-linecap=\"round\" style=\"stroke:white;stroke-width:1\"/><line x1=\"482.814\" y1=\"154.595\" x2=\"482.814\" y2=\"157.064\" stroke-linecap=\"round\" style=\"stroke:white;stroke-width:1\"/><line x1=\"482.814\" y1=\"157.064\" x2=\"480.676\" y2=\"158.299\" stroke-linecap=\"round\" style=\"stroke:white;stroke-width:1\"/><line x1=\"480.676\" y1=\"158.299\" x2=\"478.538\" y2=\"157.064\" stroke-linecap=\"round\" style=\"stroke:white;stroke-width:1\"/><line x1=\"478.538\" y1=\"157.064\" x2=\"478.538\" y2=\"159.533\" stroke-linecap=\"round\" style=\"stroke:white;stroke-width:1\"/><line x1=\"478.538\" y1=\"159.533\" x2=\"476.4\" y2=\"160.768\" stroke-linecap=\"round\" style=\"stroke:white;stroke-width:1\"/><line x1=\"476.4\" y1=\"160.768\" x2=\"474.262\" y2=\"159.533\" stroke-linecap=\"round\" style=\"stroke:white;stroke-width:1\"/><line x1=\"474.262\" y1=\"159.533\" x2=\"474.262\" y2=\"157.064\" stroke-linecap=\"round\" style=\"stroke:white;stroke-width:1\"/><line x1=\"474.262\" y1=\"157.064\" x2=\"472.124\" y2=\"158.299\" stroke-linecap=\"round\" style=\"stroke:white;stroke-width:1\"/><line x1=\"472.124\" y1=\"158.299\" x2=\"469.986\" y2=\"157.064\" stroke-linecap=\"round\" style=\"stroke:white;stroke-width:1\"/><line x1=\"469.986\" y1=\"157.064\" x2=\"469.986\" y2=\"154.595\" stroke-linecap=\"round\" style=\"stroke:white;stroke-width:1\"/><line x1=\"469.986\" y1=\"154.595\" x2=\"472.124\" y2=\"153.36\" stroke-linecap=\"round\" style=\"stroke:white;stroke-width:1\"/><line x1=\"472.124\" y1=\"153.36\" x2=\"469.986\" y2=\"152.125\" stroke-linecap=\"round\" style=\"stroke:white;stroke-width:1\"/><line x1=\"469.986\" y1=\"152.125\" x2=\"469.986\" y2=\"149.656\" stroke-linecap=\"round\" style=\"stroke:white;stroke-width:1\"/><line x1=\"469.986\" y1=\"149.656\" x2=\"467.848\" y2=\"150.891\" stroke-linecap=\"round\" style=\"stroke:white;stroke-width:1\"/><line x1=\"467.848\" y1=\"150.891\" x2=\"465.71\" y2=\"149.656\" stroke-linecap=\"round\" style=\"stroke:white;stroke-width:1\"/><line x1=\"465.71\" y1=\"149.656\" x2=\"465.71\" y2=\"152.125\" stroke-linecap=\"round\" style=\"stroke:white;stroke-width:1\"/><line x1=\"465.71\" y1=\"152.125\" x2=\"463.572\" y2=\"153.36\" stroke-linecap=\"round\" style=\"stroke:white;stroke-width:1\"/><line x1=\"463.572\" y1=\"153.36\" x2=\"461.434\" y2=\"152.125\" stroke-linecap=\"round\" style=\"stroke:white;stroke-width:1\"/><line x1=\"461.434\" y1=\"152.125\" x2=\"461.434\" y2=\"149.656\" stroke-linecap=\"round\" style=\"stroke:white;stroke-width:1\"/><line x1=\"461.434\" y1=\"149.656\" x2=\"459.296\" y2=\"150.891\" stroke-linecap=\"round\" style=\"stroke:white;stroke-width:1\"/><line x1=\"459.296\" y1=\"150.891\" x2=\"457.158\" y2=\"149.656\" stroke-linecap=\"round\" style=\"stroke:white;stroke-width:1\"/><line x1=\"457.158\" y1=\"149.656\" x2=\"457.158\" y2=\"147.187\" stroke-linecap=\"round\" style=\"stroke:white;stroke-width:1\"/><line x1=\"457.158\" y1=\"147.187\" x2=\"459.296\" y2=\"145.952\" stroke-linecap=\"round\" style=\"stroke:white;stroke-width:1\"/><line x1=\"459.296\" y1=\"145.952\" x2=\"457.158\" y2=\"144.717\" stroke-linecap=\"round\" style=\"stroke:white;stroke-width:1\"/><line x1=\"457.158\" y1=\"144.717\" x2=\"457.158\" y2=\"142.248\" stroke-linecap=\"round\" style=\"stroke:white;stroke-width:1\"/><line x1=\"457.158\" y1=\"142.248\" x2=\"459.296\" y2=\"141.013\" stroke-linecap=\"round\" style=\"stroke:white;stroke-width:1\"/><line x1=\"459.296\" y1=\"141.013\" x2=\"461.434\" y2=\"142.248\" stroke-linecap=\"round\" style=\"stroke:white;stroke-width:1\"/><line x1=\"461.434\" y1=\"142.248\" x2=\"461.434\" y2=\"139.779\" stroke-linecap=\"round\" style=\"stroke:white;stroke-width:1\"/><line x1=\"461.434\" y1=\"139.779\" x2=\"463.572\" y2=\"138.544\" stroke-linecap=\"round\" style=\"stroke:white;stroke-width:1\"/><line x1=\"463.572\" y1=\"138.544\" x2=\"461.434\" y2=\"137.309\" stroke-linecap=\"round\" style=\"stroke:white;stroke-width:1\"/><line x1=\"461.434\" y1=\"137.309\" x2=\"461.434\" y2=\"134.84\" stroke-linecap=\"round\" style=\"stroke:white;stroke-width:1\"/><line x1=\"461.434\" y1=\"134.84\" x2=\"459.296\" y2=\"136.075\" stroke-linecap=\"round\" style=\"stroke:white;stroke-width:1\"/><line x1=\"459.296\" y1=\"136.075\" x2=\"457.158\" y2=\"134.84\" stroke-linecap=\"round\" style=\"stroke:white;stroke-width:1\"/><line x1=\"457.158\" y1=\"134.84\" x2=\"457.158\" y2=\"132.371\" stroke-linecap=\"round\" style=\"stroke:white;stroke-width:1\"/><line x1=\"457.158\" y1=\"132.371\" x2=\"459.296\" y2=\"131.136\" stroke-linecap=\"round\" style=\"stroke:white;stroke-width:1\"/><line x1=\"459.296\" y1=\"131.136\" x2=\"457.158\" y2=\"129.901\" stroke-linecap=\"round\" style=\"stroke:white;stroke-width:1\"/><line x1=\"457.158\" y1=\"129.901\" x2=\"457.158\" y2=\"127.432\" stroke-linecap=\"round\" style=\"stroke:white;stroke-width:1\"/><line x1=\"457.158\" y1=\"127.432\" x2=\"459.296\" y2=\"126.197\" stroke-linecap=\"round\" style=\"stroke:white;stroke-width:1\"/><line x1=\"459.296\" y1=\"126.197\" x2=\"461.434\" y2=\"127.432\" stroke-linecap=\"round\" style=\"stroke:white;stroke-width:1\"/><line x1=\"461.434\" y1=\"127.432\" x2=\"461.434\" y2=\"124.963\" stroke-linecap=\"round\" style=\"stroke:white;stroke-width:1\"/><line x1=\"461.434\" y1=\"124.963\" x2=\"463.572\" y2=\"123.728\" stroke-linecap=\"round\" style=\"stroke:white;stroke-width:1\"/><line x1=\"463.572\" y1=\"123.728\" x2=\"465.71\" y2=\"124.963\" stroke-linecap=\"round\" style=\"stroke:white;stroke-width:1\"/><line x1=\"465.71\" y1=\"124.963\" x2=\"465.71\" y2=\"127.432\" stroke-linecap=\"round\" style=\"stroke:white;stroke-width:1\"/><line x1=\"465.71\" y1=\"127.432\" x2=\"467.848\" y2=\"126.197\" stroke-linecap=\"round\" style=\"stroke:white;stroke-width:1\"/><line x1=\"467.848\" y1=\"126.197\" x2=\"469.986\" y2=\"127.432\" stroke-linecap=\"round\" style=\"stroke:white;stroke-width:1\"/><line x1=\"469.986\" y1=\"127.432\" x2=\"469.986\" y2=\"124.963\" stroke-linecap=\"round\" style=\"stroke:white;stroke-width:1\"/><line x1=\"469.986\" y1=\"124.963\" x2=\"472.124\" y2=\"123.728\" stroke-linecap=\"round\" style=\"stroke:white;stroke-width:1\"/><line x1=\"472.124\" y1=\"123.728\" x2=\"469.986\" y2=\"122.493\" stroke-linecap=\"round\" style=\"stroke:white;stroke-width:1\"/><line x1=\"469.986\" y1=\"122.493\" x2=\"469.986\" y2=\"120.024\" stroke-linecap=\"round\" style=\"stroke:white;stroke-width:1\"/><line x1=\"469.986\" y1=\"120.024\" x2=\"472.124\" y2=\"118.789\" stroke-linecap=\"round\" style=\"stroke:white;stroke-width:1\"/><line x1=\"472.124\" y1=\"118.789\" x2=\"474.262\" y2=\"120.024\" stroke-linecap=\"round\" style=\"stroke:white;stroke-width:1\"/><line x1=\"474.262\" y1=\"120.024\" x2=\"474.262\" y2=\"117.555\" stroke-linecap=\"round\" style=\"stroke:white;stroke-width:1\"/><line x1=\"474.262\" y1=\"117.555\" x2=\"476.4\" y2=\"116.32\" stroke-linecap=\"round\" style=\"stroke:white;stroke-width:1\"/><line x1=\"476.4\" y1=\"116.32\" x2=\"474.262\" y2=\"115.085\" stroke-linecap=\"round\" style=\"stroke:white;stroke-width:1\"/><line x1=\"474.262\" y1=\"115.085\" x2=\"474.262\" y2=\"112.616\" stroke-linecap=\"round\" style=\"stroke:white;stroke-width:1\"/><line x1=\"474.262\" y1=\"112.616\" x2=\"472.124\" y2=\"113.851\" stroke-linecap=\"round\" style=\"stroke:white;stroke-width:1\"/><line x1=\"472.124\" y1=\"113.851\" x2=\"469.986\" y2=\"112.616\" stroke-linecap=\"round\" style=\"stroke:white;stroke-width:1\"/><line x1=\"469.986\" y1=\"112.616\" x2=\"469.986\" y2=\"110.147\" stroke-linecap=\"round\" style=\"stroke:white;stroke-width:1\"/><line x1=\"469.986\" y1=\"110.147\" x2=\"472.124\" y2=\"108.912\" stroke-linecap=\"round\" style=\"stroke:white;stroke-width:1\"/><line x1=\"472.124\" y1=\"108.912\" x2=\"469.986\" y2=\"107.677\" stroke-linecap=\"round\" style=\"stroke:white;stroke-width:1\"/><line x1=\"469.986\" y1=\"107.677\" x2=\"469.986\" y2=\"105.208\" stroke-linecap=\"round\" style=\"stroke:white;stroke-width:1\"/><line x1=\"469.986\" y1=\"105.208\" x2=\"467.848\" y2=\"106.443\" stroke-linecap=\"round\" style=\"stroke:white;stroke-width:1\"/><line x1=\"467.848\" y1=\"106.443\" x2=\"465.71\" y2=\"105.208\" stroke-linecap=\"round\" style=\"stroke:white;stroke-width:1\"/><line x1=\"465.71\" y1=\"105.208\" x2=\"465.71\" y2=\"107.677\" stroke-linecap=\"round\" style=\"stroke:white;stroke-width:1\"/><line x1=\"465.71\" y1=\"107.677\" x2=\"463.572\" y2=\"108.912\" stroke-linecap=\"round\" style=\"stroke:white;stroke-width:1\"/><line x1=\"463.572\" y1=\"108.912\" x2=\"461.434\" y2=\"107.677\" stroke-linecap=\"round\" style=\"stroke:white;stroke-width:1\"/><line x1=\"461.434\" y1=\"107.677\" x2=\"461.434\" y2=\"105.208\" stroke-linecap=\"round\" style=\"stroke:white;stroke-width:1\"/><line x1=\"461.434\" y1=\"105.208\" x2=\"459.296\" y2=\"106.443\" stroke-linecap=\"round\" style=\"stroke:white;stroke-width:1\"/><line x1=\"459.296\" y1=\"106.443\" x2=\"457.158\" y2=\"105.208\" stroke-linecap=\"round\" style=\"stroke:white;stroke-width:1\"/><line x1=\"457.158\" y1=\"105.208\" x2=\"457.158\" y2=\"102.739\" stroke-linecap=\"round\" style=\"stroke:white;stroke-width:1\"/><line x1=\"457.158\" y1=\"102.739\" x2=\"459.296\" y2=\"101.504\" stroke-linecap=\"round\" style=\"stroke:white;stroke-width:1\"/><line x1=\"459.296\" y1=\"101.504\" x2=\"457.158\" y2=\"100.269\" stroke-linecap=\"round\" style=\"stroke:white;stroke-width:1\"/><line x1=\"457.158\" y1=\"100.269\" x2=\"457.158\" y2=\"97.8\" stroke-linecap=\"round\" style=\"stroke:white;stroke-width:1\"/><line x1=\"457.158\" y1=\"97.8\" x2=\"459.296\" y2=\"96.565\" stroke-linecap=\"round\" style=\"stroke:white;stroke-width:1\"/><line x1=\"459.296\" y1=\"96.565\" x2=\"461.434\" y2=\"97.8\" stroke-linecap=\"round\" style=\"stroke:white;stroke-width:1\"/><line x1=\"461.434\" y1=\"97.8\" x2=\"461.434\" y2=\"95.331\" stroke-linecap=\"round\" style=\"stroke:white;stroke-width:1\"/><line x1=\"461.434\" y1=\"95.331\" x2=\"463.572\" y2=\"94.096\" stroke-linecap=\"round\" style=\"stroke:white;stroke-width:1\"/><line x1=\"463.572\" y1=\"94.096\" x2=\"461.434\" y2=\"92.861\" stroke-linecap=\"round\" style=\"stroke:white;stroke-width:1\"/><line x1=\"461.434\" y1=\"92.861\" x2=\"461.434\" y2=\"90.392\" stroke-linecap=\"round\" style=\"stroke:white;stroke-width:1\"/><line x1=\"461.434\" y1=\"90.392\" x2=\"459.296\" y2=\"91.627\" stroke-linecap=\"round\" style=\"stroke:white;stroke-width:1\"/><line x1=\"459.296\" y1=\"91.627\" x2=\"457.158\" y2=\"90.392\" stroke-linecap=\"round\" style=\"stroke:white;stroke-width:1\"/><line x1=\"457.158\" y1=\"90.392\" x2=\"457.158\" y2=\"87.923\" stroke-linecap=\"round\" style=\"stroke:white;stroke-width:1\"/><line x1=\"457.158\" y1=\"87.923\" x2=\"459.296\" y2=\"86.688\" stroke-linecap=\"round\" style=\"stroke:white;stroke-width:1\"/><line x1=\"459.296\" y1=\"86.688\" x2=\"457.158\" y2=\"85.453\" stroke-linecap=\"round\" style=\"stroke:white;stroke-width:1\"/><line x1=\"457.158\" y1=\"85.453\" x2=\"457.158\" y2=\"82.984\" stroke-linecap=\"round\" style=\"stroke:white;stroke-width:1\"/><line x1=\"457.158\" y1=\"82.984\" x2=\"455.02\" y2=\"84.219\" stroke-linecap=\"round\" style=\"stroke:white;stroke-width:1\"/><line x1=\"455.02\" y1=\"84.219\" x2=\"452.882\" y2=\"82.984\" stroke-linecap=\"round\" style=\"stroke:white;stroke-width:1\"/><line x1=\"452.882\" y1=\"82.984\" x2=\"452.882\" y2=\"85.453\" stroke-linecap=\"round\" style=\"stroke:white;stroke-width:1\"/><line x1=\"452.882\" y1=\"85.453\" x2=\"450.744\" y2=\"86.688\" stroke-linecap=\"round\" style=\"stroke:white;stroke-width:1\"/><line x1=\"450.744\" y1=\"86.688\" x2=\"448.606\" y2=\"85.453\" stroke-linecap=\"round\" style=\"stroke:white;stroke-width:1\"/><line x1=\"448.606\" y1=\"85.453\" x2=\"448.606\" y2=\"82.984\" stroke-linecap=\"round\" style=\"stroke:white;stroke-width:1\"/><line x1=\"448.606\" y1=\"82.984\" x2=\"446.468\" y2=\"84.219\" stroke-linecap=\"round\" style=\"stroke:white;stroke-width:1\"/><line x1=\"446.468\" y1=\"84.219\" x2=\"444.33\" y2=\"82.984\" stroke-linecap=\"round\" style=\"stroke:white;stroke-width:1\"/><line x1=\"444.33\" y1=\"82.984\" x2=\"444.33\" y2=\"85.453\" stroke-linecap=\"round\" style=\"stroke:white;stroke-width:1\"/><line x1=\"444.33\" y1=\"85.453\" x2=\"442.192\" y2=\"86.688\" stroke-linecap=\"round\" style=\"stroke:white;stroke-width:1\"/><line x1=\"442.192\" y1=\"86.688\" x2=\"444.33\" y2=\"87.923\" stroke-linecap=\"round\" style=\"stroke:white;stroke-width:1\"/><line x1=\"444.33\" y1=\"87.923\" x2=\"444.33\" y2=\"90.392\" stroke-linecap=\"round\" style=\"stroke:white;stroke-width:1\"/><line x1=\"444.33\" y1=\"90.392\" x2=\"442.192\" y2=\"91.627\" stroke-linecap=\"round\" style=\"stroke:white;stroke-width:1\"/><line x1=\"442.192\" y1=\"91.627\" x2=\"440.054\" y2=\"90.392\" stroke-linecap=\"round\" style=\"stroke:white;stroke-width:1\"/><line x1=\"440.054\" y1=\"90.392\" x2=\"440.054\" y2=\"92.861\" stroke-linecap=\"round\" style=\"stroke:white;stroke-width:1\"/><line x1=\"440.054\" y1=\"92.861\" x2=\"437.916\" y2=\"94.096\" stroke-linecap=\"round\" style=\"stroke:white;stroke-width:1\"/><line x1=\"437.916\" y1=\"94.096\" x2=\"435.778\" y2=\"92.861\" stroke-linecap=\"round\" style=\"stroke:white;stroke-width:1\"/><line x1=\"435.778\" y1=\"92.861\" x2=\"435.778\" y2=\"90.392\" stroke-linecap=\"round\" style=\"stroke:white;stroke-width:1\"/><line x1=\"435.778\" y1=\"90.392\" x2=\"433.64\" y2=\"91.627\" stroke-linecap=\"round\" style=\"stroke:white;stroke-width:1\"/><line x1=\"433.64\" y1=\"91.627\" x2=\"431.502\" y2=\"90.392\" stroke-linecap=\"round\" style=\"stroke:white;stroke-width:1\"/><line x1=\"431.502\" y1=\"90.392\" x2=\"431.502\" y2=\"87.923\" stroke-linecap=\"round\" style=\"stroke:white;stroke-width:1\"/><line x1=\"431.502\" y1=\"87.923\" x2=\"433.64\" y2=\"86.688\" stroke-linecap=\"round\" style=\"stroke:white;stroke-width:1\"/><line x1=\"433.64\" y1=\"86.688\" x2=\"431.502\" y2=\"85.453\" stroke-linecap=\"round\" style=\"stroke:white;stroke-width:1\"/><line x1=\"431.502\" y1=\"85.453\" x2=\"431.502\" y2=\"82.984\" stroke-linecap=\"round\" style=\"stroke:white;stroke-width:1\"/><line x1=\"431.502\" y1=\"82.984\" x2=\"429.364\" y2=\"84.219\" stroke-linecap=\"round\" style=\"stroke:white;stroke-width:1\"/><line x1=\"429.364\" y1=\"84.219\" x2=\"427.226\" y2=\"82.984\" stroke-linecap=\"round\" style=\"stroke:white;stroke-width:1\"/><line x1=\"427.226\" y1=\"82.984\" x2=\"427.226\" y2=\"85.453\" stroke-linecap=\"round\" style=\"stroke:white;stroke-width:1\"/><line x1=\"427.226\" y1=\"85.453\" x2=\"425.088\" y2=\"86.688\" stroke-linecap=\"round\" style=\"stroke:white;stroke-width:1\"/><line x1=\"425.088\" y1=\"86.688\" x2=\"422.95\" y2=\"85.453\" stroke-linecap=\"round\" style=\"stroke:white;stroke-width:1\"/><line x1=\"422.95\" y1=\"85.453\" x2=\"422.95\" y2=\"82.984\" stroke-linecap=\"round\" style=\"stroke:white;stroke-width:1\"/><line x1=\"422.95\" y1=\"82.984\" x2=\"420.812\" y2=\"84.219\" stroke-linecap=\"round\" style=\"stroke:white;stroke-width:1\"/><line x1=\"420.812\" y1=\"84.219\" x2=\"418.674\" y2=\"82.984\" stroke-linecap=\"round\" style=\"stroke:white;stroke-width:1\"/><line x1=\"418.674\" y1=\"82.984\" x2=\"418.674\" y2=\"85.453\" stroke-linecap=\"round\" style=\"stroke:white;stroke-width:1\"/><line x1=\"418.674\" y1=\"85.453\" x2=\"416.536\" y2=\"86.688\" stroke-linecap=\"round\" style=\"stroke:white;stroke-width:1\"/><line x1=\"416.536\" y1=\"86.688\" x2=\"418.674\" y2=\"87.923\" stroke-linecap=\"round\" style=\"stroke:white;stroke-width:1\"/><line x1=\"418.674\" y1=\"87.923\" x2=\"418.674\" y2=\"90.392\" stroke-linecap=\"round\" style=\"stroke:white;stroke-width:1\"/><line x1=\"418.674\" y1=\"90.392\" x2=\"416.536\" y2=\"91.627\" stroke-linecap=\"round\" style=\"stroke:white;stroke-width:1\"/><line x1=\"416.536\" y1=\"91.627\" x2=\"414.398\" y2=\"90.392\" stroke-linecap=\"round\" style=\"stroke:white;stroke-width:1\"/><line x1=\"414.398\" y1=\"90.392\" x2=\"414.398\" y2=\"92.861\" stroke-linecap=\"round\" style=\"stroke:white;stroke-width:1\"/><line x1=\"414.398\" y1=\"92.861\" x2=\"412.26\" y2=\"94.096\" stroke-linecap=\"round\" style=\"stroke:white;stroke-width:1\"/><line x1=\"412.26\" y1=\"94.096\" x2=\"414.398\" y2=\"95.331\" stroke-linecap=\"round\" style=\"stroke:white;stroke-width:1\"/><line x1=\"414.398\" y1=\"95.331\" x2=\"414.398\" y2=\"97.8\" stroke-linecap=\"round\" style=\"stroke:white;stroke-width:1\"/><line x1=\"414.398\" y1=\"97.8\" x2=\"416.536\" y2=\"96.565\" stroke-linecap=\"round\" style=\"stroke:white;stroke-width:1\"/><line x1=\"416.536\" y1=\"96.565\" x2=\"418.674\" y2=\"97.8\" stroke-linecap=\"round\" style=\"stroke:white;stroke-width:1\"/><line x1=\"418.674\" y1=\"97.8\" x2=\"418.674\" y2=\"100.269\" stroke-linecap=\"round\" style=\"stroke:white;stroke-width:1\"/><line x1=\"418.674\" y1=\"100.269\" x2=\"416.536\" y2=\"101.504\" stroke-linecap=\"round\" style=\"stroke:white;stroke-width:1\"/><line x1=\"416.536\" y1=\"101.504\" x2=\"418.674\" y2=\"102.739\" stroke-linecap=\"round\" style=\"stroke:white;stroke-width:1\"/><line x1=\"418.674\" y1=\"102.739\" x2=\"418.674\" y2=\"105.208\" stroke-linecap=\"round\" style=\"stroke:white;stroke-width:1\"/><line x1=\"418.674\" y1=\"105.208\" x2=\"416.536\" y2=\"106.443\" stroke-linecap=\"round\" style=\"stroke:white;stroke-width:1\"/><line x1=\"416.536\" y1=\"106.443\" x2=\"414.398\" y2=\"105.208\" stroke-linecap=\"round\" style=\"stroke:white;stroke-width:1\"/><line x1=\"414.398\" y1=\"105.208\" x2=\"414.398\" y2=\"107.677\" stroke-linecap=\"round\" style=\"stroke:white;stroke-width:1\"/><line x1=\"414.398\" y1=\"107.677\" x2=\"412.26\" y2=\"108.912\" stroke-linecap=\"round\" style=\"stroke:white;stroke-width:1\"/><line x1=\"412.26\" y1=\"108.912\" x2=\"410.122\" y2=\"107.677\" stroke-linecap=\"round\" style=\"stroke:white;stroke-width:1\"/><line x1=\"410.122\" y1=\"107.677\" x2=\"410.122\" y2=\"105.208\" stroke-linecap=\"round\" style=\"stroke:white;stroke-width:1\"/><line x1=\"410.122\" y1=\"105.208\" x2=\"407.984\" y2=\"106.443\" stroke-linecap=\"round\" style=\"stroke:white;stroke-width:1\"/><line x1=\"407.984\" y1=\"106.443\" x2=\"405.846\" y2=\"105.208\" stroke-linecap=\"round\" style=\"stroke:white;stroke-width:1\"/><line x1=\"405.846\" y1=\"105.208\" x2=\"405.846\" y2=\"107.677\" stroke-linecap=\"round\" style=\"stroke:white;stroke-width:1\"/><line x1=\"405.846\" y1=\"107.677\" x2=\"403.708\" y2=\"108.912\" stroke-linecap=\"round\" style=\"stroke:white;stroke-width:1\"/><line x1=\"403.708\" y1=\"108.912\" x2=\"405.846\" y2=\"110.147\" stroke-linecap=\"round\" style=\"stroke:white;stroke-width:1\"/><line x1=\"405.846\" y1=\"110.147\" x2=\"405.846\" y2=\"112.616\" stroke-linecap=\"round\" style=\"stroke:white;stroke-width:1\"/><line x1=\"405.846\" y1=\"112.616\" x2=\"403.708\" y2=\"113.851\" stroke-linecap=\"round\" style=\"stroke:white;stroke-width:1\"/><line x1=\"403.708\" y1=\"113.851\" x2=\"401.57\" y2=\"112.616\" stroke-linecap=\"round\" style=\"stroke:white;stroke-width:1\"/><line x1=\"401.57\" y1=\"112.616\" x2=\"401.57\" y2=\"115.085\" stroke-linecap=\"round\" style=\"stroke:white;stroke-width:1\"/><line x1=\"401.57\" y1=\"115.085\" x2=\"399.432\" y2=\"116.32\" stroke-linecap=\"round\" style=\"stroke:white;stroke-width:1\"/><line x1=\"399.432\" y1=\"116.32\" x2=\"397.294\" y2=\"115.085\" stroke-linecap=\"round\" style=\"stroke:white;stroke-width:1\"/><line x1=\"397.294\" y1=\"115.085\" x2=\"397.294\" y2=\"112.616\" stroke-linecap=\"round\" style=\"stroke:white;stroke-width:1\"/><line x1=\"397.294\" y1=\"112.616\" x2=\"395.156\" y2=\"113.851\" stroke-linecap=\"round\" style=\"stroke:white;stroke-width:1\"/><line x1=\"395.156\" y1=\"113.851\" x2=\"393.018\" y2=\"112.616\" stroke-linecap=\"round\" style=\"stroke:white;stroke-width:1\"/><line x1=\"393.018\" y1=\"112.616\" x2=\"393.018\" y2=\"110.147\" stroke-linecap=\"round\" style=\"stroke:white;stroke-width:1\"/><line x1=\"393.018\" y1=\"110.147\" x2=\"395.156\" y2=\"108.912\" stroke-linecap=\"round\" style=\"stroke:white;stroke-width:1\"/><line x1=\"395.156\" y1=\"108.912\" x2=\"393.018\" y2=\"107.677\" stroke-linecap=\"round\" style=\"stroke:white;stroke-width:1\"/><line x1=\"393.018\" y1=\"107.677\" x2=\"393.018\" y2=\"105.208\" stroke-linecap=\"round\" style=\"stroke:white;stroke-width:1\"/><line x1=\"393.018\" y1=\"105.208\" x2=\"390.88\" y2=\"106.443\" stroke-linecap=\"round\" style=\"stroke:white;stroke-width:1\"/><line x1=\"390.88\" y1=\"106.443\" x2=\"388.742\" y2=\"105.208\" stroke-linecap=\"round\" style=\"stroke:white;stroke-width:1\"/><line x1=\"388.742\" y1=\"105.208\" x2=\"388.742\" y2=\"107.677\" stroke-linecap=\"round\" style=\"stroke:white;stroke-width:1\"/><line x1=\"388.742\" y1=\"107.677\" x2=\"386.604\" y2=\"108.912\" stroke-linecap=\"round\" style=\"stroke:white;stroke-width:1\"/><line x1=\"386.604\" y1=\"108.912\" x2=\"384.466\" y2=\"107.677\" stroke-linecap=\"round\" style=\"stroke:white;stroke-width:1\"/><line x1=\"384.466\" y1=\"107.677\" x2=\"384.466\" y2=\"105.208\" stroke-linecap=\"round\" style=\"stroke:white;stroke-width:1\"/><line x1=\"384.466\" y1=\"105.208\" x2=\"382.328\" y2=\"106.443\" stroke-linecap=\"round\" style=\"stroke:white;stroke-width:1\"/><line x1=\"382.328\" y1=\"106.443\" x2=\"380.19\" y2=\"105.208\" stroke-linecap=\"round\" style=\"stroke:white;stroke-width:1\"/><line x1=\"380.19\" y1=\"105.208\" x2=\"380.19\" y2=\"102.739\" stroke-linecap=\"round\" style=\"stroke:white;stroke-width:1\"/><line x1=\"380.19\" y1=\"102.739\" x2=\"382.328\" y2=\"101.504\" stroke-linecap=\"round\" style=\"stroke:white;stroke-width:1\"/><line x1=\"382.328\" y1=\"101.504\" x2=\"380.19\" y2=\"100.269\" stroke-linecap=\"round\" style=\"stroke:white;stroke-width:1\"/><line x1=\"380.19\" y1=\"100.269\" x2=\"380.19\" y2=\"97.8\" stroke-linecap=\"round\" style=\"stroke:white;stroke-width:1\"/><line x1=\"380.19\" y1=\"97.8\" x2=\"382.328\" y2=\"96.565\" stroke-linecap=\"round\" style=\"stroke:white;stroke-width:1\"/><line x1=\"382.328\" y1=\"96.565\" x2=\"384.466\" y2=\"97.8\" stroke-linecap=\"round\" style=\"stroke:white;stroke-width:1\"/><line x1=\"384.466\" y1=\"97.8\" x2=\"384.466\" y2=\"95.331\" stroke-linecap=\"round\" style=\"stroke:white;stroke-width:1\"/><line x1=\"384.466\" y1=\"95.331\" x2=\"386.604\" y2=\"94.096\" stroke-linecap=\"round\" style=\"stroke:white;stroke-width:1\"/><line x1=\"386.604\" y1=\"94.096\" x2=\"384.466\" y2=\"92.861\" stroke-linecap=\"round\" style=\"stroke:white;stroke-width:1\"/><line x1=\"384.466\" y1=\"92.861\" x2=\"384.466\" y2=\"90.392\" stroke-linecap=\"round\" style=\"stroke:white;stroke-width:1\"/><line x1=\"384.466\" y1=\"90.392\" x2=\"382.328\" y2=\"91.627\" stroke-linecap=\"round\" style=\"stroke:white;stroke-width:1\"/><line x1=\"382.328\" y1=\"91.627\" x2=\"380.19\" y2=\"90.392\" stroke-linecap=\"round\" style=\"stroke:white;stroke-width:1\"/><line x1=\"380.19\" y1=\"90.392\" x2=\"380.19\" y2=\"87.923\" stroke-linecap=\"round\" style=\"stroke:white;stroke-width:1\"/><line x1=\"380.19\" y1=\"87.923\" x2=\"382.328\" y2=\"86.688\" stroke-linecap=\"round\" style=\"stroke:white;stroke-width:1\"/><line x1=\"382.328\" y1=\"86.688\" x2=\"380.19\" y2=\"85.453\" stroke-linecap=\"round\" style=\"stroke:white;stroke-width:1\"/><line x1=\"380.19\" y1=\"85.453\" x2=\"380.19\" y2=\"82.984\" stroke-linecap=\"round\" style=\"stroke:white;stroke-width:1\"/><line x1=\"380.19\" y1=\"82.984\" x2=\"378.052\" y2=\"84.219\" stroke-linecap=\"round\" style=\"stroke:white;stroke-width:1\"/><line x1=\"378.052\" y1=\"84.219\" x2=\"375.914\" y2=\"82.984\" stroke-linecap=\"round\" style=\"stroke:white;stroke-width:1\"/><line x1=\"375.914\" y1=\"82.984\" x2=\"375.914\" y2=\"85.453\" stroke-linecap=\"round\" style=\"stroke:white;stroke-width:1\"/><line x1=\"375.914\" y1=\"85.453\" x2=\"373.776\" y2=\"86.688\" stroke-linecap=\"round\" style=\"stroke:white;stroke-width:1\"/><line x1=\"373.776\" y1=\"86.688\" x2=\"371.638\" y2=\"85.453\" stroke-linecap=\"round\" style=\"stroke:white;stroke-width:1\"/><line x1=\"371.638\" y1=\"85.453\" x2=\"371.638\" y2=\"82.984\" stroke-linecap=\"round\" style=\"stroke:white;stroke-width:1\"/><line x1=\"371.638\" y1=\"82.984\" x2=\"369.5\" y2=\"84.219\" stroke-linecap=\"round\" style=\"stroke:white;stroke-width:1\"/><line x1=\"369.5\" y1=\"84.219\" x2=\"367.362\" y2=\"82.984\" stroke-linecap=\"round\" style=\"stroke:white;stroke-width:1\"/><line x1=\"367.362\" y1=\"82.984\" x2=\"367.362\" y2=\"85.453\" stroke-linecap=\"round\" style=\"stroke:white;stroke-width:1\"/><line x1=\"367.362\" y1=\"85.453\" x2=\"365.224\" y2=\"86.688\" stroke-linecap=\"round\" style=\"stroke:white;stroke-width:1\"/><line x1=\"365.224\" y1=\"86.688\" x2=\"367.362\" y2=\"87.923\" stroke-linecap=\"round\" style=\"stroke:white;stroke-width:1\"/><line x1=\"367.362\" y1=\"87.923\" x2=\"367.362\" y2=\"90.392\" stroke-linecap=\"round\" style=\"stroke:white;stroke-width:1\"/><line x1=\"367.362\" y1=\"90.392\" x2=\"365.224\" y2=\"91.627\" stroke-linecap=\"round\" style=\"stroke:white;stroke-width:1\"/><line x1=\"365.224\" y1=\"91.627\" x2=\"363.086\" y2=\"90.392\" stroke-linecap=\"round\" style=\"stroke:white;stroke-width:1\"/><line x1=\"363.086\" y1=\"90.392\" x2=\"363.086\" y2=\"92.861\" stroke-linecap=\"round\" style=\"stroke:white;stroke-width:1\"/><line x1=\"363.086\" y1=\"92.861\" x2=\"360.948\" y2=\"94.096\" stroke-linecap=\"round\" style=\"stroke:white;stroke-width:1\"/><line x1=\"360.948\" y1=\"94.096\" x2=\"358.81\" y2=\"92.861\" stroke-linecap=\"round\" style=\"stroke:white;stroke-width:1\"/><line x1=\"358.81\" y1=\"92.861\" x2=\"358.81\" y2=\"90.392\" stroke-linecap=\"round\" style=\"stroke:white;stroke-width:1\"/><line x1=\"358.81\" y1=\"90.392\" x2=\"356.672\" y2=\"91.627\" stroke-linecap=\"round\" style=\"stroke:white;stroke-width:1\"/><line x1=\"356.672\" y1=\"91.627\" x2=\"354.534\" y2=\"90.392\" stroke-linecap=\"round\" style=\"stroke:white;stroke-width:1\"/><line x1=\"354.534\" y1=\"90.392\" x2=\"354.534\" y2=\"87.923\" stroke-linecap=\"round\" style=\"stroke:white;stroke-width:1\"/><line x1=\"354.534\" y1=\"87.923\" x2=\"356.672\" y2=\"86.688\" stroke-linecap=\"round\" style=\"stroke:white;stroke-width:1\"/><line x1=\"356.672\" y1=\"86.688\" x2=\"354.534\" y2=\"85.453\" stroke-linecap=\"round\" style=\"stroke:white;stroke-width:1\"/><line x1=\"354.534\" y1=\"85.453\" x2=\"354.534\" y2=\"82.984\" stroke-linecap=\"round\" style=\"stroke:white;stroke-width:1\"/><line x1=\"354.534\" y1=\"82.984\" x2=\"352.396\" y2=\"84.219\" stroke-linecap=\"round\" style=\"stroke:white;stroke-width:1\"/><line x1=\"352.396\" y1=\"84.219\" x2=\"350.258\" y2=\"82.984\" stroke-linecap=\"round\" style=\"stroke:white;stroke-width:1\"/><line x1=\"350.258\" y1=\"82.984\" x2=\"350.258\" y2=\"85.453\" stroke-linecap=\"round\" style=\"stroke:white;stroke-width:1\"/><line x1=\"350.258\" y1=\"85.453\" x2=\"348.12\" y2=\"86.688\" stroke-linecap=\"round\" style=\"stroke:white;stroke-width:1\"/><line x1=\"348.12\" y1=\"86.688\" x2=\"345.982\" y2=\"85.453\" stroke-linecap=\"round\" style=\"stroke:white;stroke-width:1\"/><line x1=\"345.982\" y1=\"85.453\" x2=\"345.982\" y2=\"82.984\" stroke-linecap=\"round\" style=\"stroke:white;stroke-width:1\"/><line x1=\"345.982\" y1=\"82.984\" x2=\"343.844\" y2=\"84.219\" stroke-linecap=\"round\" style=\"stroke:white;stroke-width:1\"/><line x1=\"343.844\" y1=\"84.219\" x2=\"341.706\" y2=\"82.984\" stroke-linecap=\"round\" style=\"stroke:white;stroke-width:1\"/><line x1=\"341.706\" y1=\"82.984\" x2=\"341.706\" y2=\"85.453\" stroke-linecap=\"round\" style=\"stroke:white;stroke-width:1\"/><line x1=\"341.706\" y1=\"85.453\" x2=\"339.568\" y2=\"86.688\" stroke-linecap=\"round\" style=\"stroke:white;stroke-width:1\"/><line x1=\"339.568\" y1=\"86.688\" x2=\"341.706\" y2=\"87.923\" stroke-linecap=\"round\" style=\"stroke:white;stroke-width:1\"/><line x1=\"341.706\" y1=\"87.923\" x2=\"341.706\" y2=\"90.392\" stroke-linecap=\"round\" style=\"stroke:white;stroke-width:1\"/><line x1=\"341.706\" y1=\"90.392\" x2=\"339.568\" y2=\"91.627\" stroke-linecap=\"round\" style=\"stroke:white;stroke-width:1\"/><line x1=\"339.568\" y1=\"91.627\" x2=\"337.43\" y2=\"90.392\" stroke-linecap=\"round\" style=\"stroke:white;stroke-width:1\"/><line x1=\"337.43\" y1=\"90.392\" x2=\"337.43\" y2=\"92.861\" stroke-linecap=\"round\" style=\"stroke:white;stroke-width:1\"/><line x1=\"337.43\" y1=\"92.861\" x2=\"335.292\" y2=\"94.096\" stroke-linecap=\"round\" style=\"stroke:white;stroke-width:1\"/><line x1=\"335.292\" y1=\"94.096\" x2=\"337.43\" y2=\"95.331\" stroke-linecap=\"round\" style=\"stroke:white;stroke-width:1\"/><line x1=\"337.43\" y1=\"95.331\" x2=\"337.43\" y2=\"97.8\" stroke-linecap=\"round\" style=\"stroke:white;stroke-width:1\"/><line x1=\"337.43\" y1=\"97.8\" x2=\"339.568\" y2=\"96.565\" stroke-linecap=\"round\" style=\"stroke:white;stroke-width:1\"/><line x1=\"339.568\" y1=\"96.565\" x2=\"341.706\" y2=\"97.8\" stroke-linecap=\"round\" style=\"stroke:white;stroke-width:1\"/><line x1=\"341.706\" y1=\"97.8\" x2=\"341.706\" y2=\"100.269\" stroke-linecap=\"round\" style=\"stroke:white;stroke-width:1\"/><line x1=\"341.706\" y1=\"100.269\" x2=\"339.568\" y2=\"101.504\" stroke-linecap=\"round\" style=\"stroke:white;stroke-width:1\"/><line x1=\"339.568\" y1=\"101.504\" x2=\"341.706\" y2=\"102.739\" stroke-linecap=\"round\" style=\"stroke:white;stroke-width:1\"/><line x1=\"341.706\" y1=\"102.739\" x2=\"341.706\" y2=\"105.208\" stroke-linecap=\"round\" style=\"stroke:white;stroke-width:1\"/><line x1=\"341.706\" y1=\"105.208\" x2=\"339.568\" y2=\"106.443\" stroke-linecap=\"round\" style=\"stroke:white;stroke-width:1\"/><line x1=\"339.568\" y1=\"106.443\" x2=\"337.43\" y2=\"105.208\" stroke-linecap=\"round\" style=\"stroke:white;stroke-width:1\"/><line x1=\"337.43\" y1=\"105.208\" x2=\"337.43\" y2=\"107.677\" stroke-linecap=\"round\" style=\"stroke:white;stroke-width:1\"/><line x1=\"337.43\" y1=\"107.677\" x2=\"335.292\" y2=\"108.912\" stroke-linecap=\"round\" style=\"stroke:white;stroke-width:1\"/><line x1=\"335.292\" y1=\"108.912\" x2=\"333.154\" y2=\"107.677\" stroke-linecap=\"round\" style=\"stroke:white;stroke-width:1\"/><line x1=\"333.154\" y1=\"107.677\" x2=\"333.154\" y2=\"105.208\" stroke-linecap=\"round\" style=\"stroke:white;stroke-width:1\"/><line x1=\"333.154\" y1=\"105.208\" x2=\"331.016\" y2=\"106.443\" stroke-linecap=\"round\" style=\"stroke:white;stroke-width:1\"/><line x1=\"331.016\" y1=\"106.443\" x2=\"328.878\" y2=\"105.208\" stroke-linecap=\"round\" style=\"stroke:white;stroke-width:1\"/><line x1=\"328.878\" y1=\"105.208\" x2=\"328.878\" y2=\"107.677\" stroke-linecap=\"round\" style=\"stroke:white;stroke-width:1\"/><line x1=\"328.878\" y1=\"107.677\" x2=\"326.74\" y2=\"108.912\" stroke-linecap=\"round\" style=\"stroke:white;stroke-width:1\"/><line x1=\"326.74\" y1=\"108.912\" x2=\"328.878\" y2=\"110.147\" stroke-linecap=\"round\" style=\"stroke:white;stroke-width:1\"/><line x1=\"328.878\" y1=\"110.147\" x2=\"328.878\" y2=\"112.616\" stroke-linecap=\"round\" style=\"stroke:white;stroke-width:1\"/><line x1=\"328.878\" y1=\"112.616\" x2=\"326.74\" y2=\"113.851\" stroke-linecap=\"round\" style=\"stroke:white;stroke-width:1\"/><line x1=\"326.74\" y1=\"113.851\" x2=\"324.602\" y2=\"112.616\" stroke-linecap=\"round\" style=\"stroke:white;stroke-width:1\"/><line x1=\"324.602\" y1=\"112.616\" x2=\"324.602\" y2=\"115.085\" stroke-linecap=\"round\" style=\"stroke:white;stroke-width:1\"/><line x1=\"324.602\" y1=\"115.085\" x2=\"322.464\" y2=\"116.32\" stroke-linecap=\"round\" style=\"stroke:white;stroke-width:1\"/><line x1=\"322.464\" y1=\"116.32\" x2=\"324.602\" y2=\"117.555\" stroke-linecap=\"round\" style=\"stroke:white;stroke-width:1\"/><line x1=\"324.602\" y1=\"117.555\" x2=\"324.602\" y2=\"120.024\" stroke-linecap=\"round\" style=\"stroke:white;stroke-width:1\"/><line x1=\"324.602\" y1=\"120.024\" x2=\"326.74\" y2=\"118.789\" stroke-linecap=\"round\" style=\"stroke:white;stroke-width:1\"/><line x1=\"326.74\" y1=\"118.789\" x2=\"328.878\" y2=\"120.024\" stroke-linecap=\"round\" style=\"stroke:white;stroke-width:1\"/><line x1=\"328.878\" y1=\"120.024\" x2=\"328.878\" y2=\"122.493\" stroke-linecap=\"round\" style=\"stroke:white;stroke-width:1\"/><line x1=\"328.878\" y1=\"122.493\" x2=\"326.74\" y2=\"123.728\" stroke-linecap=\"round\" style=\"stroke:white;stroke-width:1\"/><line x1=\"326.74\" y1=\"123.728\" x2=\"328.878\" y2=\"124.963\" stroke-linecap=\"round\" style=\"stroke:white;stroke-width:1\"/><line x1=\"328.878\" y1=\"124.963\" x2=\"328.878\" y2=\"127.432\" stroke-linecap=\"round\" style=\"stroke:white;stroke-width:1\"/><line x1=\"328.878\" y1=\"127.432\" x2=\"331.016\" y2=\"126.197\" stroke-linecap=\"round\" style=\"stroke:white;stroke-width:1\"/><line x1=\"331.016\" y1=\"126.197\" x2=\"333.154\" y2=\"127.432\" stroke-linecap=\"round\" style=\"stroke:white;stroke-width:1\"/><line x1=\"333.154\" y1=\"127.432\" x2=\"333.154\" y2=\"124.963\" stroke-linecap=\"round\" style=\"stroke:white;stroke-width:1\"/><line x1=\"333.154\" y1=\"124.963\" x2=\"335.292\" y2=\"123.728\" stroke-linecap=\"round\" style=\"stroke:white;stroke-width:1\"/><line x1=\"335.292\" y1=\"123.728\" x2=\"337.43\" y2=\"124.963\" stroke-linecap=\"round\" style=\"stroke:white;stroke-width:1\"/><line x1=\"337.43\" y1=\"124.963\" x2=\"337.43\" y2=\"127.432\" stroke-linecap=\"round\" style=\"stroke:white;stroke-width:1\"/><line x1=\"337.43\" y1=\"127.432\" x2=\"339.568\" y2=\"126.197\" stroke-linecap=\"round\" style=\"stroke:white;stroke-width:1\"/><line x1=\"339.568\" y1=\"126.197\" x2=\"341.706\" y2=\"127.432\" stroke-linecap=\"round\" style=\"stroke:white;stroke-width:1\"/><line x1=\"341.706\" y1=\"127.432\" x2=\"341.706\" y2=\"129.901\" stroke-linecap=\"round\" style=\"stroke:white;stroke-width:1\"/><line x1=\"341.706\" y1=\"129.901\" x2=\"339.568\" y2=\"131.136\" stroke-linecap=\"round\" style=\"stroke:white;stroke-width:1\"/><line x1=\"339.568\" y1=\"131.136\" x2=\"341.706\" y2=\"132.371\" stroke-linecap=\"round\" style=\"stroke:white;stroke-width:1\"/><line x1=\"341.706\" y1=\"132.371\" x2=\"341.706\" y2=\"134.84\" stroke-linecap=\"round\" style=\"stroke:white;stroke-width:1\"/><line x1=\"341.706\" y1=\"134.84\" x2=\"339.568\" y2=\"136.075\" stroke-linecap=\"round\" style=\"stroke:white;stroke-width:1\"/><line x1=\"339.568\" y1=\"136.075\" x2=\"337.43\" y2=\"134.84\" stroke-linecap=\"round\" style=\"stroke:white;stroke-width:1\"/><line x1=\"337.43\" y1=\"134.84\" x2=\"337.43\" y2=\"137.309\" stroke-linecap=\"round\" style=\"stroke:white;stroke-width:1\"/><line x1=\"337.43\" y1=\"137.309\" x2=\"335.292\" y2=\"138.544\" stroke-linecap=\"round\" style=\"stroke:white;stroke-width:1\"/><line x1=\"335.292\" y1=\"138.544\" x2=\"337.43\" y2=\"139.779\" stroke-linecap=\"round\" style=\"stroke:white;stroke-width:1\"/><line x1=\"337.43\" y1=\"139.779\" x2=\"337.43\" y2=\"142.248\" stroke-linecap=\"round\" style=\"stroke:white;stroke-width:1\"/><line x1=\"337.43\" y1=\"142.248\" x2=\"339.568\" y2=\"141.013\" stroke-linecap=\"round\" style=\"stroke:white;stroke-width:1\"/><line x1=\"339.568\" y1=\"141.013\" x2=\"341.706\" y2=\"142.248\" stroke-linecap=\"round\" style=\"stroke:white;stroke-width:1\"/><line x1=\"341.706\" y1=\"142.248\" x2=\"341.706\" y2=\"144.717\" stroke-linecap=\"round\" style=\"stroke:white;stroke-width:1\"/><line x1=\"341.706\" y1=\"144.717\" x2=\"339.568\" y2=\"145.952\" stroke-linecap=\"round\" style=\"stroke:white;stroke-width:1\"/><line x1=\"339.568\" y1=\"145.952\" x2=\"341.706\" y2=\"147.187\" stroke-linecap=\"round\" style=\"stroke:white;stroke-width:1\"/><line x1=\"341.706\" y1=\"147.187\" x2=\"341.706\" y2=\"149.656\" stroke-linecap=\"round\" style=\"stroke:white;stroke-width:1\"/><line x1=\"341.706\" y1=\"149.656\" x2=\"339.568\" y2=\"150.891\" stroke-linecap=\"round\" style=\"stroke:white;stroke-width:1\"/><line x1=\"339.568\" y1=\"150.891\" x2=\"337.43\" y2=\"149.656\" stroke-linecap=\"round\" style=\"stroke:white;stroke-width:1\"/><line x1=\"337.43\" y1=\"149.656\" x2=\"337.43\" y2=\"152.125\" stroke-linecap=\"round\" style=\"stroke:white;stroke-width:1\"/><line x1=\"337.43\" y1=\"152.125\" x2=\"335.292\" y2=\"153.36\" stroke-linecap=\"round\" style=\"stroke:white;stroke-width:1\"/><line x1=\"335.292\" y1=\"153.36\" x2=\"333.154\" y2=\"152.125\" stroke-linecap=\"round\" style=\"stroke:white;stroke-width:1\"/><line x1=\"333.154\" y1=\"152.125\" x2=\"333.154\" y2=\"149.656\" stroke-linecap=\"round\" style=\"stroke:white;stroke-width:1\"/><line x1=\"333.154\" y1=\"149.656\" x2=\"331.016\" y2=\"150.891\" stroke-linecap=\"round\" style=\"stroke:white;stroke-width:1\"/><line x1=\"331.016\" y1=\"150.891\" x2=\"328.878\" y2=\"149.656\" stroke-linecap=\"round\" style=\"stroke:white;stroke-width:1\"/><line x1=\"328.878\" y1=\"149.656\" x2=\"328.878\" y2=\"152.125\" stroke-linecap=\"round\" style=\"stroke:white;stroke-width:1\"/><line x1=\"328.878\" y1=\"152.125\" x2=\"326.74\" y2=\"153.36\" stroke-linecap=\"round\" style=\"stroke:white;stroke-width:1\"/><line x1=\"326.74\" y1=\"153.36\" x2=\"328.878\" y2=\"154.595\" stroke-linecap=\"round\" style=\"stroke:white;stroke-width:1\"/><line x1=\"328.878\" y1=\"154.595\" x2=\"328.878\" y2=\"157.064\" stroke-linecap=\"round\" style=\"stroke:white;stroke-width:1\"/><line x1=\"328.878\" y1=\"157.064\" x2=\"326.74\" y2=\"158.299\" stroke-linecap=\"round\" style=\"stroke:white;stroke-width:1\"/><line x1=\"326.74\" y1=\"158.299\" x2=\"324.602\" y2=\"157.064\" stroke-linecap=\"round\" style=\"stroke:white;stroke-width:1\"/><line x1=\"324.602\" y1=\"157.064\" x2=\"324.602\" y2=\"159.533\" stroke-linecap=\"round\" style=\"stroke:white;stroke-width:1\"/><line x1=\"324.602\" y1=\"159.533\" x2=\"322.464\" y2=\"160.768\" stroke-linecap=\"round\" style=\"stroke:white;stroke-width:1\"/><line x1=\"322.464\" y1=\"160.768\" x2=\"320.326\" y2=\"159.533\" stroke-linecap=\"round\" style=\"stroke:white;stroke-width:1\"/><line x1=\"320.326\" y1=\"159.533\" x2=\"320.326\" y2=\"157.064\" stroke-linecap=\"round\" style=\"stroke:white;stroke-width:1\"/><line x1=\"320.326\" y1=\"157.064\" x2=\"318.188\" y2=\"158.299\" stroke-linecap=\"round\" style=\"stroke:white;stroke-width:1\"/><line x1=\"318.188\" y1=\"158.299\" x2=\"316.05\" y2=\"157.064\" stroke-linecap=\"round\" style=\"stroke:white;stroke-width:1\"/><line x1=\"316.05\" y1=\"157.064\" x2=\"316.05\" y2=\"154.595\" stroke-linecap=\"round\" style=\"stroke:white;stroke-width:1\"/><line x1=\"316.05\" y1=\"154.595\" x2=\"318.188\" y2=\"153.36\" stroke-linecap=\"round\" style=\"stroke:white;stroke-width:1\"/><line x1=\"318.188\" y1=\"153.36\" x2=\"316.05\" y2=\"152.125\" stroke-linecap=\"round\" style=\"stroke:white;stroke-width:1\"/><line x1=\"316.05\" y1=\"152.125\" x2=\"316.05\" y2=\"149.656\" stroke-linecap=\"round\" style=\"stroke:white;stroke-width:1\"/><line x1=\"316.05\" y1=\"149.656\" x2=\"313.912\" y2=\"150.891\" stroke-linecap=\"round\" style=\"stroke:white;stroke-width:1\"/><line x1=\"313.912\" y1=\"150.891\" x2=\"311.774\" y2=\"149.656\" stroke-linecap=\"round\" style=\"stroke:white;stroke-width:1\"/><line x1=\"311.774\" y1=\"149.656\" x2=\"311.774\" y2=\"152.125\" stroke-linecap=\"round\" style=\"stroke:white;stroke-width:1\"/><line x1=\"311.774\" y1=\"152.125\" x2=\"309.636\" y2=\"153.36\" stroke-linecap=\"round\" style=\"stroke:white;stroke-width:1\"/><line x1=\"309.636\" y1=\"153.36\" x2=\"307.498\" y2=\"152.125\" stroke-linecap=\"round\" style=\"stroke:white;stroke-width:1\"/><line x1=\"307.498\" y1=\"152.125\" x2=\"307.498\" y2=\"149.656\" stroke-linecap=\"round\" style=\"stroke:white;stroke-width:1\"/><line x1=\"307.498\" y1=\"149.656\" x2=\"305.36\" y2=\"150.891\" stroke-linecap=\"round\" style=\"stroke:white;stroke-width:1\"/><line x1=\"305.36\" y1=\"150.891\" x2=\"303.222\" y2=\"149.656\" stroke-linecap=\"round\" style=\"stroke:white;stroke-width:1\"/><line x1=\"303.222\" y1=\"149.656\" x2=\"303.222\" y2=\"152.125\" stroke-linecap=\"round\" style=\"stroke:white;stroke-width:1\"/><line x1=\"303.222\" y1=\"152.125\" x2=\"301.084\" y2=\"153.36\" stroke-linecap=\"round\" style=\"stroke:white;stroke-width:1\"/><line x1=\"301.084\" y1=\"153.36\" x2=\"303.222\" y2=\"154.595\" stroke-linecap=\"round\" style=\"stroke:white;stroke-width:1\"/><line x1=\"303.222\" y1=\"154.595\" x2=\"303.222\" y2=\"157.064\" stroke-linecap=\"round\" style=\"stroke:white;stroke-width:1\"/><line x1=\"303.222\" y1=\"157.064\" x2=\"301.084\" y2=\"158.299\" stroke-linecap=\"round\" style=\"stroke:white;stroke-width:1\"/><line x1=\"301.084\" y1=\"158.299\" x2=\"298.946\" y2=\"157.064\" stroke-linecap=\"round\" style=\"stroke:white;stroke-width:1\"/><line x1=\"298.946\" y1=\"157.064\" x2=\"298.946\" y2=\"159.533\" stroke-linecap=\"round\" style=\"stroke:white;stroke-width:1\"/><line x1=\"298.946\" y1=\"159.533\" x2=\"296.808\" y2=\"160.768\" stroke-linecap=\"round\" style=\"stroke:white;stroke-width:1\"/><line x1=\"296.808\" y1=\"160.768\" x2=\"298.946\" y2=\"162.003\" stroke-linecap=\"round\" style=\"stroke:white;stroke-width:1\"/><line x1=\"298.946\" y1=\"162.003\" x2=\"298.946\" y2=\"164.472\" stroke-linecap=\"round\" style=\"stroke:white;stroke-width:1\"/><line x1=\"298.946\" y1=\"164.472\" x2=\"301.084\" y2=\"163.237\" stroke-linecap=\"round\" style=\"stroke:white;stroke-width:1\"/><line x1=\"301.084\" y1=\"163.237\" x2=\"303.222\" y2=\"164.472\" stroke-linecap=\"round\" style=\"stroke:white;stroke-width:1\"/><line x1=\"303.222\" y1=\"164.472\" x2=\"303.222\" y2=\"166.941\" stroke-linecap=\"round\" style=\"stroke:white;stroke-width:1\"/><line x1=\"303.222\" y1=\"166.941\" x2=\"301.084\" y2=\"168.176\" stroke-linecap=\"round\" style=\"stroke:white;stroke-width:1\"/><line x1=\"301.084\" y1=\"168.176\" x2=\"303.222\" y2=\"169.411\" stroke-linecap=\"round\" style=\"stroke:white;stroke-width:1\"/><line x1=\"303.222\" y1=\"169.411\" x2=\"303.222\" y2=\"171.88\" stroke-linecap=\"round\" style=\"stroke:white;stroke-width:1\"/><line x1=\"303.222\" y1=\"171.88\" x2=\"301.084\" y2=\"173.115\" stroke-linecap=\"round\" style=\"stroke:white;stroke-width:1\"/><line x1=\"301.084\" y1=\"173.115\" x2=\"298.946\" y2=\"171.88\" stroke-linecap=\"round\" style=\"stroke:white;stroke-width:1\"/><line x1=\"298.946\" y1=\"171.88\" x2=\"298.946\" y2=\"174.349\" stroke-linecap=\"round\" style=\"stroke:white;stroke-width:1\"/><line x1=\"298.946\" y1=\"174.349\" x2=\"296.808\" y2=\"175.584\" stroke-linecap=\"round\" style=\"stroke:white;stroke-width:1\"/><line x1=\"296.808\" y1=\"175.584\" x2=\"294.67\" y2=\"174.349\" stroke-linecap=\"round\" style=\"stroke:white;stroke-width:1\"/><line x1=\"294.67\" y1=\"174.349\" x2=\"294.67\" y2=\"171.88\" stroke-linecap=\"round\" style=\"stroke:white;stroke-width:1\"/><line x1=\"294.67\" y1=\"171.88\" x2=\"292.532\" y2=\"173.115\" stroke-linecap=\"round\" style=\"stroke:white;stroke-width:1\"/><line x1=\"292.532\" y1=\"173.115\" x2=\"290.394\" y2=\"171.88\" stroke-linecap=\"round\" style=\"stroke:white;stroke-width:1\"/><line x1=\"290.394\" y1=\"171.88\" x2=\"290.394\" y2=\"174.349\" stroke-linecap=\"round\" style=\"stroke:white;stroke-width:1\"/><line x1=\"290.394\" y1=\"174.349\" x2=\"288.256\" y2=\"175.584\" stroke-linecap=\"round\" style=\"stroke:white;stroke-width:1\"/><line x1=\"288.256\" y1=\"175.584\" x2=\"290.394\" y2=\"176.819\" stroke-linecap=\"round\" style=\"stroke:white;stroke-width:1\"/><line x1=\"290.394\" y1=\"176.819\" x2=\"290.394\" y2=\"179.288\" stroke-linecap=\"round\" style=\"stroke:white;stroke-width:1\"/><line x1=\"290.394\" y1=\"179.288\" x2=\"288.256\" y2=\"180.523\" stroke-linecap=\"round\" style=\"stroke:white;stroke-width:1\"/><line x1=\"288.256\" y1=\"180.523\" x2=\"286.118\" y2=\"179.288\" stroke-linecap=\"round\" style=\"stroke:white;stroke-width:1\"/><line x1=\"286.118\" y1=\"179.288\" x2=\"286.118\" y2=\"181.757\" stroke-linecap=\"round\" style=\"stroke:white;stroke-width:1\"/><line x1=\"286.118\" y1=\"181.757\" x2=\"283.98\" y2=\"182.992\" stroke-linecap=\"round\" style=\"stroke:white;stroke-width:1\"/><line x1=\"283.98\" y1=\"182.992\" x2=\"286.118\" y2=\"184.227\" stroke-linecap=\"round\" style=\"stroke:white;stroke-width:1\"/><line x1=\"286.118\" y1=\"184.227\" x2=\"286.118\" y2=\"186.696\" stroke-linecap=\"round\" style=\"stroke:white;stroke-width:1\"/><line x1=\"286.118\" y1=\"186.696\" x2=\"288.256\" y2=\"185.461\" stroke-linecap=\"round\" style=\"stroke:white;stroke-width:1\"/><line x1=\"288.256\" y1=\"185.461\" x2=\"290.394\" y2=\"186.696\" stroke-linecap=\"round\" style=\"stroke:white;stroke-width:1\"/><line x1=\"290.394\" y1=\"186.696\" x2=\"290.394\" y2=\"189.165\" stroke-linecap=\"round\" style=\"stroke:white;stroke-width:1\"/><line x1=\"290.394\" y1=\"189.165\" x2=\"288.256\" y2=\"190.4\" stroke-linecap=\"round\" style=\"stroke:white;stroke-width:1\"/><line x1=\"288.256\" y1=\"190.4\" x2=\"290.394\" y2=\"191.635\" stroke-linecap=\"round\" style=\"stroke:white;stroke-width:1\"/><line x1=\"290.394\" y1=\"191.635\" x2=\"290.394\" y2=\"194.104\" stroke-linecap=\"round\" style=\"stroke:white;stroke-width:1\"/><line x1=\"290.394\" y1=\"194.104\" x2=\"292.532\" y2=\"192.869\" stroke-linecap=\"round\" style=\"stroke:white;stroke-width:1\"/><line x1=\"292.532\" y1=\"192.869\" x2=\"294.67\" y2=\"194.104\" stroke-linecap=\"round\" style=\"stroke:white;stroke-width:1\"/><line x1=\"294.67\" y1=\"194.104\" x2=\"294.67\" y2=\"191.635\" stroke-linecap=\"round\" style=\"stroke:white;stroke-width:1\"/><line x1=\"294.67\" y1=\"191.635\" x2=\"296.808\" y2=\"190.4\" stroke-linecap=\"round\" style=\"stroke:white;stroke-width:1\"/><line x1=\"296.808\" y1=\"190.4\" x2=\"298.946\" y2=\"191.635\" stroke-linecap=\"round\" style=\"stroke:white;stroke-width:1\"/><line x1=\"298.946\" y1=\"191.635\" x2=\"298.946\" y2=\"194.104\" stroke-linecap=\"round\" style=\"stroke:white;stroke-width:1\"/><line x1=\"298.946\" y1=\"194.104\" x2=\"301.084\" y2=\"192.869\" stroke-linecap=\"round\" style=\"stroke:white;stroke-width:1\"/><line x1=\"301.084\" y1=\"192.869\" x2=\"303.222\" y2=\"194.104\" stroke-linecap=\"round\" style=\"stroke:white;stroke-width:1\"/><line x1=\"303.222\" y1=\"194.104\" x2=\"303.222\" y2=\"196.573\" stroke-linecap=\"round\" style=\"stroke:white;stroke-width:1\"/><line x1=\"303.222\" y1=\"196.573\" x2=\"301.084\" y2=\"197.808\" stroke-linecap=\"round\" style=\"stroke:white;stroke-width:1\"/><line x1=\"301.084\" y1=\"197.808\" x2=\"303.222\" y2=\"199.043\" stroke-linecap=\"round\" style=\"stroke:white;stroke-width:1\"/><line x1=\"303.222\" y1=\"199.043\" x2=\"303.222\" y2=\"201.512\" stroke-linecap=\"round\" style=\"stroke:white;stroke-width:1\"/><line x1=\"303.222\" y1=\"201.512\" x2=\"301.084\" y2=\"202.747\" stroke-linecap=\"round\" style=\"stroke:white;stroke-width:1\"/><line x1=\"301.084\" y1=\"202.747\" x2=\"298.946\" y2=\"201.512\" stroke-linecap=\"round\" style=\"stroke:white;stroke-width:1\"/><line x1=\"298.946\" y1=\"201.512\" x2=\"298.946\" y2=\"203.981\" stroke-linecap=\"round\" style=\"stroke:white;stroke-width:1\"/><line x1=\"298.946\" y1=\"203.981\" x2=\"296.808\" y2=\"205.216\" stroke-linecap=\"round\" style=\"stroke:white;stroke-width:1\"/><line x1=\"296.808\" y1=\"205.216\" x2=\"298.946\" y2=\"206.451\" stroke-linecap=\"round\" style=\"stroke:white;stroke-width:1\"/><line x1=\"298.946\" y1=\"206.451\" x2=\"298.946\" y2=\"208.92\" stroke-linecap=\"round\" style=\"stroke:white;stroke-width:1\"/><line x1=\"298.946\" y1=\"208.92\" x2=\"301.084\" y2=\"207.685\" stroke-linecap=\"round\" style=\"stroke:white;stroke-width:1\"/><line x1=\"301.084\" y1=\"207.685\" x2=\"303.222\" y2=\"208.92\" stroke-linecap=\"round\" style=\"stroke:white;stroke-width:1\"/><line x1=\"303.222\" y1=\"208.92\" x2=\"303.222\" y2=\"211.389\" stroke-linecap=\"round\" style=\"stroke:white;stroke-width:1\"/><line x1=\"303.222\" y1=\"211.389\" x2=\"301.084\" y2=\"212.624\" stroke-linecap=\"round\" style=\"stroke:white;stroke-width:1\"/><line x1=\"301.084\" y1=\"212.624\" x2=\"303.222\" y2=\"213.859\" stroke-linecap=\"round\" style=\"stroke:white;stroke-width:1\"/><line x1=\"303.222\" y1=\"213.859\" x2=\"303.222\" y2=\"216.328\" stroke-linecap=\"round\" style=\"stroke:white;stroke-width:1\"/><line x1=\"303.222\" y1=\"216.328\" x2=\"305.36\" y2=\"215.093\" stroke-linecap=\"round\" style=\"stroke:white;stroke-width:1\"/><line x1=\"305.36\" y1=\"215.093\" x2=\"307.498\" y2=\"216.328\" stroke-linecap=\"round\" style=\"stroke:white;stroke-width:1\"/><line x1=\"307.498\" y1=\"216.328\" x2=\"307.498\" y2=\"213.859\" stroke-linecap=\"round\" style=\"stroke:white;stroke-width:1\"/><line x1=\"307.498\" y1=\"213.859\" x2=\"309.636\" y2=\"212.624\" stroke-linecap=\"round\" style=\"stroke:white;stroke-width:1\"/><line x1=\"309.636\" y1=\"212.624\" x2=\"311.774\" y2=\"213.859\" stroke-linecap=\"round\" style=\"stroke:white;stroke-width:1\"/><line x1=\"311.774\" y1=\"213.859\" x2=\"311.774\" y2=\"216.328\" stroke-linecap=\"round\" style=\"stroke:white;stroke-width:1\"/><line x1=\"311.774\" y1=\"216.328\" x2=\"313.912\" y2=\"215.093\" stroke-linecap=\"round\" style=\"stroke:white;stroke-width:1\"/><line x1=\"313.912\" y1=\"215.093\" x2=\"316.05\" y2=\"216.328\" stroke-linecap=\"round\" style=\"stroke:white;stroke-width:1\"/><line x1=\"316.05\" y1=\"216.328\" x2=\"316.05\" y2=\"213.859\" stroke-linecap=\"round\" style=\"stroke:white;stroke-width:1\"/><line x1=\"316.05\" y1=\"213.859\" x2=\"318.188\" y2=\"212.624\" stroke-linecap=\"round\" style=\"stroke:white;stroke-width:1\"/><line x1=\"318.188\" y1=\"212.624\" x2=\"316.05\" y2=\"211.389\" stroke-linecap=\"round\" style=\"stroke:white;stroke-width:1\"/><line x1=\"316.05\" y1=\"211.389\" x2=\"316.05\" y2=\"208.92\" stroke-linecap=\"round\" style=\"stroke:white;stroke-width:1\"/><line x1=\"316.05\" y1=\"208.92\" x2=\"318.188\" y2=\"207.685\" stroke-linecap=\"round\" style=\"stroke:white;stroke-width:1\"/><line x1=\"318.188\" y1=\"207.685\" x2=\"320.326\" y2=\"208.92\" stroke-linecap=\"round\" style=\"stroke:white;stroke-width:1\"/><line x1=\"320.326\" y1=\"208.92\" x2=\"320.326\" y2=\"206.451\" stroke-linecap=\"round\" style=\"stroke:white;stroke-width:1\"/><line x1=\"320.326\" y1=\"206.451\" x2=\"322.464\" y2=\"205.216\" stroke-linecap=\"round\" style=\"stroke:white;stroke-width:1\"/><line x1=\"322.464\" y1=\"205.216\" x2=\"324.602\" y2=\"206.451\" stroke-linecap=\"round\" style=\"stroke:white;stroke-width:1\"/><line x1=\"324.602\" y1=\"206.451\" x2=\"324.602\" y2=\"208.92\" stroke-linecap=\"round\" style=\"stroke:white;stroke-width:1\"/><line x1=\"324.602\" y1=\"208.92\" x2=\"326.74\" y2=\"207.685\" stroke-linecap=\"round\" style=\"stroke:white;stroke-width:1\"/><line x1=\"326.74\" y1=\"207.685\" x2=\"328.878\" y2=\"208.92\" stroke-linecap=\"round\" style=\"stroke:white;stroke-width:1\"/><line x1=\"328.878\" y1=\"208.92\" x2=\"328.878\" y2=\"211.389\" stroke-linecap=\"round\" style=\"stroke:white;stroke-width:1\"/><line x1=\"328.878\" y1=\"211.389\" x2=\"326.74\" y2=\"212.624\" stroke-linecap=\"round\" style=\"stroke:white;stroke-width:1\"/><line x1=\"326.74\" y1=\"212.624\" x2=\"328.878\" y2=\"213.859\" stroke-linecap=\"round\" style=\"stroke:white;stroke-width:1\"/><line x1=\"328.878\" y1=\"213.859\" x2=\"328.878\" y2=\"216.328\" stroke-linecap=\"round\" style=\"stroke:white;stroke-width:1\"/><line x1=\"328.878\" y1=\"216.328\" x2=\"331.016\" y2=\"215.093\" stroke-linecap=\"round\" style=\"stroke:white;stroke-width:1\"/><line x1=\"331.016\" y1=\"215.093\" x2=\"333.154\" y2=\"216.328\" stroke-linecap=\"round\" style=\"stroke:white;stroke-width:1\"/><line x1=\"333.154\" y1=\"216.328\" x2=\"333.154\" y2=\"213.859\" stroke-linecap=\"round\" style=\"stroke:white;stroke-width:1\"/><line x1=\"333.154\" y1=\"213.859\" x2=\"335.292\" y2=\"212.624\" stroke-linecap=\"round\" style=\"stroke:white;stroke-width:1\"/><line x1=\"335.292\" y1=\"212.624\" x2=\"337.43\" y2=\"213.859\" stroke-linecap=\"round\" style=\"stroke:white;stroke-width:1\"/><line x1=\"337.43\" y1=\"213.859\" x2=\"337.43\" y2=\"216.328\" stroke-linecap=\"round\" style=\"stroke:white;stroke-width:1\"/><line x1=\"337.43\" y1=\"216.328\" x2=\"339.568\" y2=\"215.093\" stroke-linecap=\"round\" style=\"stroke:white;stroke-width:1\"/><line x1=\"339.568\" y1=\"215.093\" x2=\"341.706\" y2=\"216.328\" stroke-linecap=\"round\" style=\"stroke:white;stroke-width:1\"/><line x1=\"341.706\" y1=\"216.328\" x2=\"341.706\" y2=\"218.797\" stroke-linecap=\"round\" style=\"stroke:white;stroke-width:1\"/><line x1=\"341.706\" y1=\"218.797\" x2=\"339.568\" y2=\"220.032\" stroke-linecap=\"round\" style=\"stroke:white;stroke-width:1\"/><line x1=\"339.568\" y1=\"220.032\" x2=\"341.706\" y2=\"221.267\" stroke-linecap=\"round\" style=\"stroke:white;stroke-width:1\"/><line x1=\"341.706\" y1=\"221.267\" x2=\"341.706\" y2=\"223.736\" stroke-linecap=\"round\" style=\"stroke:white;stroke-width:1\"/><line x1=\"341.706\" y1=\"223.736\" x2=\"339.568\" y2=\"224.971\" stroke-linecap=\"round\" style=\"stroke:white;stroke-width:1\"/><line x1=\"339.568\" y1=\"224.971\" x2=\"337.43\" y2=\"223.736\" stroke-linecap=\"round\" style=\"stroke:white;stroke-width:1\"/><line x1=\"337.43\" y1=\"223.736\" x2=\"337.43\" y2=\"226.205\" stroke-linecap=\"round\" style=\"stroke:white;stroke-width:1\"/><line x1=\"337.43\" y1=\"226.205\" x2=\"335.292\" y2=\"227.44\" stroke-linecap=\"round\" style=\"stroke:white;stroke-width:1\"/><line x1=\"335.292\" y1=\"227.44\" x2=\"337.43\" y2=\"228.675\" stroke-linecap=\"round\" style=\"stroke:white;stroke-width:1\"/><line x1=\"337.43\" y1=\"228.675\" x2=\"337.43\" y2=\"231.144\" stroke-linecap=\"round\" style=\"stroke:white;stroke-width:1\"/><line x1=\"337.43\" y1=\"231.144\" x2=\"339.568\" y2=\"229.909\" stroke-linecap=\"round\" style=\"stroke:white;stroke-width:1\"/><line x1=\"339.568\" y1=\"229.909\" x2=\"341.706\" y2=\"231.144\" stroke-linecap=\"round\" style=\"stroke:white;stroke-width:1\"/><line x1=\"341.706\" y1=\"231.144\" x2=\"341.706\" y2=\"233.613\" stroke-linecap=\"round\" style=\"stroke:white;stroke-width:1\"/><line x1=\"341.706\" y1=\"233.613\" x2=\"339.568\" y2=\"234.848\" stroke-linecap=\"round\" style=\"stroke:white;stroke-width:1\"/><line x1=\"339.568\" y1=\"234.848\" x2=\"341.706\" y2=\"236.083\" stroke-linecap=\"round\" style=\"stroke:white;stroke-width:1\"/><line x1=\"341.706\" y1=\"236.083\" x2=\"341.706\" y2=\"238.552\" stroke-linecap=\"round\" style=\"stroke:white;stroke-width:1\"/><line x1=\"341.706\" y1=\"238.552\" x2=\"339.568\" y2=\"239.787\" stroke-linecap=\"round\" style=\"stroke:white;stroke-width:1\"/><line x1=\"339.568\" y1=\"239.787\" x2=\"337.43\" y2=\"238.552\" stroke-linecap=\"round\" style=\"stroke:white;stroke-width:1\"/><line x1=\"337.43\" y1=\"238.552\" x2=\"337.43\" y2=\"241.021\" stroke-linecap=\"round\" style=\"stroke:white;stroke-width:1\"/><line x1=\"337.43\" y1=\"241.021\" x2=\"335.292\" y2=\"242.256\" stroke-linecap=\"round\" style=\"stroke:white;stroke-width:1\"/><line x1=\"335.292\" y1=\"242.256\" x2=\"333.154\" y2=\"241.021\" stroke-linecap=\"round\" style=\"stroke:white;stroke-width:1\"/><line x1=\"333.154\" y1=\"241.021\" x2=\"333.154\" y2=\"238.552\" stroke-linecap=\"round\" style=\"stroke:white;stroke-width:1\"/><line x1=\"333.154\" y1=\"238.552\" x2=\"331.016\" y2=\"239.787\" stroke-linecap=\"round\" style=\"stroke:white;stroke-width:1\"/><line x1=\"331.016\" y1=\"239.787\" x2=\"328.878\" y2=\"238.552\" stroke-linecap=\"round\" style=\"stroke:white;stroke-width:1\"/><line x1=\"328.878\" y1=\"238.552\" x2=\"328.878\" y2=\"241.021\" stroke-linecap=\"round\" style=\"stroke:white;stroke-width:1\"/><line x1=\"328.878\" y1=\"241.021\" x2=\"326.74\" y2=\"242.256\" stroke-linecap=\"round\" style=\"stroke:white;stroke-width:1\"/><line x1=\"326.74\" y1=\"242.256\" x2=\"328.878\" y2=\"243.491\" stroke-linecap=\"round\" style=\"stroke:white;stroke-width:1\"/><line x1=\"328.878\" y1=\"243.491\" x2=\"328.878\" y2=\"245.96\" stroke-linecap=\"round\" style=\"stroke:white;stroke-width:1\"/><line x1=\"328.878\" y1=\"245.96\" x2=\"326.74\" y2=\"247.195\" stroke-linecap=\"round\" style=\"stroke:white;stroke-width:1\"/><line x1=\"326.74\" y1=\"247.195\" x2=\"324.602\" y2=\"245.96\" stroke-linecap=\"round\" style=\"stroke:white;stroke-width:1\"/><line x1=\"324.602\" y1=\"245.96\" x2=\"324.602\" y2=\"248.429\" stroke-linecap=\"round\" style=\"stroke:white;stroke-width:1\"/><line x1=\"324.602\" y1=\"248.429\" x2=\"322.464\" y2=\"249.664\" stroke-linecap=\"round\" style=\"stroke:white;stroke-width:1\"/><line x1=\"322.464\" y1=\"249.664\" x2=\"324.602\" y2=\"250.899\" stroke-linecap=\"round\" style=\"stroke:white;stroke-width:1\"/><line x1=\"324.602\" y1=\"250.899\" x2=\"324.602\" y2=\"253.368\" stroke-linecap=\"round\" style=\"stroke:white;stroke-width:1\"/><line x1=\"324.602\" y1=\"253.368\" x2=\"326.74\" y2=\"252.133\" stroke-linecap=\"round\" style=\"stroke:white;stroke-width:1\"/><line x1=\"326.74\" y1=\"252.133\" x2=\"328.878\" y2=\"253.368\" stroke-linecap=\"round\" style=\"stroke:white;stroke-width:1\"/><line x1=\"328.878\" y1=\"253.368\" x2=\"328.878\" y2=\"255.837\" stroke-linecap=\"round\" style=\"stroke:white;stroke-width:1\"/><line x1=\"328.878\" y1=\"255.837\" x2=\"326.74\" y2=\"257.072\" stroke-linecap=\"round\" style=\"stroke:white;stroke-width:1\"/><line x1=\"326.74\" y1=\"257.072\" x2=\"328.878\" y2=\"258.307\" stroke-linecap=\"round\" style=\"stroke:white;stroke-width:1\"/><line x1=\"328.878\" y1=\"258.307\" x2=\"328.878\" y2=\"260.776\" stroke-linecap=\"round\" style=\"stroke:white;stroke-width:1\"/><line x1=\"328.878\" y1=\"260.776\" x2=\"331.016\" y2=\"259.541\" stroke-linecap=\"round\" style=\"stroke:white;stroke-width:1\"/><line x1=\"331.016\" y1=\"259.541\" x2=\"333.154\" y2=\"260.776\" stroke-linecap=\"round\" style=\"stroke:white;stroke-width:1\"/><line x1=\"333.154\" y1=\"260.776\" x2=\"333.154\" y2=\"258.307\" stroke-linecap=\"round\" style=\"stroke:white;stroke-width:1\"/><line x1=\"333.154\" y1=\"258.307\" x2=\"335.292\" y2=\"257.072\" stroke-linecap=\"round\" style=\"stroke:white;stroke-width:1\"/><line x1=\"335.292\" y1=\"257.072\" x2=\"337.43\" y2=\"258.307\" stroke-linecap=\"round\" style=\"stroke:white;stroke-width:1\"/><line x1=\"337.43\" y1=\"258.307\" x2=\"337.43\" y2=\"260.776\" stroke-linecap=\"round\" style=\"stroke:white;stroke-width:1\"/><line x1=\"337.43\" y1=\"260.776\" x2=\"339.568\" y2=\"259.541\" stroke-linecap=\"round\" style=\"stroke:white;stroke-width:1\"/><line x1=\"339.568\" y1=\"259.541\" x2=\"341.706\" y2=\"260.776\" stroke-linecap=\"round\" style=\"stroke:white;stroke-width:1\"/><line x1=\"341.706\" y1=\"260.776\" x2=\"341.706\" y2=\"263.245\" stroke-linecap=\"round\" style=\"stroke:white;stroke-width:1\"/><line x1=\"341.706\" y1=\"263.245\" x2=\"339.568\" y2=\"264.48\" stroke-linecap=\"round\" style=\"stroke:white;stroke-width:1\"/><line x1=\"339.568\" y1=\"264.48\" x2=\"341.706\" y2=\"265.715\" stroke-linecap=\"round\" style=\"stroke:white;stroke-width:1\"/><line x1=\"341.706\" y1=\"265.715\" x2=\"341.706\" y2=\"268.184\" stroke-linecap=\"round\" style=\"stroke:white;stroke-width:1\"/><line x1=\"341.706\" y1=\"268.184\" x2=\"339.568\" y2=\"269.419\" stroke-linecap=\"round\" style=\"stroke:white;stroke-width:1\"/><line x1=\"339.568\" y1=\"269.419\" x2=\"337.43\" y2=\"268.184\" stroke-linecap=\"round\" style=\"stroke:white;stroke-width:1\"/><line x1=\"337.43\" y1=\"268.184\" x2=\"337.43\" y2=\"270.653\" stroke-linecap=\"round\" style=\"stroke:white;stroke-width:1\"/><line x1=\"337.43\" y1=\"270.653\" x2=\"335.292\" y2=\"271.888\" stroke-linecap=\"round\" style=\"stroke:white;stroke-width:1\"/><line x1=\"335.292\" y1=\"271.888\" x2=\"337.43\" y2=\"273.123\" stroke-linecap=\"round\" style=\"stroke:white;stroke-width:1\"/><line x1=\"337.43\" y1=\"273.123\" x2=\"337.43\" y2=\"275.592\" stroke-linecap=\"round\" style=\"stroke:white;stroke-width:1\"/><line x1=\"337.43\" y1=\"275.592\" x2=\"339.568\" y2=\"274.357\" stroke-linecap=\"round\" style=\"stroke:white;stroke-width:1\"/><line x1=\"339.568\" y1=\"274.357\" x2=\"341.706\" y2=\"275.592\" stroke-linecap=\"round\" style=\"stroke:white;stroke-width:1\"/><line x1=\"341.706\" y1=\"275.592\" x2=\"341.706\" y2=\"278.061\" stroke-linecap=\"round\" style=\"stroke:white;stroke-width:1\"/><line x1=\"341.706\" y1=\"278.061\" x2=\"339.568\" y2=\"279.296\" stroke-linecap=\"round\" style=\"stroke:white;stroke-width:1\"/><line x1=\"339.568\" y1=\"279.296\" x2=\"341.706\" y2=\"280.531\" stroke-linecap=\"round\" style=\"stroke:white;stroke-width:1\"/><line x1=\"341.706\" y1=\"280.531\" x2=\"341.706\" y2=\"283.0\" stroke-linecap=\"round\" style=\"stroke:white;stroke-width:1\"/><line x1=\"341.706\" y1=\"283.0\" x2=\"343.844\" y2=\"281.765\" stroke-linecap=\"round\" style=\"stroke:white;stroke-width:1\"/><line x1=\"343.844\" y1=\"281.765\" x2=\"345.982\" y2=\"283.0\" stroke-linecap=\"round\" style=\"stroke:white;stroke-width:1\"/><line x1=\"345.982\" y1=\"283.0\" x2=\"345.982\" y2=\"280.531\" stroke-linecap=\"round\" style=\"stroke:white;stroke-width:1\"/><line x1=\"345.982\" y1=\"280.531\" x2=\"348.12\" y2=\"279.296\" stroke-linecap=\"round\" style=\"stroke:white;stroke-width:1\"/><line x1=\"348.12\" y1=\"279.296\" x2=\"350.258\" y2=\"280.531\" stroke-linecap=\"round\" style=\"stroke:white;stroke-width:1\"/><line x1=\"350.258\" y1=\"280.531\" x2=\"350.258\" y2=\"283.0\" stroke-linecap=\"round\" style=\"stroke:white;stroke-width:1\"/><line x1=\"350.258\" y1=\"283.0\" x2=\"352.396\" y2=\"281.765\" stroke-linecap=\"round\" style=\"stroke:white;stroke-width:1\"/><line x1=\"352.396\" y1=\"281.765\" x2=\"354.534\" y2=\"283.0\" stroke-linecap=\"round\" style=\"stroke:white;stroke-width:1\"/><line x1=\"354.534\" y1=\"283.0\" x2=\"354.534\" y2=\"280.531\" stroke-linecap=\"round\" style=\"stroke:white;stroke-width:1\"/><line x1=\"354.534\" y1=\"280.531\" x2=\"356.672\" y2=\"279.296\" stroke-linecap=\"round\" style=\"stroke:white;stroke-width:1\"/><line x1=\"356.672\" y1=\"279.296\" x2=\"354.534\" y2=\"278.061\" stroke-linecap=\"round\" style=\"stroke:white;stroke-width:1\"/><line x1=\"354.534\" y1=\"278.061\" x2=\"354.534\" y2=\"275.592\" stroke-linecap=\"round\" style=\"stroke:white;stroke-width:1\"/><line x1=\"354.534\" y1=\"275.592\" x2=\"356.672\" y2=\"274.357\" stroke-linecap=\"round\" style=\"stroke:white;stroke-width:1\"/><line x1=\"356.672\" y1=\"274.357\" x2=\"358.81\" y2=\"275.592\" stroke-linecap=\"round\" style=\"stroke:white;stroke-width:1\"/><line x1=\"358.81\" y1=\"275.592\" x2=\"358.81\" y2=\"273.123\" stroke-linecap=\"round\" style=\"stroke:white;stroke-width:1\"/><line x1=\"358.81\" y1=\"273.123\" x2=\"360.948\" y2=\"271.888\" stroke-linecap=\"round\" style=\"stroke:white;stroke-width:1\"/><line x1=\"360.948\" y1=\"271.888\" x2=\"363.086\" y2=\"273.123\" stroke-linecap=\"round\" style=\"stroke:white;stroke-width:1\"/><line x1=\"363.086\" y1=\"273.123\" x2=\"363.086\" y2=\"275.592\" stroke-linecap=\"round\" style=\"stroke:white;stroke-width:1\"/><line x1=\"363.086\" y1=\"275.592\" x2=\"365.224\" y2=\"274.357\" stroke-linecap=\"round\" style=\"stroke:white;stroke-width:1\"/><line x1=\"365.224\" y1=\"274.357\" x2=\"367.362\" y2=\"275.592\" stroke-linecap=\"round\" style=\"stroke:white;stroke-width:1\"/><line x1=\"367.362\" y1=\"275.592\" x2=\"367.362\" y2=\"278.061\" stroke-linecap=\"round\" style=\"stroke:white;stroke-width:1\"/><line x1=\"367.362\" y1=\"278.061\" x2=\"365.224\" y2=\"279.296\" stroke-linecap=\"round\" style=\"stroke:white;stroke-width:1\"/><line x1=\"365.224\" y1=\"279.296\" x2=\"367.362\" y2=\"280.531\" stroke-linecap=\"round\" style=\"stroke:white;stroke-width:1\"/><line x1=\"367.362\" y1=\"280.531\" x2=\"367.362\" y2=\"283.0\" stroke-linecap=\"round\" style=\"stroke:white;stroke-width:1\"/><line x1=\"367.362\" y1=\"283.0\" x2=\"369.5\" y2=\"281.765\" stroke-linecap=\"round\" style=\"stroke:white;stroke-width:1\"/><line x1=\"369.5\" y1=\"281.765\" x2=\"371.638\" y2=\"283.0\" stroke-linecap=\"round\" style=\"stroke:white;stroke-width:1\"/><line x1=\"371.638\" y1=\"283.0\" x2=\"371.638\" y2=\"280.531\" stroke-linecap=\"round\" style=\"stroke:white;stroke-width:1\"/><line x1=\"371.638\" y1=\"280.531\" x2=\"373.776\" y2=\"279.296\" stroke-linecap=\"round\" style=\"stroke:white;stroke-width:1\"/><line x1=\"373.776\" y1=\"279.296\" x2=\"375.914\" y2=\"280.531\" stroke-linecap=\"round\" style=\"stroke:white;stroke-width:1\"/><line x1=\"375.914\" y1=\"280.531\" x2=\"375.914\" y2=\"283.0\" stroke-linecap=\"round\" style=\"stroke:white;stroke-width:1\"/><line x1=\"375.914\" y1=\"283.0\" x2=\"378.052\" y2=\"281.765\" stroke-linecap=\"round\" style=\"stroke:white;stroke-width:1\"/><line x1=\"378.052\" y1=\"281.765\" x2=\"380.19\" y2=\"283.0\" stroke-linecap=\"round\" style=\"stroke:white;stroke-width:1\"/><line x1=\"380.19\" y1=\"283.0\" x2=\"380.19\" y2=\"280.531\" stroke-linecap=\"round\" style=\"stroke:white;stroke-width:1\"/><line x1=\"380.19\" y1=\"280.531\" x2=\"382.328\" y2=\"279.296\" stroke-linecap=\"round\" style=\"stroke:white;stroke-width:1\"/><line x1=\"382.328\" y1=\"279.296\" x2=\"380.19\" y2=\"278.061\" stroke-linecap=\"round\" style=\"stroke:white;stroke-width:1\"/><line x1=\"380.19\" y1=\"278.061\" x2=\"380.19\" y2=\"275.592\" stroke-linecap=\"round\" style=\"stroke:white;stroke-width:1\"/><line x1=\"380.19\" y1=\"275.592\" x2=\"382.328\" y2=\"274.357\" stroke-linecap=\"round\" style=\"stroke:white;stroke-width:1\"/><line x1=\"382.328\" y1=\"274.357\" x2=\"384.466\" y2=\"275.592\" stroke-linecap=\"round\" style=\"stroke:white;stroke-width:1\"/><line x1=\"384.466\" y1=\"275.592\" x2=\"384.466\" y2=\"273.123\" stroke-linecap=\"round\" style=\"stroke:white;stroke-width:1\"/><line x1=\"384.466\" y1=\"273.123\" x2=\"386.604\" y2=\"271.888\" stroke-linecap=\"round\" style=\"stroke:white;stroke-width:1\"/><line x1=\"386.604\" y1=\"271.888\" x2=\"384.466\" y2=\"270.653\" stroke-linecap=\"round\" style=\"stroke:white;stroke-width:1\"/><line x1=\"384.466\" y1=\"270.653\" x2=\"384.466\" y2=\"268.184\" stroke-linecap=\"round\" style=\"stroke:white;stroke-width:1\"/><line x1=\"384.466\" y1=\"268.184\" x2=\"382.328\" y2=\"269.419\" stroke-linecap=\"round\" style=\"stroke:white;stroke-width:1\"/><line x1=\"382.328\" y1=\"269.419\" x2=\"380.19\" y2=\"268.184\" stroke-linecap=\"round\" style=\"stroke:white;stroke-width:1\"/><line x1=\"380.19\" y1=\"268.184\" x2=\"380.19\" y2=\"265.715\" stroke-linecap=\"round\" style=\"stroke:white;stroke-width:1\"/><line x1=\"380.19\" y1=\"265.715\" x2=\"382.328\" y2=\"264.48\" stroke-linecap=\"round\" style=\"stroke:white;stroke-width:1\"/><line x1=\"382.328\" y1=\"264.48\" x2=\"380.19\" y2=\"263.245\" stroke-linecap=\"round\" style=\"stroke:white;stroke-width:1\"/><line x1=\"380.19\" y1=\"263.245\" x2=\"380.19\" y2=\"260.776\" stroke-linecap=\"round\" style=\"stroke:white;stroke-width:1\"/><line x1=\"380.19\" y1=\"260.776\" x2=\"382.328\" y2=\"259.541\" stroke-linecap=\"round\" style=\"stroke:white;stroke-width:1\"/><line x1=\"382.328\" y1=\"259.541\" x2=\"384.466\" y2=\"260.776\" stroke-linecap=\"round\" style=\"stroke:white;stroke-width:1\"/><line x1=\"384.466\" y1=\"260.776\" x2=\"384.466\" y2=\"258.307\" stroke-linecap=\"round\" style=\"stroke:white;stroke-width:1\"/><line x1=\"384.466\" y1=\"258.307\" x2=\"386.604\" y2=\"257.072\" stroke-linecap=\"round\" style=\"stroke:white;stroke-width:1\"/><line x1=\"386.604\" y1=\"257.072\" x2=\"388.742\" y2=\"258.307\" stroke-linecap=\"round\" style=\"stroke:white;stroke-width:1\"/><line x1=\"388.742\" y1=\"258.307\" x2=\"388.742\" y2=\"260.776\" stroke-linecap=\"round\" style=\"stroke:white;stroke-width:1\"/><line x1=\"388.742\" y1=\"260.776\" x2=\"390.88\" y2=\"259.541\" stroke-linecap=\"round\" style=\"stroke:white;stroke-width:1\"/><line x1=\"390.88\" y1=\"259.541\" x2=\"393.018\" y2=\"260.776\" stroke-linecap=\"round\" style=\"stroke:white;stroke-width:1\"/><line x1=\"393.018\" y1=\"260.776\" x2=\"393.018\" y2=\"258.307\" stroke-linecap=\"round\" style=\"stroke:white;stroke-width:1\"/><line x1=\"393.018\" y1=\"258.307\" x2=\"395.156\" y2=\"257.072\" stroke-linecap=\"round\" style=\"stroke:white;stroke-width:1\"/><line x1=\"395.156\" y1=\"257.072\" x2=\"393.018\" y2=\"255.837\" stroke-linecap=\"round\" style=\"stroke:white;stroke-width:1\"/><line x1=\"393.018\" y1=\"255.837\" x2=\"393.018\" y2=\"253.368\" stroke-linecap=\"round\" style=\"stroke:white;stroke-width:1\"/><line x1=\"393.018\" y1=\"253.368\" x2=\"395.156\" y2=\"252.133\" stroke-linecap=\"round\" style=\"stroke:white;stroke-width:1\"/><line x1=\"395.156\" y1=\"252.133\" x2=\"397.294\" y2=\"253.368\" stroke-linecap=\"round\" style=\"stroke:white;stroke-width:1\"/><line x1=\"397.294\" y1=\"253.368\" x2=\"397.294\" y2=\"250.899\" stroke-linecap=\"round\" style=\"stroke:white;stroke-width:1\"/><line x1=\"397.294\" y1=\"250.899\" x2=\"399.432\" y2=\"249.664\" stroke-linecap=\"round\" style=\"stroke:white;stroke-width:1\"/><line x1=\"399.432\" y1=\"249.664\" x2=\"401.57\" y2=\"250.899\" stroke-linecap=\"round\" style=\"stroke:white;stroke-width:1\"/><line x1=\"401.57\" y1=\"250.899\" x2=\"401.57\" y2=\"253.368\" stroke-linecap=\"round\" style=\"stroke:white;stroke-width:1\"/><line x1=\"401.57\" y1=\"253.368\" x2=\"403.708\" y2=\"252.133\" stroke-linecap=\"round\" style=\"stroke:white;stroke-width:1\"/><line x1=\"403.708\" y1=\"252.133\" x2=\"405.846\" y2=\"253.368\" stroke-linecap=\"round\" style=\"stroke:white;stroke-width:1\"/><line x1=\"405.846\" y1=\"253.368\" x2=\"405.846\" y2=\"255.837\" stroke-linecap=\"round\" style=\"stroke:white;stroke-width:1\"/><line x1=\"405.846\" y1=\"255.837\" x2=\"403.708\" y2=\"257.072\" stroke-linecap=\"round\" style=\"stroke:white;stroke-width:1\"/><line x1=\"403.708\" y1=\"257.072\" x2=\"405.846\" y2=\"258.307\" stroke-linecap=\"round\" style=\"stroke:white;stroke-width:1\"/><line x1=\"405.846\" y1=\"258.307\" x2=\"405.846\" y2=\"260.776\" stroke-linecap=\"round\" style=\"stroke:white;stroke-width:1\"/><line x1=\"405.846\" y1=\"260.776\" x2=\"407.984\" y2=\"259.541\" stroke-linecap=\"round\" style=\"stroke:white;stroke-width:1\"/><line x1=\"407.984\" y1=\"259.541\" x2=\"410.122\" y2=\"260.776\" stroke-linecap=\"round\" style=\"stroke:white;stroke-width:1\"/><line x1=\"410.122\" y1=\"260.776\" x2=\"410.122\" y2=\"258.307\" stroke-linecap=\"round\" style=\"stroke:white;stroke-width:1\"/><line x1=\"410.122\" y1=\"258.307\" x2=\"412.26\" y2=\"257.072\" stroke-linecap=\"round\" style=\"stroke:white;stroke-width:1\"/><line x1=\"412.26\" y1=\"257.072\" x2=\"414.398\" y2=\"258.307\" stroke-linecap=\"round\" style=\"stroke:white;stroke-width:1\"/><line x1=\"414.398\" y1=\"258.307\" x2=\"414.398\" y2=\"260.776\" stroke-linecap=\"round\" style=\"stroke:white;stroke-width:1\"/><line x1=\"414.398\" y1=\"260.776\" x2=\"416.536\" y2=\"259.541\" stroke-linecap=\"round\" style=\"stroke:white;stroke-width:1\"/><line x1=\"416.536\" y1=\"259.541\" x2=\"418.674\" y2=\"260.776\" stroke-linecap=\"round\" style=\"stroke:white;stroke-width:1\"/><line x1=\"418.674\" y1=\"260.776\" x2=\"418.674\" y2=\"263.245\" stroke-linecap=\"round\" style=\"stroke:white;stroke-width:1\"/><line x1=\"418.674\" y1=\"263.245\" x2=\"416.536\" y2=\"264.48\" stroke-linecap=\"round\" style=\"stroke:white;stroke-width:1\"/><line x1=\"416.536\" y1=\"264.48\" x2=\"418.674\" y2=\"265.715\" stroke-linecap=\"round\" style=\"stroke:white;stroke-width:1\"/><line x1=\"418.674\" y1=\"265.715\" x2=\"418.674\" y2=\"268.184\" stroke-linecap=\"round\" style=\"stroke:white;stroke-width:1\"/><line x1=\"418.674\" y1=\"268.184\" x2=\"416.536\" y2=\"269.419\" stroke-linecap=\"round\" style=\"stroke:white;stroke-width:1\"/><line x1=\"416.536\" y1=\"269.419\" x2=\"414.398\" y2=\"268.184\" stroke-linecap=\"round\" style=\"stroke:white;stroke-width:1\"/><line x1=\"414.398\" y1=\"268.184\" x2=\"414.398\" y2=\"270.653\" stroke-linecap=\"round\" style=\"stroke:white;stroke-width:1\"/><line x1=\"414.398\" y1=\"270.653\" x2=\"412.26\" y2=\"271.888\" stroke-linecap=\"round\" style=\"stroke:white;stroke-width:1\"/><line x1=\"412.26\" y1=\"271.888\" x2=\"414.398\" y2=\"273.123\" stroke-linecap=\"round\" style=\"stroke:white;stroke-width:1\"/><line x1=\"414.398\" y1=\"273.123\" x2=\"414.398\" y2=\"275.592\" stroke-linecap=\"round\" style=\"stroke:white;stroke-width:1\"/><line x1=\"414.398\" y1=\"275.592\" x2=\"416.536\" y2=\"274.357\" stroke-linecap=\"round\" style=\"stroke:white;stroke-width:1\"/><line x1=\"416.536\" y1=\"274.357\" x2=\"418.674\" y2=\"275.592\" stroke-linecap=\"round\" style=\"stroke:white;stroke-width:1\"/><line x1=\"418.674\" y1=\"275.592\" x2=\"418.674\" y2=\"278.061\" stroke-linecap=\"round\" style=\"stroke:white;stroke-width:1\"/><line x1=\"418.674\" y1=\"278.061\" x2=\"416.536\" y2=\"279.296\" stroke-linecap=\"round\" style=\"stroke:white;stroke-width:1\"/><line x1=\"416.536\" y1=\"279.296\" x2=\"418.674\" y2=\"280.531\" stroke-linecap=\"round\" style=\"stroke:white;stroke-width:1\"/><line x1=\"418.674\" y1=\"280.531\" x2=\"418.674\" y2=\"283.0\" stroke-linecap=\"round\" style=\"stroke:white;stroke-width:1\"/><line x1=\"418.674\" y1=\"283.0\" x2=\"420.812\" y2=\"281.765\" stroke-linecap=\"round\" style=\"stroke:white;stroke-width:1\"/><line x1=\"420.812\" y1=\"281.765\" x2=\"422.95\" y2=\"283.0\" stroke-linecap=\"round\" style=\"stroke:white;stroke-width:1\"/><line x1=\"422.95\" y1=\"283.0\" x2=\"422.95\" y2=\"280.531\" stroke-linecap=\"round\" style=\"stroke:white;stroke-width:1\"/><line x1=\"422.95\" y1=\"280.531\" x2=\"425.088\" y2=\"279.296\" stroke-linecap=\"round\" style=\"stroke:white;stroke-width:1\"/><line x1=\"425.088\" y1=\"279.296\" x2=\"427.226\" y2=\"280.531\" stroke-linecap=\"round\" style=\"stroke:white;stroke-width:1\"/><line x1=\"427.226\" y1=\"280.531\" x2=\"427.226\" y2=\"283.0\" stroke-linecap=\"round\" style=\"stroke:white;stroke-width:1\"/><line x1=\"427.226\" y1=\"283.0\" x2=\"429.364\" y2=\"281.765\" stroke-linecap=\"round\" style=\"stroke:white;stroke-width:1\"/><line x1=\"429.364\" y1=\"281.765\" x2=\"431.502\" y2=\"283.0\" stroke-linecap=\"round\" style=\"stroke:white;stroke-width:1\"/><line x1=\"431.502\" y1=\"283.0\" x2=\"431.502\" y2=\"280.531\" stroke-linecap=\"round\" style=\"stroke:white;stroke-width:1\"/><line x1=\"431.502\" y1=\"280.531\" x2=\"433.64\" y2=\"279.296\" stroke-linecap=\"round\" style=\"stroke:white;stroke-width:1\"/><line x1=\"433.64\" y1=\"279.296\" x2=\"431.502\" y2=\"278.061\" stroke-linecap=\"round\" style=\"stroke:white;stroke-width:1\"/><line x1=\"431.502\" y1=\"278.061\" x2=\"431.502\" y2=\"275.592\" stroke-linecap=\"round\" style=\"stroke:white;stroke-width:1\"/><line x1=\"431.502\" y1=\"275.592\" x2=\"433.64\" y2=\"274.357\" stroke-linecap=\"round\" style=\"stroke:white;stroke-width:1\"/><line x1=\"433.64\" y1=\"274.357\" x2=\"435.778\" y2=\"275.592\" stroke-linecap=\"round\" style=\"stroke:white;stroke-width:1\"/><line x1=\"435.778\" y1=\"275.592\" x2=\"435.778\" y2=\"273.123\" stroke-linecap=\"round\" style=\"stroke:white;stroke-width:1\"/><line x1=\"435.778\" y1=\"273.123\" x2=\"437.916\" y2=\"271.888\" stroke-linecap=\"round\" style=\"stroke:white;stroke-width:1\"/><line x1=\"437.916\" y1=\"271.888\" x2=\"440.054\" y2=\"273.123\" stroke-linecap=\"round\" style=\"stroke:white;stroke-width:1\"/><line x1=\"440.054\" y1=\"273.123\" x2=\"440.054\" y2=\"275.592\" stroke-linecap=\"round\" style=\"stroke:white;stroke-width:1\"/><line x1=\"440.054\" y1=\"275.592\" x2=\"442.192\" y2=\"274.357\" stroke-linecap=\"round\" style=\"stroke:white;stroke-width:1\"/><line x1=\"442.192\" y1=\"274.357\" x2=\"444.33\" y2=\"275.592\" stroke-linecap=\"round\" style=\"stroke:white;stroke-width:1\"/><line x1=\"444.33\" y1=\"275.592\" x2=\"444.33\" y2=\"278.061\" stroke-linecap=\"round\" style=\"stroke:white;stroke-width:1\"/><line x1=\"444.33\" y1=\"278.061\" x2=\"442.192\" y2=\"279.296\" stroke-linecap=\"round\" style=\"stroke:white;stroke-width:1\"/><line x1=\"442.192\" y1=\"279.296\" x2=\"444.33\" y2=\"280.531\" stroke-linecap=\"round\" style=\"stroke:white;stroke-width:1\"/><line x1=\"444.33\" y1=\"280.531\" x2=\"444.33\" y2=\"283.0\" stroke-linecap=\"round\" style=\"stroke:white;stroke-width:1\"/><line x1=\"444.33\" y1=\"283.0\" x2=\"446.468\" y2=\"281.765\" stroke-linecap=\"round\" style=\"stroke:white;stroke-width:1\"/><line x1=\"446.468\" y1=\"281.765\" x2=\"448.606\" y2=\"283.0\" stroke-linecap=\"round\" style=\"stroke:white;stroke-width:1\"/><line x1=\"448.606\" y1=\"283.0\" x2=\"448.606\" y2=\"280.531\" stroke-linecap=\"round\" style=\"stroke:white;stroke-width:1\"/><line x1=\"448.606\" y1=\"280.531\" x2=\"450.744\" y2=\"279.296\" stroke-linecap=\"round\" style=\"stroke:white;stroke-width:1\"/><line x1=\"450.744\" y1=\"279.296\" x2=\"452.882\" y2=\"280.531\" stroke-linecap=\"round\" style=\"stroke:white;stroke-width:1\"/><line x1=\"452.882\" y1=\"280.531\" x2=\"452.882\" y2=\"283.0\" stroke-linecap=\"round\" style=\"stroke:white;stroke-width:1\"/><line x1=\"452.882\" y1=\"283.0\" x2=\"455.02\" y2=\"281.765\" stroke-linecap=\"round\" style=\"stroke:white;stroke-width:1\"/><line x1=\"455.02\" y1=\"281.765\" x2=\"457.158\" y2=\"283.0\" stroke-linecap=\"round\" style=\"stroke:white;stroke-width:1\"/>\n",
              "        <g visibility=hidden transform=\"rotate(360,457.158,283.0) translate(439.158, 265.0)\">\n",
              "<path style=\" stroke:none;fill-rule:evenodd;fill:white;fill-opacity:1;\" d=\"M 18.214844 0.632812 C 16.109375 1.800781 15.011719 4.074219 15.074219 7.132812 L 15.085938 7.652344 L 14.785156 7.496094 C 13.476562 6.824219 11.957031 6.671875 10.40625 7.066406 C 8.46875 7.550781 6.515625 9.15625 4.394531 11.992188 C 3.0625 13.777344 2.679688 14.636719 3.042969 15.027344 L 3.15625 15.152344 L 3.519531 15.152344 C 4.238281 15.152344 4.828125 14.886719 8.1875 13.039062 C 9.386719 12.378906 10.371094 11.839844 10.378906 11.839844 C 10.386719 11.839844 10.355469 11.929688 10.304688 12.035156 C 9.832031 13.09375 9.257812 14.820312 8.96875 16.078125 C 7.914062 20.652344 8.617188 24.53125 11.070312 27.660156 C 11.351562 28.015625 11.363281 27.914062 10.972656 28.382812 C 8.925781 30.84375 7.945312 33.28125 8.238281 35.1875 C 8.289062 35.527344 8.28125 35.523438 8.917969 35.523438 C 10.941406 35.523438 13.074219 34.207031 15.136719 31.6875 C 15.359375 31.417969 15.328125 31.425781 15.5625 31.574219 C 16.292969 32.042969 18.023438 32.964844 18.175781 32.964844 C 18.335938 32.964844 19.941406 32.210938 20.828125 31.71875 C 20.996094 31.625 21.136719 31.554688 21.136719 31.558594 C 21.203125 31.664062 21.898438 32.414062 22.222656 32.730469 C 23.835938 34.300781 25.5625 35.132812 27.582031 35.300781 C 27.90625 35.328125 27.9375 35.308594 28.007812 34.984375 C 28.382812 33.242188 27.625 30.925781 25.863281 28.425781 L 25.542969 27.96875 L 25.699219 27.785156 C 28.945312 23.960938 29.132812 18.699219 26.257812 11.96875 L 26.207031 11.84375 L 27.945312 12.703125 C 31.53125 14.476562 32.316406 14.800781 33.03125 14.800781 C 33.976562 14.800781 33.78125 13.9375 32.472656 12.292969 C 28.519531 7.355469 25.394531 5.925781 21.921875 7.472656 L 21.558594 7.636719 L 21.578125 7.542969 C 21.699219 6.992188 21.761719 5.742188 21.699219 5.164062 C 21.496094 3.296875 20.664062 1.964844 19.003906 0.855469 C 18.480469 0.503906 18.457031 0.5 18.214844 0.632812\"/>\n",
              "</g>\n",
              "      </svg>\n",
              "    "
            ]
          },
          "metadata": {}
        }
      ]
    },
    {
      "cell_type": "code",
      "source": [],
      "metadata": {
        "id": "uG0oOwdf0WPH"
      },
      "execution_count": null,
      "outputs": []
    }
  ]
}