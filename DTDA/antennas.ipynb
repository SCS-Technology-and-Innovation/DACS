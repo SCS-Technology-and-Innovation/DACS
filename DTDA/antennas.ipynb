{
  "nbformat": 4,
  "nbformat_minor": 0,
  "metadata": {
    "colab": {
      "provenance": [],
      "authorship_tag": "ABX9TyNxW0O3JFPWw+xktcJKIgoD",
      "include_colab_link": true
    },
    "kernelspec": {
      "name": "python3",
      "display_name": "Python 3"
    },
    "language_info": {
      "name": "python"
    }
  },
  "cells": [
    {
      "cell_type": "markdown",
      "metadata": {
        "id": "view-in-github",
        "colab_type": "text"
      },
      "source": [
        "<a href=\"https://colab.research.google.com/github/SCS-Technology-and-Innovation/DACS/blob/main/DTDA/antennas.ipynb\" target=\"_parent\"><img src=\"https://colab.research.google.com/assets/colab-badge.svg\" alt=\"Open In Colab\"/></a>"
      ]
    },
    {
      "cell_type": "markdown",
      "source": [
        "# Eliminate the interference\n",
        "## Frequency-assignment to wireless antennas\n",
        "\n",
        "In the last module we worked with the delivery territories of pizza restaurants. Now, assume we are worrying about cellphone coverage instead. Again, we will simplify and assume a square town. We will place towers of a known, fixed range one by one and study the percentage of the town that has coverage. \n",
        "\n",
        "We do *not* want to place to antennas very close to one another, so let's first define a subroutine to determine how if a candidate position is too close to the already preseny antennas. To achieve this, we make use of *Euclidean distance.*"
      ],
      "metadata": {
        "id": "VxxaFyTLKE7V"
      }
    },
    {
      "cell_type": "code",
      "source": [
        "from math import sqrt # square root already exists as a subroutine in a library for math stuff\n",
        "\n",
        "def distance(p1, p2):\n",
        "  (r1, c1) = p1 # access row and column\n",
        "  (r2, c2) = p2\n",
        "  dr = r1 - r2 # subtract to compute how far apart they are\n",
        "  dc = c1 - c2\n",
        "  return sqrt(dr**2 + dc**2) \n",
        "\n",
        "# is the minimum distance between the existing antennas okay, if any, and the candidate position\n",
        "def farEnough(candidate, existing, threshold):\n",
        "  if len(existing) == 0: # no existing antennas\n",
        "    return True # it is not too close since there is nothing there\n",
        "  nearest = min( [ distance(candidate, antenna) for antenna in existing ] ) # distance to closest\n",
        "  return nearest > threshold # distance to closest is larger than threshold"
      ],
      "metadata": {
        "id": "QPFm-B3ALcbF"
      },
      "execution_count": 1,
      "outputs": []
    },
    {
      "cell_type": "markdown",
      "source": [
        "Let's think like engineers and stop worring about pixels. The town will be one unit wide and one unit long. Antenna positions will hence be values between zero and one. "
      ],
      "metadata": {
        "id": "A85AUzyCOMzx"
      }
    },
    {
      "cell_type": "code",
      "source": [
        "howMany = 12 # cellphone towers now instead of restaurants\n",
        "range = 0.1 # how far does the tower reach (assume circular coverage)\n",
        "margin = range / 2 # let's not place antennas too close to one another or to the edge of town\n",
        "\n",
        "from random import random # this one generates pseudorandom values from zero to one\n",
        "\n",
        "antennas = [] # empty list\n",
        "while len(antennas) < howMany: # until the length reaches the desired value\n",
        "  x = random()\n",
        "  y = random()\n",
        "  pos = (x, y) \n",
        "  if farEnough(pos, antennas, margin):\n",
        "      antennas.append(pos)\n",
        "antennas"
      ],
      "metadata": {
        "colab": {
          "base_uri": "https://localhost:8080/"
        },
        "id": "NYEP9ULkKgeX",
        "outputId": "754ee8b7-f2af-4576-c541-b2d1252b283f"
      },
      "execution_count": 2,
      "outputs": [
        {
          "output_type": "execute_result",
          "data": {
            "text/plain": [
              "[(0.6581157178467334, 0.48897675009567165),\n",
              " (0.8353529313053842, 0.5360999816540841),\n",
              " (0.9348165784684662, 0.049808489828894076),\n",
              " (0.5654144172874728, 0.7480514883261536),\n",
              " (0.8535159035445892, 0.336847544028383),\n",
              " (0.38144273068371426, 0.08529225832787413),\n",
              " (0.10368957953857816, 0.13991144187668236),\n",
              " (0.8023101946194369, 0.7078731771993061),\n",
              " (0.43842314086580947, 0.931762038576079),\n",
              " (0.38214840798257343, 0.6265253875229583),\n",
              " (0.006253814015771297, 0.0604356953207954),\n",
              " (0.5276290294197432, 0.8174570417476855)]"
            ]
          },
          "metadata": {},
          "execution_count": 2
        }
      ]
    },
    {
      "cell_type": "markdown",
      "source": [
        "It would still be nice to draw it, so we can use images like before. We just need to scale the decimal coordinates into pixel positions. Our (0, 0) will be the top left of the image and our (1, 1) will become the last pixel on the bottom right.\n",
        "\n",
        "When drawing rectangles or ellipses with PIL, we need to speak of the top left corner and the bottom right corner of the *bounding box* of the thing we wish to draw. If the antenna is centered at a known pixel, we have to move half the desired with up in terms of the row and left in terms of the column to center a rectangle at that position. We will use a circle to display the range."
      ],
      "metadata": {
        "id": "x5MfpIEZO2Mn"
      }
    },
    {
      "cell_type": "code",
      "source": [
        "groundColor = (0, 0, 0) # black\n",
        "antennaColor = (255, 255, 255) # white\n",
        "rangeColor = (255, 255, 0) # yellow\n",
        "\n",
        "size = 600 # make the image this many pixels wide and tall\n",
        "rangeUnit = range * size\n",
        "displayUnit = 5 # draw antennas as small squares that are twice this width\n",
        "\n",
        "from PIL import Image, ImageDraw\n",
        "town = Image.new('RGB', (size, size), groundColor)\n",
        "canvas = ImageDraw.Draw(town) # we want to DRAW instead of alter pixels\n",
        "\n",
        "for pos in antennas:\n",
        "    (x, y) = pos\n",
        "    col = size * x # let's make x the horizontal coordinate, meaning the pixel column\n",
        "    row = size * y # let's make y the vertical coordinate, meaning the pixel row   \n",
        "\n",
        "    # compute the bounding box for the rectangle that shows the antenna position\n",
        "    antennaTopLeftRow = row - displayUnit\n",
        "    antennaTopLeftColumn = col - displayUnit\n",
        "    antennaBottomRightRow = row + displayUnit\n",
        "    antennaBottomRightColumn = col + displayUnit\n",
        "    antennaBoundingBox = (antennaTopLeftRow, antennaTopLeftColumn, antennaBottomRightRow, antennaBottomRightColumn)\n",
        "    canvas.rectangle(antennaBoundingBox, fill = antennaColor) \n",
        "\n",
        "    # compute the bounding box for the circle that shows its range\n",
        "    rtr = row - rangeUnit\n",
        "    rtc = col - rangeUnit\n",
        "    rbr = row + rangeUnit\n",
        "    rbc = col + rangeUnit\n",
        "    rBB = (rtr, rtc, rbr, rbc)\n",
        "    canvas.ellipse(rBB, outline = rangeColor) \n",
        "\n",
        "display(town) # show "
      ],
      "metadata": {
        "colab": {
          "base_uri": "https://localhost:8080/",
          "height": 617
        },
        "id": "E7noKtamOfBN",
        "outputId": "71b0c411-bf32-4bcb-e7a8-7ce939930eac"
      },
      "execution_count": 3,
      "outputs": [
        {
          "output_type": "display_data",
          "data": {
            "text/plain": [
              "<PIL.Image.Image image mode=RGB size=600x600 at 0x7FE0FC2E7220>"
            ],
            "image/png": "[encoded data removed]"
          },
          "metadata": {}
        }
      ]
    },
    {
      "cell_type": "markdown",
      "source": [
        "How could we go about computing the total coverage? We cannot just add up the areas of the circles since some of them will overlap. Let's be clever and make use of the fact that we are drawing the whole thing. If instead of drawing the borders of the coverage ranges, we just fill the circles with yellow, we can then ask the image how many black pixels it has. \n",
        "\n",
        "Then, if we *normalize* by the total number of pixels, we get the proportion of the image that is black. This multiplied by a hundred gives us a percentage."
      ],
      "metadata": {
        "id": "iNnAOB6zS8w7"
      }
    },
    {
      "cell_type": "code",
      "source": [
        "town = Image.new('RGB', (size, size), groundColor)\n",
        "canvas = ImageDraw.Draw(town) # we want to DRAW instead of alter pixels\n",
        "\n",
        "for pos in antennas:\n",
        "    (x, y) = pos\n",
        "    col = size * x \n",
        "    row = size * y \n",
        "    rtr = row - rangeUnit\n",
        "    rtc = col - rangeUnit\n",
        "    rbr = row + rangeUnit\n",
        "    rbc = col + rangeUnit\n",
        "    rBB = (rtr, rtc, rbr, rbc)\n",
        "    canvas.ellipse(rBB, fill = rangeColor) # not outline anymore, use fill instead\n",
        "\n",
        "display(town) # show \n",
        "\n",
        "total = size * size\n",
        "uncovered = 0\n",
        "for pixel in town.getdata():\n",
        "    if pixel == groundColor:\n",
        "        uncovered += 1\n",
        "print(uncovered, 'uncovered pixels')\n",
        "proportion = uncovered / total\n",
        "percentage = 100 * proportion\n",
        "print('{:.1f}'.format(percentage), 'percent uncovered')"
      ],
      "metadata": {
        "colab": {
          "base_uri": "https://localhost:8080/",
          "height": 653
        },
        "id": "lNffR1fdTco6",
        "outputId": "f0980b95-88d9-4863-a10b-8ade4ebbee18"
      },
      "execution_count": 4,
      "outputs": [
        {
          "output_type": "display_data",
          "data": {
            "text/plain": [
              "<PIL.Image.Image image mode=RGB size=600x600 at 0x7FE0FC2D3130>"
            ],
            "image/png": "[encoded data removed]"
          },
          "metadata": {}
        },
        {
          "output_type": "stream",
          "name": "stdout",
          "text": [
            "245560 uncovered pixels\n",
            "68.2 percent uncovered\n"
          ]
        }
      ]
    },
    {
      "cell_type": "markdown",
      "source": [
        "This calculation sounds very much like a good subroutine for us to use whenever we need to compute the coverage as a number."
      ],
      "metadata": {
        "id": "ExGkA5kXWy3l"
      }
    },
    {
      "cell_type": "code",
      "source": [
        "def coverage(image, background):\n",
        "  width, height = image.size\n",
        "  total = width * height\n",
        "  uncovered = 0\n",
        "  for pixel in image.getdata():\n",
        "     if pixel == background:\n",
        "         uncovered += 1\n",
        "  return 1 - uncovered / total # the proportion COVERED by the NON-background pixels\n",
        "\n",
        "100 * coverage(town, groundColor)"
      ],
      "metadata": {
        "colab": {
          "base_uri": "https://localhost:8080/"
        },
        "id": "CoiDXnkYW7ti",
        "outputId": "c4a28525-e01b-4459-9394-f1a6c3b3696a"
      },
      "execution_count": 5,
      "outputs": [
        {
          "output_type": "execute_result",
          "data": {
            "text/plain": [
              "31.788888888888888"
            ]
          },
          "metadata": {},
          "execution_count": 5
        }
      ]
    },
    {
      "cell_type": "markdown",
      "source": [
        "So, now we could keep adding antennas one by one until the whole zone has been covered. At the end, we could visualize them with just the positions and the outlines of the ranges to see the outcome.\n",
        "\n",
        "First, let's improve our logic. The coverage is incomplete as long as at least some of the zone is uncovered. We do not really *need* to know the percentage, we just need to know if there are still places that are not covered."
      ],
      "metadata": {
        "id": "-6xBxf58Uru4"
      }
    },
    {
      "cell_type": "code",
      "source": [
        "def holes(image, background):\n",
        "  width, height = image.size\n",
        "  for pixel in image.getdata():\n",
        "    if pixel == background:\n",
        "        return True\n",
        "\n",
        "antennas = [] # empty list\n",
        "threshold = 0.95 # what proportion needs to be covered before we finish \n",
        "permitted = 20 # how many times to try at maximum when failing to find a position\n",
        "attempts = permitted\n",
        "\n",
        "# let's use an auxiliary image just to track the coverage\n",
        "aux = Image.new('RGB', (size, size), groundColor)\n",
        "cov = ImageDraw.Draw(aux) \n",
        "# and a second image that we actually want to SEE at the end\n",
        "town = Image.new('RGB', (size, size), groundColor)\n",
        "canvas = ImageDraw.Draw(town) \n",
        "\n",
        "while holes(aux, groundColor): # while there are still areas to cover\n",
        "  x = random()\n",
        "  y = random()\n",
        "  pos = (x, y) \n",
        "  if farEnough(pos, antennas, margin): # add an antenna\n",
        "      attempts = permitted\n",
        "      antennas.append(pos)\n",
        "      col = size * x \n",
        "      row = size * y \n",
        "      rtr = row - rangeUnit\n",
        "      rtc = col - rangeUnit\n",
        "      rbr = row + rangeUnit\n",
        "      rbc = col + rangeUnit\n",
        "      cov.ellipse((rtr, rtc, rbr, rbc), fill = rangeColor) \n",
        "      canvas.ellipse((rtr, rtc, rbr, rbc), outline = rangeColor) \n",
        "  else: # in case it was NOT far enough\n",
        "      attempts -= 1 # one less attempt remains\n",
        "      if attempts == 0:\n",
        "          perc = 100 * coverage(aux, groundColor)\n",
        "          print(f'Ran out of attempts, bailing out at a {perc:.2f} percent coverage')\n",
        "          break"
      ],
      "metadata": {
        "id": "SuY6RQAtU7ux"
      },
      "execution_count": 20,
      "outputs": []
    },
    {
      "cell_type": "markdown",
      "source": [
        "Let's look at the coverage in the auxiliary image."
      ],
      "metadata": {
        "id": "VfsrZTeWYDpX"
      }
    },
    {
      "cell_type": "code",
      "source": [
        "display(aux)"
      ],
      "metadata": {
        "colab": {
          "base_uri": "https://localhost:8080/",
          "height": 617
        },
        "id": "oCzHri4eYHOp",
        "outputId": "31370057-972f-4c5e-af7c-b897ab401809"
      },
      "execution_count": 21,
      "outputs": [
        {
          "output_type": "display_data",
          "data": {
            "text/plain": [
              "<PIL.Image.Image image mode=RGB size=600x600 at 0x7FE0E671F430>"
            ],
            "image/png": "[encoded data removed]"
          },
          "metadata": {}
        }
      ]
    },
    {
      "cell_type": "markdown",
      "source": [
        "How about the antenna ranges?"
      ],
      "metadata": {
        "id": "AWw7A80qYS-c"
      }
    },
    {
      "cell_type": "code",
      "source": [
        "display(town)"
      ],
      "metadata": {
        "colab": {
          "base_uri": "https://localhost:8080/",
          "height": 617
        },
        "id": "g3FhK_-BYCJq",
        "outputId": "fe677b41-0e89-4976-e91b-30efd80bbe3f"
      },
      "execution_count": 22,
      "outputs": [
        {
          "output_type": "display_data",
          "data": {
            "text/plain": [
              "<PIL.Image.Image image mode=RGB size=600x600 at 0x7FE0E671FF10>"
            ],
            "image/png": "[encoded data removed]"
          },
          "metadata": {}
        }
      ]
    },
    {
      "cell_type": "markdown",
      "source": [
        "Could we maybe save some money and get rid of some antennas without a significant loss of coverage? We could try removing antennas at random and then recompute everything but that sounds like a whole lot of repeating calculations with tons of auxiliary images. \n",
        "\n",
        "Instead, let's look at how much a new candidate antenna would *expand* the coverage and reject it if the contribution is insignificant. To determine the significance or lack thereof, we can look at the pixels that would fall within the range of the candidate antenna and see what proportion of those are *presently* uncovered. \n",
        "\n",
        "To make calculations simpler, we can just use the bounding box of the circle instead of the circle itself."
      ],
      "metadata": {
        "id": "C6SQsdMtZAms"
      }
    },
    {
      "cell_type": "code",
      "source": [
        "from random import random # to see a random sample\n",
        "\n",
        "# let's use an auxiliary image just to track the coverage\n",
        "aux = Image.new('RGB', (size, size), groundColor)\n",
        "cov = ImageDraw.Draw(aux) \n",
        "\n",
        "margin = range / 2 # let's establish a margin, too\n",
        "span = 1 - 2 * margin # antennas will not go close to edge of town\n",
        "\n",
        "antennas = [] # empty list\n",
        "threshold = 0.7 # each antenna should cover at leats 30% new area\n",
        "permitted = 100 # give it many more tries\n",
        "attempts = permitted\n",
        "\n",
        "while holes(aux, groundColor): # while there are still areas to cover\n",
        "  x = margin + span * random()\n",
        "  y = margin + span * random()\n",
        "  pos = (x, y) \n",
        "  col = size * x \n",
        "  row = size * y \n",
        "  bb = (row - rangeUnit, col - rangeUnit, row + rangeUnit, col + rangeUnit)\n",
        "  zone = aux.crop(bb) # crop the subimage contained by the bounding box\n",
        "  present = coverage(zone, groundColor) # what proportion is covered already\n",
        "  if present < threshold: # we would cover enough new area\n",
        "      if random() < 0.1:\n",
        "        display(zone) # let's see the area on occasion\n",
        "        print(present) # and it's \"local coverage\"\n",
        "      attempts = permitted\n",
        "      antennas.append(pos)\n",
        "      cov.ellipse(bb, fill = rangeColor) \n",
        "  else: # in case it was insignificant\n",
        "      attempts -= 1 # one less attempt remains\n",
        "      if attempts == 0:\n",
        "          perc = 100 * coverage(aux, groundColor)\n",
        "          print(f'Ran out of attempts, bailing out at a {perc} percent coverage')\n",
        "          break"
      ],
      "metadata": {
        "colab": {
          "base_uri": "https://localhost:8080/",
          "height": 862
        },
        "id": "fLuYs4LyZdN4",
        "outputId": "bab0754e-d46c-4694-ce47-60f816b87386"
      },
      "execution_count": 31,
      "outputs": [
        {
          "output_type": "display_data",
          "data": {
            "text/plain": [
              "<PIL.Image.Image image mode=RGB size=120x120 at 0x7FE0FC2D3250>"
            ],
            "image/png": "[encoded data removed]"
          },
          "metadata": {}
        },
        {
          "output_type": "stream",
          "name": "stdout",
          "text": [
            "0.0\n"
          ]
        },
        {
          "output_type": "display_data",
          "data": {
            "text/plain": [
              "<PIL.Image.Image image mode=RGB size=120x120 at 0x7FE0E5629A60>"
            ],
            "image/png": "[encoded data removed]"
          },
          "metadata": {}
        },
        {
          "output_type": "stream",
          "name": "stdout",
          "text": [
            "0.6823611111111111\n"
          ]
        },
        {
          "output_type": "display_data",
          "data": {
            "text/plain": [
              "<PIL.Image.Image image mode=RGB size=120x120 at 0x7FE0FC1522B0>"
            ],
            "image/png": "[encoded data removed]"
          },
          "metadata": {}
        },
        {
          "output_type": "stream",
          "name": "stdout",
          "text": [
            "0.19638888888888884\n"
          ]
        },
        {
          "output_type": "display_data",
          "data": {
            "text/plain": [
              "<PIL.Image.Image image mode=RGB size=120x120 at 0x7FE0E5629F40>"
            ],
            "image/png": "[encoded data removed]"
          },
          "metadata": {}
        },
        {
          "output_type": "stream",
          "name": "stdout",
          "text": [
            "0.17138888888888892\n"
          ]
        },
        {
          "output_type": "display_data",
          "data": {
            "text/plain": [
              "<PIL.Image.Image image mode=RGB size=120x120 at 0x7FE0E5629F40>"
            ],
            "image/png": "[encoded data removed]"
          },
          "metadata": {}
        },
        {
          "output_type": "stream",
          "name": "stdout",
          "text": [
            "0.6938888888888889\n"
          ]
        },
        {
          "output_type": "display_data",
          "data": {
            "text/plain": [
              "<PIL.Image.Image image mode=RGB size=120x120 at 0x7FE0E5629A90>"
            ],
            "image/png": "[encoded data removed]"
          },
          "metadata": {}
        },
        {
          "output_type": "stream",
          "name": "stdout",
          "text": [
            "0.6222222222222222\n",
            "Ran out of attempts, bailing out at a 94.93 percent coverage\n"
          ]
        }
      ]
    },
    {
      "cell_type": "markdown",
      "source": [
        "What's the end result?"
      ],
      "metadata": {
        "id": "XGGo2iM5Pl8G"
      }
    },
    {
      "cell_type": "code",
      "source": [
        "print(len(antennas), 'antennas')\n",
        "display(aux)"
      ],
      "metadata": {
        "colab": {
          "base_uri": "https://localhost:8080/",
          "height": 635
        },
        "id": "GS_eSGhrPnIr",
        "outputId": "a5667ccf-1f5d-4424-e5e5-358088abd3d9"
      },
      "execution_count": 32,
      "outputs": [
        {
          "output_type": "stream",
          "name": "stdout",
          "text": [
            "63 antennas\n"
          ]
        },
        {
          "output_type": "display_data",
          "data": {
            "text/plain": [
              "<PIL.Image.Image image mode=RGB size=600x600 at 0x7FE0FC2D34C0>"
            ],
            "image/png": "[encoded data removed]"
          },
          "metadata": {}
        }
      ]
    },
    {
      "cell_type": "markdown",
      "source": [
        "In the real world, we would want the *smallest* possible number of antennas while simultaneously achieving the *highest* possible total coverage. This is called a **bi-objective optimization problem** because we have two *objective* functions:\n",
        "\n",
        "\n",
        "1.   the number of antennas (which we wish to *minimize*) and\n",
        "2.   the total coverage (which we wish to *maximize*).\n",
        "\n"
      ],
      "metadata": {
        "id": "KNfbHdmGh4pc"
      }
    }
  ]
}