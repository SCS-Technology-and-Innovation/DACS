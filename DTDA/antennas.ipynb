{
  "nbformat": 4,
  "nbformat_minor": 0,
  "metadata": {
    "colab": {
      "provenance": [],
      "authorship_tag": "ABX9TyMtt+SSHLZ9w8tXfe0baRqH",
      "include_colab_link": true
    },
    "kernelspec": {
      "name": "python3",
      "display_name": "Python 3"
    },
    "language_info": {
      "name": "python"
    }
  },
  "cells": [
    {
      "cell_type": "markdown",
      "metadata": {
        "id": "view-in-github",
        "colab_type": "text"
      },
      "source": [
        "<a href=\"https://colab.research.google.com/github/SCS-Technology-and-Innovation/DACS/blob/main/DTDA/antennas.ipynb\" target=\"_parent\"><img src=\"https://colab.research.google.com/assets/colab-badge.svg\" alt=\"Open In Colab\"/></a>"
      ]
    },
    {
      "cell_type": "markdown",
      "source": [
        "# Eliminate the interference\n",
        "## Frequency-assignment to wireless antennas\n",
        "\n",
        "In the last module we worked with the delivery territories of pizza restaurants. Now, assume we are worrying about cellphone coverage instead. Again, we will simplify and assume a square town. We will place towers of a known, fixed range one by one and study the percentage of the town that has coverage. \n",
        "\n",
        "We do *not* want to place to antennas very close to one another, so let's first define a subroutine to determine how if a candidate position is too close to the already preseny antennas. To achieve thie, we make use of our old friend, the Euclidean distance."
      ],
      "metadata": {
        "id": "VxxaFyTLKE7V"
      }
    },
    {
      "cell_type": "code",
      "source": [
        "from math import sqrt # square root already exists as a subroutine in a library for math stuff\n",
        "\n",
        "def distance(p1, p2):\n",
        "  (r1, c1) = p1 # access row and column\n",
        "  (r2, c2) = p2\n",
        "  dr = r1 - r2 # subtract to compute how far apart they are\n",
        "  dc = c1 - c2\n",
        "  return sqrt(dr**2 + dc**2) \n",
        "\n",
        "# is the minimum distance between the existing antennas okay, if any, and the candidate position\n",
        "def farEnough(candidate, existing, threshold):\n",
        "  if len(existing) == 0: # no existing antennas\n",
        "    return True # it is not too close since there is nothing there\n",
        "  nearest = min( [ distance(candidate, antenna) for antenna in existing ] ) # distance to closest\n",
        "  return nearest > threshold # distance to closest is larger than threshold"
      ],
      "metadata": {
        "id": "QPFm-B3ALcbF"
      },
      "execution_count": 38,
      "outputs": []
    },
    {
      "cell_type": "markdown",
      "source": [
        "Let's think like engineers and stop worring about pixels. The town will be one unit wide and one unit long. Antenna positions will hence be values between zero and one. "
      ],
      "metadata": {
        "id": "A85AUzyCOMzx"
      }
    },
    {
      "cell_type": "code",
      "source": [
        "howMany = 12 # cellphone towers now instead of restaurants\n",
        "range = 0.1 # how far does the tower reach (assume circular coverage)\n",
        "margin = range / 2 # let's not place antennas too close to one another or to the edge of town\n",
        "\n",
        "from random import random # this one generates pseudorandom values from zero to one\n",
        "\n",
        "antennas = [] # empty list\n",
        "while len(antennas) < howMany: # until the length reaches the desired value\n",
        "  x = random()\n",
        "  y = random()\n",
        "  pos = (x, y) \n",
        "  if farEnough(pos, antennas, margin):\n",
        "      antennas.append(pos)\n",
        "antennas"
      ],
      "metadata": {
        "colab": {
          "base_uri": "https://localhost:8080/"
        },
        "id": "NYEP9ULkKgeX",
        "outputId": "0f66a4d5-1588-4cb8-a80f-1b684574de3e"
      },
      "execution_count": 39,
      "outputs": [
        {
          "output_type": "execute_result",
          "data": {
            "text/plain": [
              "[(0.7858662650411856, 0.5034957378760249),\n",
              " (0.4525101200283256, 0.4144031941126366),\n",
              " (0.0761458651636443, 0.3477744201829115),\n",
              " (0.31458116684520243, 0.907058559594315),\n",
              " (0.441161942012263, 0.5927758410622224),\n",
              " (0.22138498384554128, 0.2811438912302133),\n",
              " (0.6252344785208933, 0.14129031003748693),\n",
              " (0.19054922925073658, 0.4424024646464634),\n",
              " (0.8417596345432801, 0.8948605698441383),\n",
              " (0.03789824078333326, 0.250211184757397),\n",
              " (0.29261639279643314, 0.6441631444877611),\n",
              " (0.6185207334689798, 0.7382678892040259)]"
            ]
          },
          "metadata": {},
          "execution_count": 39
        }
      ]
    },
    {
      "cell_type": "markdown",
      "source": [
        "It would still be nice to draw it, so we can use images like before. We just need to scale the decimal coordinates into pixel positions. Our (0, 0) will be the top left of the image and our (1, 1) will become the last pixel on the bottom right.\n",
        "\n",
        "When drawing rectangles or ellipses with PIL, we need to speak of the top left corner and the bottom right corner of the *bounding box* of the thing we wish to draw. If the antenna is centered at a known pixel, we have to move half the desired with up in terms of the row and left in terms of the column to center a rectangle at that position. We will use a circle to display the range."
      ],
      "metadata": {
        "id": "x5MfpIEZO2Mn"
      }
    },
    {
      "cell_type": "code",
      "source": [
        "groundColor = (0, 0, 0) # black\n",
        "antennaColor = (255, 255, 255) # white\n",
        "rangeColor = (255, 255, 0) # yellow\n",
        "\n",
        "size = 600 # make the image this many pixels wide and tall\n",
        "rangeUnit = range * size\n",
        "displayUnit = 5 # draw antennas as small squares that are twice this width\n",
        "\n",
        "from PIL import Image, ImageDraw\n",
        "town = Image.new('RGB', (size, size), groundColor)\n",
        "canvas = ImageDraw.Draw(town) # we want to DRAW instead of alter pixels\n",
        "\n",
        "for pos in antennas:\n",
        "    (x, y) = pos\n",
        "    col = size * x # let's make x the horizontal coordinate, meaning the pixel column\n",
        "    row = size * y # let's make y the vertical coordinate, meaning the pixel row   \n",
        "\n",
        "    # compute the bounding box for the rectangle that shows the antenna position\n",
        "    antennaTopLeftRow = row - displayUnit\n",
        "    antennaTopLeftColumn = col - displayUnit\n",
        "    antennaBottomRightRow = row + displayUnit\n",
        "    antennaBottomRightColumn = col + displayUnit\n",
        "    antennaBoundingBox = (antennaTopLeftRow, antennaTopLeftColumn, antennaBottomRightRow, antennaBottomRightColumn)\n",
        "    canvas.rectangle(antennaBoundingBox, fill = antennaColor) \n",
        "\n",
        "    # compute the bounding box for the circle that shows its range\n",
        "    rtr = row - rangeUnit\n",
        "    rtc = col - rangeUnit\n",
        "    rbr = row + rangeUnit\n",
        "    rbc = col + rangeUnit\n",
        "    rBB = (rtr, rtc, rbr, rbc)\n",
        "    canvas.ellipse(rBB, outline = rangeColor) \n",
        "\n",
        "display(town) # show "
      ],
      "metadata": {
        "colab": {
          "base_uri": "https://localhost:8080/",
          "height": 617
        },
        "id": "E7noKtamOfBN",
        "outputId": "0c49b79d-13a8-4dc4-f4d9-3fc3608ad302"
      },
      "execution_count": 40,
      "outputs": [
        {
          "output_type": "display_data",
          "data": {
            "text/plain": [
              "<PIL.Image.Image image mode=RGB size=600x600 at 0x7FE56927F400>"
            ],
            "image/png": "[encoded data removed]"
          },
          "metadata": {}
        }
      ]
    },
    {
      "cell_type": "markdown",
      "source": [
        "How could we go about computing the total coverage? We cannot just add up the areas of the circles since some of them will overlap. Let's be clever and make use of the fact that we are drawing the whole thing. If instead of drawing the borders of the coverage ranges, we just fill the circles with yellow, we can then ask the image how many black pixels it has. \n",
        "\n",
        "Then, if we *normalize* by the total number of pixels, we get the proportion of the image that is black. This multiplied by a hundred gives us a percentage."
      ],
      "metadata": {
        "id": "iNnAOB6zS8w7"
      }
    },
    {
      "cell_type": "code",
      "source": [
        "town = Image.new('RGB', (size, size), groundColor)\n",
        "canvas = ImageDraw.Draw(town) # we want to DRAW instead of alter pixels\n",
        "\n",
        "for pos in antennas:\n",
        "    (x, y) = pos\n",
        "    col = size * x \n",
        "    row = size * y \n",
        "    rtr = row - rangeUnit\n",
        "    rtc = col - rangeUnit\n",
        "    rbr = row + rangeUnit\n",
        "    rbc = col + rangeUnit\n",
        "    rBB = (rtr, rtc, rbr, rbc)\n",
        "    canvas.ellipse(rBB, fill = rangeColor) # not outline anymore, use fill instead\n",
        "\n",
        "display(town) # show \n",
        "\n",
        "total = size * size\n",
        "uncovered = 0\n",
        "for pixel in town.getdata():\n",
        "    if pixel == groundColor:\n",
        "        uncovered += 1\n",
        "print(uncovered, 'uncovered pixels')\n",
        "proportion = uncovered / total\n",
        "percentage = 100 * proportion\n",
        "print('{:.1f}'.format(percentage), 'percent uncovered')"
      ],
      "metadata": {
        "colab": {
          "base_uri": "https://localhost:8080/",
          "height": 653
        },
        "id": "lNffR1fdTco6",
        "outputId": "1eec8f9a-74c7-4e38-9d63-ce500adb2aba"
      },
      "execution_count": 41,
      "outputs": [
        {
          "output_type": "display_data",
          "data": {
            "text/plain": [
              "<PIL.Image.Image image mode=RGB size=600x600 at 0x7FE5718D8AC0>"
            ],
            "image/png": "[encoded data removed]"
          },
          "metadata": {}
        },
        {
          "output_type": "stream",
          "name": "stdout",
          "text": [
            "236255 uncovered pixels\n",
            "65.6 percent uncovered\n"
          ]
        }
      ]
    },
    {
      "cell_type": "markdown",
      "source": [
        "This calculation sounds very much like a good subroutine for us to use whenever we need to compute the coverage as a number."
      ],
      "metadata": {
        "id": "ExGkA5kXWy3l"
      }
    },
    {
      "cell_type": "code",
      "source": [
        "def coverage(image, background):\n",
        "  width, height = image.size\n",
        "  total = width * height\n",
        "  uncovered = 0\n",
        "  for pixel in image.getdata():\n",
        "     if pixel == background:\n",
        "         uncovered += 1\n",
        "  return 1 - uncovered / total # the proportion COVERED by the NON-background pixels\n",
        "\n",
        "100 * coverage(town, groundColor)"
      ],
      "metadata": {
        "colab": {
          "base_uri": "https://localhost:8080/"
        },
        "id": "CoiDXnkYW7ti",
        "outputId": "451915dd-7a5c-492b-dc52-9c82a563480c"
      },
      "execution_count": 64,
      "outputs": [
        {
          "output_type": "execute_result",
          "data": {
            "text/plain": [
              "0.0"
            ]
          },
          "metadata": {},
          "execution_count": 64
        }
      ]
    },
    {
      "cell_type": "markdown",
      "source": [
        "So, now we could keep adding antennas one by one until the whole zone has been covered. At the end, we could visualize them with just the positions and the outlines of the ranges to see the outcome.\n",
        "\n",
        "First, let's improve our logic. The coverage is incomplete as long as at least some of the zone is uncovered. We do not really *need* to know the percentage, we just need to know if there are still places that are not covered."
      ],
      "metadata": {
        "id": "-6xBxf58Uru4"
      }
    },
    {
      "cell_type": "code",
      "source": [
        "def holes(image, background):\n",
        "  width, height = image.size\n",
        "  for pixel in image.getdata():\n",
        "    if pixel == background:\n",
        "        return True\n",
        "\n",
        "antennas = [] # empty list\n",
        "permitted = 20 # how many times to try at maximum when failing to find a position\n",
        "attempts = permitted\n",
        "\n",
        "# let's use an auxiliary image just to track the coverage\n",
        "aux = Image.new('RGB', (size, size), groundColor)\n",
        "cov = ImageDraw.Draw(aux) \n",
        "# and a second image that we actually want to SEE at the end\n",
        "town = Image.new('RGB', (size, size), groundColor)\n",
        "canvas = ImageDraw.Draw(town) \n",
        "\n",
        "while holes(aux, groundColor): # while there are still areas to cover\n",
        "  x = random()\n",
        "  y = random()\n",
        "  pos = (x, y) \n",
        "  if farEnough(pos, antennas, margin): # add an antenna\n",
        "      attempts = permitted\n",
        "      antennas.append(pos)\n",
        "      col = size * x \n",
        "      row = size * y \n",
        "      rtr = row - rangeUnit\n",
        "      rtc = col - rangeUnit\n",
        "      rbr = row + rangeUnit\n",
        "      rbc = col + rangeUnit\n",
        "      cov.ellipse((rtr, rtc, rbr, rbc), fill = rangeColor) \n",
        "      canvas.ellipse((rtr, rtc, rbr, rbc), outline = rangeColor) \n",
        "  else: # in case it was NOT far enough\n",
        "      attempts -= 1 # one less attempt remains\n",
        "      if attempts == 0:\n",
        "          perc = 100 * coverage(aux, groundColor)\n",
        "          print(f'Ran out of attempts, bailing out at a {perc} percent coverage')\n",
        "          break"
      ],
      "metadata": {
        "colab": {
          "base_uri": "https://localhost:8080/"
        },
        "id": "SuY6RQAtU7ux",
        "outputId": "1441eb09-5c66-442f-bc8d-88ed476bd067"
      },
      "execution_count": 53,
      "outputs": [
        {
          "output_type": "stream",
          "name": "stdout",
          "text": [
            "Ran out of attempts, bailing out at a 99.99666666666667 percent coverage\n"
          ]
        }
      ]
    },
    {
      "cell_type": "markdown",
      "source": [
        "Let's look at the coverage in the auxiliary image."
      ],
      "metadata": {
        "id": "VfsrZTeWYDpX"
      }
    },
    {
      "cell_type": "code",
      "source": [
        "display(aux)"
      ],
      "metadata": {
        "colab": {
          "base_uri": "https://localhost:8080/",
          "height": 617
        },
        "id": "oCzHri4eYHOp",
        "outputId": "e759c55e-9a29-4699-a9a0-1b18ebbbc005"
      },
      "execution_count": 54,
      "outputs": [
        {
          "output_type": "display_data",
          "data": {
            "text/plain": [
              "<PIL.Image.Image image mode=RGB size=600x600 at 0x7FE569330CD0>"
            ],
            "image/png": "[encoded data removed]"
          },
          "metadata": {}
        }
      ]
    },
    {
      "cell_type": "markdown",
      "source": [
        "How about the antenna ranges?"
      ],
      "metadata": {
        "id": "AWw7A80qYS-c"
      }
    },
    {
      "cell_type": "code",
      "source": [
        "display(town)"
      ],
      "metadata": {
        "colab": {
          "base_uri": "https://localhost:8080/",
          "height": 617
        },
        "id": "g3FhK_-BYCJq",
        "outputId": "17854233-edad-422c-e1b9-e804888be673"
      },
      "execution_count": 55,
      "outputs": [
        {
          "output_type": "display_data",
          "data": {
            "text/plain": [
              "<PIL.Image.Image image mode=RGB size=600x600 at 0x7FE569330DF0>"
            ],
            "image/png": "[encoded data removed]"
          },
          "metadata": {}
        }
      ]
    },
    {
      "cell_type": "markdown",
      "source": [
        "Could we maybe save some money and get rid of some antennas without a significant loss of coverage? We could try removing antennas at random and then recompute everything but that sounds like a whole lot of repeating calculations with tons of auxiliary images. \n",
        "\n",
        "Instead, let's look at how much a new candidate antenna would *expand* the coverage and reject it if the contribution is insignificant. To determine the significance or lack thereof, we can look at the pixels that would fall within the range of the candidate antenna and see what proportion of those are *presently* uncovered. \n",
        "\n",
        "To make calculations simpler, we can just use the bounding box of the circle instead of the circle itself."
      ],
      "metadata": {
        "id": "C6SQsdMtZAms"
      }
    },
    {
      "cell_type": "code",
      "source": [
        "antennas = [] # empty list\n",
        "permitted = 20 # how many times to try at maximum when failing to find a position\n",
        "attempts = permitted\n",
        "\n",
        "# let's use an auxiliary image just to track the coverage\n",
        "aux = Image.new('RGB', (size, size), groundColor)\n",
        "cov = ImageDraw.Draw(aux) \n",
        "\n",
        "threshold = 0.5 # at most half covered at present\n",
        "span = 1 - 2 * range # let's establish a margin, too\n",
        "\n",
        "while holes(aux, groundColor): # while there are still areas to cover\n",
        "  x = range + span * random()\n",
        "  y = range + span * random()\n",
        "  pos = (x, y) \n",
        "  col = size * x \n",
        "  row = size * y \n",
        "  bb = (row - rangeUnit, col - rangeUnit, row + rangeUnit, col + rangeUnit)\n",
        "  zone = aux.crop(bb) # crop the subimage contained by the bounding box\n",
        "  present = coverage(zone, groundColor) # what proportion is covered already\n",
        "  if present < threshold: # we would cover enough new area\n",
        "      display(zone) # let's see the area\n",
        "      print(present)\n",
        "      attempts = permitted\n",
        "      antennas.append(pos)\n",
        "      cov.ellipse(bb, fill = rangeColor) \n",
        "  else: # in case it was insignificant\n",
        "      attempts -= 1 # one less attempt remains\n",
        "      if attempts == 0:\n",
        "          perc = 100 * coverage(aux, groundColor)\n",
        "          print(f'Ran out of attempts, bailing out at a {perc} percent coverage')\n",
        "          break"
      ],
      "metadata": {
        "colab": {
          "base_uri": "https://localhost:8080/",
          "height": 1000
        },
        "id": "fLuYs4LyZdN4",
        "outputId": "8aae1c95-8d3b-463c-94cd-641394846dce"
      },
      "execution_count": 69,
      "outputs": [
        {
          "output_type": "display_data",
          "data": {
            "text/plain": [
              "<PIL.Image.Image image mode=RGB size=120x120 at 0x7FE569228460>"
            ],
            "image/png": "[encoded data removed]"
          },
          "metadata": {}
        },
        {
          "output_type": "stream",
          "name": "stdout",
          "text": [
            "0.0\n"
          ]
        },
        {
          "output_type": "display_data",
          "data": {
            "text/plain": [
              "<PIL.Image.Image image mode=RGB size=120x120 at 0x7FE569228160>"
            ],
            "image/png": "[encoded data removed]"
          },
          "metadata": {}
        },
        {
          "output_type": "stream",
          "name": "stdout",
          "text": [
            "0.0\n"
          ]
        },
        {
          "output_type": "display_data",
          "data": {
            "text/plain": [
              "<PIL.Image.Image image mode=RGB size=120x120 at 0x7FE5692287C0>"
            ],
            "image/png": "[encoded data removed]"
          },
          "metadata": {}
        },
        {
          "output_type": "stream",
          "name": "stdout",
          "text": [
            "0.05743055555555554\n"
          ]
        },
        {
          "output_type": "display_data",
          "data": {
            "text/plain": [
              "<PIL.Image.Image image mode=RGB size=120x120 at 0x7FE569228B20>"
            ],
            "image/png": "[encoded data removed]"
          },
          "metadata": {}
        },
        {
          "output_type": "stream",
          "name": "stdout",
          "text": [
            "0.058541666666666714\n"
          ]
        },
        {
          "output_type": "display_data",
          "data": {
            "text/plain": [
              "<PIL.Image.Image image mode=RGB size=120x120 at 0x7FE569228310>"
            ],
            "image/png": "[encoded data removed]"
          },
          "metadata": {}
        },
        {
          "output_type": "stream",
          "name": "stdout",
          "text": [
            "0.4892361111111111\n"
          ]
        },
        {
          "output_type": "display_data",
          "data": {
            "text/plain": [
              "<PIL.Image.Image image mode=RGB size=120x120 at 0x7FE569228310>"
            ],
            "image/png": "[encoded data removed]"
          },
          "metadata": {}
        },
        {
          "output_type": "stream",
          "name": "stdout",
          "text": [
            "0.11131944444444442\n"
          ]
        },
        {
          "output_type": "display_data",
          "data": {
            "text/plain": [
              "<PIL.Image.Image image mode=RGB size=120x120 at 0x7FE569228E20>"
            ],
            "image/png": "[encoded data removed]"
          },
          "metadata": {}
        },
        {
          "output_type": "stream",
          "name": "stdout",
          "text": [
            "0.19458333333333333\n"
          ]
        },
        {
          "output_type": "display_data",
          "data": {
            "text/plain": [
              "<PIL.Image.Image image mode=RGB size=120x120 at 0x7FE569228160>"
            ],
            "image/png": "[encoded data removed]"
          },
          "metadata": {}
        },
        {
          "output_type": "stream",
          "name": "stdout",
          "text": [
            "0.0\n"
          ]
        },
        {
          "output_type": "display_data",
          "data": {
            "text/plain": [
              "<PIL.Image.Image image mode=RGB size=120x120 at 0x7FE573343EE0>"
            ],
            "image/png": "[encoded data removed]"
          },
          "metadata": {}
        },
        {
          "output_type": "stream",
          "name": "stdout",
          "text": [
            "0.0\n"
          ]
        },
        {
          "output_type": "display_data",
          "data": {
            "text/plain": [
              "<PIL.Image.Image image mode=RGB size=120x120 at 0x7FE569228B20>"
            ],
            "image/png": "[encoded data removed]"
          },
          "metadata": {}
        },
        {
          "output_type": "stream",
          "name": "stdout",
          "text": [
            "0.0\n"
          ]
        },
        {
          "output_type": "display_data",
          "data": {
            "text/plain": [
              "<PIL.Image.Image image mode=RGB size=120x120 at 0x7FE569228130>"
            ],
            "image/png": "[encoded data removed]"
          },
          "metadata": {}
        },
        {
          "output_type": "stream",
          "name": "stdout",
          "text": [
            "0.3451388888888889\n"
          ]
        },
        {
          "output_type": "display_data",
          "data": {
            "text/plain": [
              "<PIL.Image.Image image mode=RGB size=120x120 at 0x7FE573343EE0>"
            ],
            "image/png": "[encoded data removed]"
          },
          "metadata": {}
        },
        {
          "output_type": "stream",
          "name": "stdout",
          "text": [
            "0.2073611111111111\n"
          ]
        },
        {
          "output_type": "display_data",
          "data": {
            "text/plain": [
              "<PIL.Image.Image image mode=RGB size=120x120 at 0x7FE573343EE0>"
            ],
            "image/png": "[encoded data removed]"
          },
          "metadata": {}
        },
        {
          "output_type": "stream",
          "name": "stdout",
          "text": [
            "0.028680555555555598\n"
          ]
        },
        {
          "output_type": "display_data",
          "data": {
            "text/plain": [
              "<PIL.Image.Image image mode=RGB size=120x120 at 0x7FE569228130>"
            ],
            "image/png": "[encoded data removed]"
          },
          "metadata": {}
        },
        {
          "output_type": "stream",
          "name": "stdout",
          "text": [
            "0.3206944444444444\n"
          ]
        },
        {
          "output_type": "display_data",
          "data": {
            "text/plain": [
              "<PIL.Image.Image image mode=RGB size=120x120 at 0x7FE569228460>"
            ],
            "image/png": "[encoded data removed]"
          },
          "metadata": {}
        },
        {
          "output_type": "stream",
          "name": "stdout",
          "text": [
            "0.16902777777777778\n"
          ]
        },
        {
          "output_type": "display_data",
          "data": {
            "text/plain": [
              "<PIL.Image.Image image mode=RGB size=120x120 at 0x7FE573343EE0>"
            ],
            "image/png": "[encoded data removed]"
          },
          "metadata": {}
        },
        {
          "output_type": "stream",
          "name": "stdout",
          "text": [
            "0.08506944444444442\n"
          ]
        },
        {
          "output_type": "display_data",
          "data": {
            "text/plain": [
              "<PIL.Image.Image image mode=RGB size=120x120 at 0x7FE5692287C0>"
            ],
            "image/png": "[encoded data removed]"
          },
          "metadata": {}
        },
        {
          "output_type": "stream",
          "name": "stdout",
          "text": [
            "0.0\n"
          ]
        },
        {
          "output_type": "display_data",
          "data": {
            "text/plain": [
              "<PIL.Image.Image image mode=RGB size=120x120 at 0x7FE5692287F0>"
            ],
            "image/png": "[encoded data removed]"
          },
          "metadata": {}
        },
        {
          "output_type": "stream",
          "name": "stdout",
          "text": [
            "0.2210416666666667\n"
          ]
        },
        {
          "output_type": "display_data",
          "data": {
            "text/plain": [
              "<PIL.Image.Image image mode=RGB size=120x120 at 0x7FE573343EE0>"
            ],
            "image/png": "[encoded data removed]"
          },
          "metadata": {}
        },
        {
          "output_type": "stream",
          "name": "stdout",
          "text": [
            "0.04576388888888894\n"
          ]
        },
        {
          "output_type": "display_data",
          "data": {
            "text/plain": [
              "<PIL.Image.Image image mode=RGB size=120x120 at 0x7FE573343EE0>"
            ],
            "image/png": "[encoded data removed]"
          },
          "metadata": {}
        },
        {
          "output_type": "stream",
          "name": "stdout",
          "text": [
            "0.4203472222222222\n"
          ]
        },
        {
          "output_type": "display_data",
          "data": {
            "text/plain": [
              "<PIL.Image.Image image mode=RGB size=120x120 at 0x7FE573343EE0>"
            ],
            "image/png": "[encoded data removed]"
          },
          "metadata": {}
        },
        {
          "output_type": "stream",
          "name": "stdout",
          "text": [
            "0.2586111111111111\n"
          ]
        },
        {
          "output_type": "display_data",
          "data": {
            "text/plain": [
              "<PIL.Image.Image image mode=RGB size=120x120 at 0x7FE573343EE0>"
            ],
            "image/png": "[encoded data removed]"
          },
          "metadata": {}
        },
        {
          "output_type": "stream",
          "name": "stdout",
          "text": [
            "0.4822222222222222\n"
          ]
        },
        {
          "output_type": "display_data",
          "data": {
            "text/plain": [
              "<PIL.Image.Image image mode=RGB size=120x120 at 0x7FE573343EE0>"
            ],
            "image/png": "[encoded data removed]"
          },
          "metadata": {}
        },
        {
          "output_type": "stream",
          "name": "stdout",
          "text": [
            "0.44381944444444443\n"
          ]
        },
        {
          "output_type": "display_data",
          "data": {
            "text/plain": [
              "<PIL.Image.Image image mode=RGB size=120x120 at 0x7FE573343EE0>"
            ],
            "image/png": "[encoded data removed]"
          },
          "metadata": {}
        },
        {
          "output_type": "stream",
          "name": "stdout",
          "text": [
            "0.2278472222222222\n",
            "Ran out of attempts, bailing out at a 64.50444444444445 percent coverage\n"
          ]
        }
      ]
    }
  ]
}