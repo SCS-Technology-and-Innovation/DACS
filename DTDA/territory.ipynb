{
  "nbformat": 4,
  "nbformat_minor": 0,
  "metadata": {
    "colab": {
      "provenance": [],
      "authorship_tag": "ABX9TyPKHruXXrgeT69B9WHTzuHD",
      "include_colab_link": true
    },
    "kernelspec": {
      "name": "python3",
      "display_name": "Python 3"
    },
    "language_info": {
      "name": "python"
    }
  },
  "cells": [
    {
      "cell_type": "markdown",
      "metadata": {
        "id": "view-in-github",
        "colab_type": "text"
      },
      "source": [
        "<a href=\"https://colab.research.google.com/github/SCS-Technology-and-Innovation/DACS/blob/main/DTDA/territory.ipynb\" target=\"_parent\"><img src=\"https://colab.research.google.com/assets/colab-badge.svg\" alt=\"Open In Colab\"/></a>"
      ]
    },
    {
      "cell_type": "markdown",
      "source": [
        "# Territorial design\n",
        "\n",
        "## Which branch will deliver my pizza?\n",
        "\n",
        "In this module we will revisit the concept of iterating over a set of steps. To keep things simple, let us assume that we live in a city that is perfectly square-shaped. Also, we have flying cars and we can just travel in a straight line from one point to another. All the buildings are the same exact size, also perfect squares, and right next to one another. Mathematicians and physicists like it when the world works like this. It makes it easy to get started with understanding how things work. Potentially complicated details can be introduced later on to see what, if anything, fundamentally alters our understanding of a situation.\n",
        "\n",
        "So, we need a square piece of land. Let's use an image. Each pixel of the image can be a lot on which we can put a building. We just need to decide how many pixels wide (and long, since it's a square) our city will be; this is referred to as the *resolution* of the image. We can use a variable for this. "
      ],
      "metadata": {
        "id": "AevXHLXxd1DQ"
      }
    },
    {
      "cell_type": "code",
      "source": [
        "size = 50\n",
        "from PIL import Image # a library for handling images\n",
        "color = (0, 255, 0) # green (as an integer RGB color code)\n",
        "town = Image.new('RGB', (size, size), color)\n",
        "display(town)"
      ],
      "metadata": {
        "colab": {
          "base_uri": "https://localhost:8080/",
          "height": 67
        },
        "id": "uIOCmk0ie9Z0",
        "outputId": "4ce8dbf5-f769-456a-e314-788f2e0780ff"
      },
      "execution_count": 5,
      "outputs": [
        {
          "output_type": "display_data",
          "data": {
            "text/plain": [
              "<PIL.Image.Image image mode=RGB size=50x50 at 0x7F164378B640>"
            ],
            "image/png": "[encoded data removed]"
          },
          "metadata": {}
        }
      ]
    },
    {
      "cell_type": "markdown",
      "source": [
        "That'a cute little town. Very green, too. Now, let's open a pizza place. In such a town, the address boils down to indicating the *row* (the north-south position, if you think of the image as a map) and the *column8 (the west-east position) of the pixel in which we will put the building that the pizza place operates at."
      ],
      "metadata": {
        "id": "lUrif5lGfxp_"
      }
    },
    {
      "cell_type": "code",
      "source": [
        "positions = town.load() # access the pixels by row and column numbers; top left will be (0, 0)\n",
        "row = 15\n",
        "column = 30\n",
        "positions[row, column] = (0, 0, 0) # black building\n",
        "display(town)"
      ],
      "metadata": {
        "colab": {
          "base_uri": "https://localhost:8080/",
          "height": 67
        },
        "id": "56PfJJmmgHIA",
        "outputId": "48249c15-1473-4022-fdcb-70fd227dffcc"
      },
      "execution_count": 6,
      "outputs": [
        {
          "output_type": "display_data",
          "data": {
            "text/plain": [
              "<PIL.Image.Image image mode=RGB size=50x50 at 0x7F164378B640>"
            ],
            "image/png": "[encoded data removed]"
          },
          "metadata": {}
        }
      ]
    },
    {
      "cell_type": "markdown",
      "source": [
        "It is so very small and hard to see. Let's scale up the image five times, essentially making every pixel of our image a five-by-five square of 25 pixels total. "
      ],
      "metadata": {
        "id": "-KcaGLkwhBNx"
      }
    },
    {
      "cell_type": "code",
      "source": [
        "magnification = 5\n",
        "bigger = size * magnification\n",
        "visible = town.resize((bigger, bigger), Image.NEAREST) \n",
        "display(visible)"
      ],
      "metadata": {
        "colab": {
          "base_uri": "https://localhost:8080/",
          "height": 267
        },
        "id": "NugUI0kVhSG1",
        "outputId": "6e8585be-9b75-408f-9732-6dfc69897275"
      },
      "execution_count": 20,
      "outputs": [
        {
          "output_type": "display_data",
          "data": {
            "text/plain": [
              "<PIL.Image.Image image mode=RGB size=250x250 at 0x7F163B43BA00>"
            ],
            "image/png": "[encoded data removed]"
          },
          "metadata": {}
        }
      ]
    },
    {
      "cell_type": "markdown",
      "source": [
        "We can alter the magnification and play the cell again until we are happy with the ease at which the building can be seen.\n",
        "\n",
        "Since we only have one pizza place, we assume that the same one deliver to the whole town. Let's add another one, to spice things up (and reduce the delivery times). We can make a *list* of the building locations so that we do not need to manually repeat the positioning."
      ],
      "metadata": {
        "id": "o7z7oBcDifBa"
      }
    },
    {
      "cell_type": "code",
      "source": [
        "town = Image.new('RGB', (size, size), color) # reset the town\n",
        "positions = town.load() # reload the access\n",
        "restaurants = [ (15, 30), (40, 20) ] # store the coordinates of each restaurant\n",
        "for (row, column) in restaurants: # iterate over the stored coordinates\n",
        "  positions[row, column] = (0, 0, 0) # put the buildings\n",
        "visible = town.resize((bigger, bigger), Image.NEAREST) # scale the image up\n",
        "display(visible) # show it"
      ],
      "metadata": {
        "colab": {
          "base_uri": "https://localhost:8080/",
          "height": 267
        },
        "id": "Fii8qO-0i7-N",
        "outputId": "e94f0e5d-f8d1-4c43-ffec-38775e7b0074"
      },
      "execution_count": 21,
      "outputs": [
        {
          "output_type": "display_data",
          "data": {
            "text/plain": [
              "<PIL.Image.Image image mode=RGB size=250x250 at 0x7F164378B580>"
            ],
            "image/png": "[encoded data removed]"
          },
          "metadata": {}
        }
      ]
    },
    {
      "cell_type": "markdown",
      "source": [
        "Now we have to decide what's the boundary of the territory of each of the two restaurants. Let's start with a simple rule: each location will get their pizzas from whichever restaurant is *closer*. \n",
        "\n",
        "This means that we have to define *distance*. Since the premise was that we could have flying cars, we can go for the \"bird flight\" distance, called *Euclidean distance*.\n",
        "\n",
        "Given two positions, we compute their Euclidean distance by first seeing how far apart the *rows* are. Then we look at the separation of the *columns*. Then, we take the *square* of each separation, sum them up, and take the square-root of the whole thing. This sounds like a perfect *subroutine*."
      ],
      "metadata": {
        "id": "MOINc4NQjaIO"
      }
    },
    {
      "cell_type": "code",
      "source": [
        "from math import sqrt # square root already exists as a subroutine in a library for math stuff\n",
        "\n",
        "def distance(firstPosition, secondPosition):\n",
        "  (firstRow, firstColumn) = firstPosition # access row and column\n",
        "  (secondRow, secondColumn) = secondPosition\n",
        "  rowSeparation = firstRow - secondRow # subtract to compute how far apart they are\n",
        "  columnSeparation = firstColumn - secondColumn\n",
        "  combined = rowSeparation**2 + columnSeparation**2 # sum of squares\n",
        "  return sqrt(combined) # the result is the square root\n",
        "\n",
        "pos1 = (10, 20)\n",
        "pos2 = (15, 15)\n",
        "distance(pos1, pos2)"
      ],
      "metadata": {
        "colab": {
          "base_uri": "https://localhost:8080/"
        },
        "id": "FB_ZDqXckSCD",
        "outputId": "905b5703-6944-496e-e35c-3f12525016af"
      },
      "execution_count": 22,
      "outputs": [
        {
          "output_type": "execute_result",
          "data": {
            "text/plain": [
              "7.0710678118654755"
            ]
          },
          "metadata": {},
          "execution_count": 22
        }
      ]
    },
    {
      "cell_type": "markdown",
      "source": [
        "This is not by any means the *only* way to measure distance, but it is good enough for our purposes of understanding territories.\n",
        "\n",
        "Let's *iterate* over lots in town and see which of our restaurants is *closer*, meaning \"which of the options minimizes the distance\". This is referred to as *optimization* since we wish to assign for each address the *optimal* restaurant in terms of minimum delivery distance."
      ],
      "metadata": {
        "id": "TVn8RpJ0lK3b"
      }
    },
    {
      "cell_type": "code",
      "source": [
        "lots = [ (0, 0), (10, 50), (20, 25), (30, 5), (45, 15) ]\n",
        "for lot in lots:\n",
        "  distances = [ distance(lot, restaurant) for restaurant in restaurants ]\n",
        "  smallest = min(distances)\n",
        "  closest = distances.index(smallest)\n",
        "  print(lot, closest, smallest)"
      ],
      "metadata": {
        "colab": {
          "base_uri": "https://localhost:8080/"
        },
        "id": "f6PpFJCmll2F",
        "outputId": "0c788345-bf44-4ca1-f4f5-e752b4776790"
      },
      "execution_count": 24,
      "outputs": [
        {
          "output_type": "stream",
          "name": "stdout",
          "text": [
            "(0, 0) 0 33.54101966249684\n",
            "(10, 50) 0 20.615528128088304\n",
            "(20, 25) 0 7.0710678118654755\n",
            "(30, 5) 1 18.027756377319946\n",
            "(45, 15) 1 7.0710678118654755\n"
          ]
        }
      ]
    },
    {
      "cell_type": "markdown",
      "source": [
        "So, for those five locations in particular, the first restaurant (at position zero of the list of restaurants) is closer for the first three locations, whereas the second one is closer for the last two. \n",
        "\n",
        "To visualize this, let's assign each restaurant it's own color. The first one can be the \"blue branch\" and the second one the \"purple branch\". Then, we can color every lot in the whole town by the color of the branch that is closest to them."
      ],
      "metadata": {
        "id": "cDzAiYqWmeIC"
      }
    },
    {
      "cell_type": "code",
      "source": [
        "colors = [ (0, 0, 255), (255, 0, 255) ] # blue and purple\n",
        "print(colors[0])\n",
        "print(colors[1])"
      ],
      "metadata": {
        "colab": {
          "base_uri": "https://localhost:8080/"
        },
        "id": "fWigTAhBnAcy",
        "outputId": "ef05dbef-299b-47bc-a743-352f2e6f4a18"
      },
      "execution_count": 27,
      "outputs": [
        {
          "output_type": "stream",
          "name": "stdout",
          "text": [
            "(0, 0, 255)\n",
            "(255, 0, 255)\n"
          ]
        }
      ]
    },
    {
      "cell_type": "code",
      "source": [
        "for row in range(size): # every row in town\n",
        "  for column in range(size): # every column in town\n",
        "    lot = (row, column)\n",
        "    if lot not in restaurants: # if it is not a restaurant location\n",
        "      distances = [ distance(lot, restaurant) for restaurant in restaurants ]\n",
        "      smallest = min(distances)\n",
        "      closest = distances.index(smallest)\n",
        "      positions[row, column] = colors[closest]"
      ],
      "metadata": {
        "id": "_WA3X_F3oGHM"
      },
      "execution_count": 28,
      "outputs": []
    },
    {
      "cell_type": "markdown",
      "source": [
        "Let's see what this looks like."
      ],
      "metadata": {
        "id": "h-KVvHaMoRWV"
      }
    },
    {
      "cell_type": "code",
      "source": [
        "visible = town.resize((bigger, bigger), Image.NEAREST) # scale the image up\n",
        "display(visible) # show it"
      ],
      "metadata": {
        "colab": {
          "base_uri": "https://localhost:8080/",
          "height": 267
        },
        "id": "n7x9Pk_0oTfU",
        "outputId": "e8083a94-b1d5-4790-d3c0-e82b66e9e047"
      },
      "execution_count": 29,
      "outputs": [
        {
          "output_type": "display_data",
          "data": {
            "text/plain": [
              "<PIL.Image.Image image mode=RGB size=250x250 at 0x7F163B2C7610>"
            ],
            "image/png": "[encoded data removed]"
          },
          "metadata": {}
        }
      ]
    },
    {
      "cell_type": "markdown",
      "source": [
        "What if we have more restaurants? The *logic* remains **exactly the same**. We just need more colors (as many as we have restaurants). We could use a library that has a subroutine that generates a *palette* for that. And we could choose the restaurant positions pseudorandomly to try out different configurations. "
      ],
      "metadata": {
        "id": "SqPJd7daoY3P"
      }
    },
    {
      "cell_type": "code",
      "source": [
        "howMany = 7\n",
        "import seaborn as sns\n",
        "palette = sns.color_palette('bright', howMany) # see https://seaborn.pydata.org/generated/seaborn.color_palette.html\n",
        "colors = palette.as_hex()\n",
        "colors"
      ],
      "metadata": {
        "colab": {
          "base_uri": "https://localhost:8080/",
          "height": 76
        },
        "id": "JYNbq_jjpD8R",
        "outputId": "39fb861b-d82b-4284-c13d-aca2399411ad"
      },
      "execution_count": 44,
      "outputs": [
        {
          "output_type": "execute_result",
          "data": {
            "text/plain": [
              "['#023eff', '#ff7c00', '#1ac938', '#e8000b', '#8b2be2', '#9f4800', '#f14cc1']"
            ],
            "text/html": [
              "<svg  width=\"385\" height=\"55\"><rect x=\"0\" y=\"0\" width=\"55\" height=\"55\" style=\"fill:#023eff;stroke-width:2;stroke:rgb(255,255,255)\"/><rect x=\"55\" y=\"0\" width=\"55\" height=\"55\" style=\"fill:#ff7c00;stroke-width:2;stroke:rgb(255,255,255)\"/><rect x=\"110\" y=\"0\" width=\"55\" height=\"55\" style=\"fill:#1ac938;stroke-width:2;stroke:rgb(255,255,255)\"/><rect x=\"165\" y=\"0\" width=\"55\" height=\"55\" style=\"fill:#e8000b;stroke-width:2;stroke:rgb(255,255,255)\"/><rect x=\"220\" y=\"0\" width=\"55\" height=\"55\" style=\"fill:#8b2be2;stroke-width:2;stroke:rgb(255,255,255)\"/><rect x=\"275\" y=\"0\" width=\"55\" height=\"55\" style=\"fill:#9f4800;stroke-width:2;stroke:rgb(255,255,255)\"/><rect x=\"330\" y=\"0\" width=\"55\" height=\"55\" style=\"fill:#f14cc1;stroke-width:2;stroke:rgb(255,255,255)\"/></svg>"
            ]
          },
          "metadata": {},
          "execution_count": 44
        }
      ]
    },
    {
      "cell_type": "code",
      "source": [
        "from random import randint # pseudorandom integers\n",
        "restaurants = [] # empty list\n",
        "while len(restaurants) < howMany: # until the length reaches the desired value\n",
        "  row = randint(0, size - 1) # pick a row pseudorandomly\n",
        "  column =  randint(0, size - 1) # pick a column pseudorandomly\n",
        "  pos = (row, column)\n",
        "  if pos not in restaurants: # if there is no restaurant there yet\n",
        "    restaurants.append(pos) # add it to the end of the list\n",
        "restaurants"
      ],
      "metadata": {
        "colab": {
          "base_uri": "https://localhost:8080/"
        },
        "id": "yUOXCYaQp8AB",
        "outputId": "c19b5ea5-9db8-4810-cea3-18eabd5954da"
      },
      "execution_count": 39,
      "outputs": [
        {
          "output_type": "execute_result",
          "data": {
            "text/plain": [
              "[(17, 7), (11, 26), (30, 30), (33, 21), (32, 31), (29, 36), (43, 1)]"
            ]
          },
          "metadata": {},
          "execution_count": 39
        }
      ]
    },
    {
      "cell_type": "code",
      "source": [
        "town = Image.new('RGB', (size, size), color) # reset the town\n",
        "positions = town.load() # reload the access\n",
        "for (row, column) in restaurants: # iterate over the stored coordinates\n",
        "  positions[row, column] = (0, 0, 0) # put the restaurant buildings\n",
        "visible = town.resize((bigger, bigger), Image.NEAREST) # scale the image up\n",
        "display(visible) # show just the restaurants"
      ],
      "metadata": {
        "colab": {
          "base_uri": "https://localhost:8080/",
          "height": 267
        },
        "id": "Ju9-4o_Cp4rx",
        "outputId": "f76b3c0d-1256-4268-f557-e6fc228d7a62"
      },
      "execution_count": 40,
      "outputs": [
        {
          "output_type": "display_data",
          "data": {
            "text/plain": [
              "<PIL.Image.Image image mode=RGB size=250x250 at 0x7F163B2C7A30>"
            ],
            "image/png": "[encoded data removed]"
          },
          "metadata": {}
        }
      ]
    },
    {
      "cell_type": "code",
      "source": [
        "from PIL import ImageColor\n",
        "for row in range(size): # every row in town\n",
        "  for column in range(size): # every column in town\n",
        "    lot = (row, column)\n",
        "    if lot not in restaurants: # if it is not a restaurant location\n",
        "      distances = [ distance(lot, restaurant) for restaurant in restaurants ]\n",
        "      smallest = min(distances)\n",
        "      closest = distances.index(smallest)\n",
        "      positions[row, column] = ImageColor.getcolor(colors[closest], 'RGB')\n",
        "visible = town.resize((bigger, bigger), Image.NEAREST) # scale the image up\n",
        "display(visible) # show the territories"
      ],
      "metadata": {
        "colab": {
          "base_uri": "https://localhost:8080/",
          "height": 267
        },
        "id": "4Cogmusvqp6P",
        "outputId": "4e4f6586-353e-426d-9f0b-b37d29b02935"
      },
      "execution_count": 46,
      "outputs": [
        {
          "output_type": "display_data",
          "data": {
            "text/plain": [
              "<PIL.Image.Image image mode=RGB size=250x250 at 0x7F1633B07940>"
            ],
            "image/png": "[encoded data removed]"
          },
          "metadata": {}
        }
      ]
    },
    {
      "cell_type": "markdown",
      "source": [
        "Let's put the whole thing into one single block of code so we can easily alter the size of the town, the number of restaurants, and the magnification of the map when we draw it."
      ],
      "metadata": {
        "id": "PhoL34gFrSvx"
      }
    },
    {
      "cell_type": "code",
      "source": [
        "size = 80\n",
        "magnification = 10\n",
        "howMany = 15\n",
        "\n",
        "town = Image.new('RGB', (size, size))\n",
        "positions = town.load() # access the pixels by row and column numbers; top left will be (0, 0)\n",
        "\n",
        "restaurants = [] # empty list\n",
        "while len(restaurants) < howMany: # until the length reaches the desired value\n",
        "  pos = (randint(0, size - 1), randint(0, size - 1))\n",
        "  if pos not in restaurants: # if there is no restaurant there yet\n",
        "    restaurants.append(pos) # add it to the end of the list\n",
        "\n",
        "colors = sns.color_palette('Paired', howMany).as_hex()\n",
        "for row in range(size): # every row in town\n",
        "  for column in range(size): # every column in town\n",
        "    lot = (row, column)\n",
        "    if lot not in restaurants: # if it is not a restaurant location\n",
        "      distances = [ distance(lot, restaurant) for restaurant in restaurants ]\n",
        "      closest = distances.index(min(distances))\n",
        "      positions[row, column] = ImageColor.getcolor(colors[closest], 'RGB')\n",
        "\n",
        "bigger = size * magnification\n",
        "visible = town.resize((bigger, bigger), Image.NEAREST) # scale\n",
        "display(visible) # show "
      ],
      "metadata": {
        "colab": {
          "base_uri": "https://localhost:8080/",
          "height": 817
        },
        "id": "B9hQh0k1rdxf",
        "outputId": "e443dadf-fa63-454e-c0a3-e0990b009dd4"
      },
      "execution_count": 53,
      "outputs": [
        {
          "output_type": "display_data",
          "data": {
            "text/plain": [
              "<PIL.Image.Image image mode=RGB size=800x800 at 0x7F1633AE0DC0>"
            ],
            "image/png": "[encoded data removed]"
          },
          "metadata": {}
        }
      ]
    }
  ]
}